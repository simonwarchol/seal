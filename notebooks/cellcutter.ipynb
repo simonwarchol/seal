{
 "cells": [
  {
   "cell_type": "code",
   "execution_count": 62,
   "metadata": {},
   "outputs": [],
   "source": [
    "import tifffile as tf\n",
    "import zarr\n",
    "import dask.array as da\n",
    "import pandas as pd\n",
    "import numpy as np\n",
    "import matplotlib.pyplot as plt\n",
    "from tqdm.auto import tqdm\n",
    "import cellcutter\n",
    "import cellcutter.cli\n",
    "from numcodecs import Blosc\n",
    "\n",
    "# import closest\n",
    "# import forcelayout as fl\n",
    "# import gridify\n"
   ]
  },
  {
   "cell_type": "code",
   "execution_count": 63,
   "metadata": {},
   "outputs": [],
   "source": [
    "\n",
    "\n",
    "\n",
    "\n",
    "# image_path = \"/mnt/c/Users/simon/Documents/Greg/for_simon/tif/WD-76845-097.ome.tif\"\n",
    "# image_path = \"/Users/swarchol/Research/exemplar-001/registration/exemplar-001.ome.tif\"\n",
    "image_path = \"/Volumes/Simon/Greg/WD-76845-097.ome.tif\"\n",
    "\n",
    "# segmentation_path = \"/mnt/c/Users/simon/Documents/Greg/for_simon/segmentation_mask/WD-76845-097.tif\"\n",
    "segmentation_path = \"/Users/swarchol/Research/exemplar-001/segmentation/unmicst-exemplar-001/nuclei.ome.tif\"\n",
    "\n",
    "# csv_path = \"/mnt/c/Users/simon/Documents/Greg/for_simon/unmicst-WD-76845-097_cellRing.csv\"\n",
    "csv_path = \"/Users/swarchol/Research/exemplar-001/quantification/exemplar-001--unmicst_cell_umap_7_22.csv\"\n",
    "\n",
    "dest_path = \"/Users/swarchol/Research/exemplar-001/cut\"\n",
    "\n",
    "\n",
    "\n",
    "\n"
   ]
  },
  {
   "cell_type": "code",
   "execution_count": 66,
   "metadata": {},
   "outputs": [
    {
     "name": "stdout",
     "output_type": "stream",
     "text": [
      "tifffile                  2024.5.22          pyhd8ed1ab_0    conda-forge\n"
     ]
    }
   ],
   "source": [
    "!conda list | grep tifffile"
   ]
  },
  {
   "cell_type": "code",
   "execution_count": 65,
   "metadata": {},
   "outputs": [
    {
     "ename": "AttributeError",
     "evalue": "'TiffFile' object has no attribute 'size'",
     "output_type": "error",
     "traceback": [
      "\u001b[0;31m---------------------------------------------------------------------------\u001b[0m",
      "\u001b[0;31mAttributeError\u001b[0m                            Traceback (most recent call last)",
      "\u001b[0;32m/var/folders/ps/x7v31pds3gn4t11djwg0t03h0000gp/T/ipykernel_7135/463622314.py\u001b[0m in \u001b[0;36m?\u001b[0;34m()\u001b[0m\n\u001b[1;32m      1\u001b[0m \u001b[0;31m# image_pyramid, multiscale = get_dask_arr(tf.TiffFile(image_path, is_ome=False))\u001b[0m\u001b[0;34m\u001b[0m\u001b[0;34m\u001b[0m\u001b[0m\n\u001b[1;32m      2\u001b[0m \u001b[0;31m# label_pyramid, _ = get_dask_arr(tf.TiffFile(segmentation_path, is_ome=False))\u001b[0m\u001b[0;34m\u001b[0m\u001b[0;34m\u001b[0m\u001b[0m\n\u001b[1;32m      3\u001b[0m \u001b[0;31m# df = pd.read_csv(csv_path)\u001b[0m\u001b[0;34m\u001b[0m\u001b[0;34m\u001b[0m\u001b[0m\n\u001b[1;32m      4\u001b[0m \u001b[0mimg\u001b[0m \u001b[0;34m=\u001b[0m \u001b[0;34m(\u001b[0m\u001b[0mtf\u001b[0m\u001b[0;34m.\u001b[0m\u001b[0mTiffFile\u001b[0m\u001b[0;34m(\u001b[0m\u001b[0mimage_path\u001b[0m\u001b[0;34m,\u001b[0m \u001b[0mis_ome\u001b[0m\u001b[0;34m=\u001b[0m\u001b[0;32mFalse\u001b[0m\u001b[0;34m)\u001b[0m\u001b[0;34m)\u001b[0m\u001b[0;34m\u001b[0m\u001b[0;34m\u001b[0m\u001b[0m\n\u001b[0;32m----> 5\u001b[0;31m \u001b[0mprint\u001b[0m\u001b[0;34m(\u001b[0m\u001b[0mimg\u001b[0m\u001b[0;34m.\u001b[0m\u001b[0msize\u001b[0m\u001b[0;34m,\u001b[0m \u001b[0mlen\u001b[0m\u001b[0;34m(\u001b[0m\u001b[0mimg\u001b[0m\u001b[0;34m.\u001b[0m\u001b[0mpages\u001b[0m\u001b[0;34m)\u001b[0m\u001b[0;34m)\u001b[0m\u001b[0;34m\u001b[0m\u001b[0;34m\u001b[0m\u001b[0m\n\u001b[0m",
      "\u001b[0;32m~/mambaforge/envs/mattress/lib/python3.11/site-packages/tifffile/tifffile.py\u001b[0m in \u001b[0;36m?\u001b[0;34m(self, name)\u001b[0m\n\u001b[1;32m   6764\u001b[0m                 \u001b[0;32mreturn\u001b[0m \u001b[0;32mFalse\u001b[0m\u001b[0;34m\u001b[0m\u001b[0;34m\u001b[0m\u001b[0m\n\u001b[1;32m   6765\u001b[0m             \u001b[0mvalue\u001b[0m \u001b[0;34m=\u001b[0m \u001b[0mbool\u001b[0m\u001b[0;34m(\u001b[0m\u001b[0mgetattr\u001b[0m\u001b[0;34m(\u001b[0m\u001b[0mself\u001b[0m\u001b[0;34m.\u001b[0m\u001b[0mpages\u001b[0m\u001b[0;34m.\u001b[0m\u001b[0mfirst\u001b[0m\u001b[0;34m,\u001b[0m \u001b[0mname\u001b[0m\u001b[0;34m)\u001b[0m\u001b[0;34m)\u001b[0m\u001b[0;34m\u001b[0m\u001b[0;34m\u001b[0m\u001b[0m\n\u001b[1;32m   6766\u001b[0m             \u001b[0msetattr\u001b[0m\u001b[0;34m(\u001b[0m\u001b[0mself\u001b[0m\u001b[0;34m,\u001b[0m \u001b[0mname\u001b[0m\u001b[0;34m,\u001b[0m \u001b[0mvalue\u001b[0m\u001b[0;34m)\u001b[0m\u001b[0;34m\u001b[0m\u001b[0;34m\u001b[0m\u001b[0m\n\u001b[1;32m   6767\u001b[0m             \u001b[0;32mreturn\u001b[0m \u001b[0mvalue\u001b[0m\u001b[0;34m\u001b[0m\u001b[0;34m\u001b[0m\u001b[0m\n\u001b[0;32m-> 6768\u001b[0;31m         raise AttributeError(\n\u001b[0m\u001b[1;32m   6769\u001b[0m             \u001b[0;34mf'{self.__class__.__name__!r} object has no attribute {name!r}'\u001b[0m\u001b[0;34m\u001b[0m\u001b[0;34m\u001b[0m\u001b[0m\n\u001b[1;32m   6770\u001b[0m         )\n",
      "\u001b[0;31mAttributeError\u001b[0m: 'TiffFile' object has no attribute 'size'"
     ]
    }
   ],
   "source": [
    "# image_pyramid, multiscale = get_dask_arr(tf.TiffFile(image_path, is_ome=False))\n",
    "# label_pyramid, _ = get_dask_arr(tf.TiffFile(segmentation_path, is_ome=False))\n",
    "# df = pd.read_csv(csv_path)\n",
    "img = (tf.TiffFile(image_path, is_ome=False))\n"
   ]
  },
  {
   "cell_type": "code",
   "execution_count": 55,
   "metadata": {},
   "outputs": [
    {
     "name": "stderr",
     "output_type": "stream",
     "text": [
      "DEBUG:root:test\n"
     ]
    }
   ],
   "source": [
    "import logging\n",
    "logger = logging.getLogger()\n",
    "logger.setLevel(logging.DEBUG)\n",
    "logging.debug(\"test\")\n"
   ]
  },
  {
   "cell_type": "code",
   "execution_count": 56,
   "metadata": {},
   "outputs": [
    {
     "name": "stderr",
     "output_type": "stream",
     "text": [
      "  0%|          | 0/12 [00:00<?, ?it/s]INFO:root:Namespace(p=8, z=False, force=False, window_size=None, mask_cells=False, channels=[1], cache_size=4294967296, chunk_size=32, cells_per_chunk=None, IMAGE='/Users/swarchol/Research/exemplar-001/registration/exemplar-001.ome.tif', SEGMENTATION_MASK='/Users/swarchol/Research/exemplar-001/segmentation/unmicst-exemplar-001/nuclei.ome.tif', CELL_DATA='/Users/swarchol/Research/exemplar-001/quantification/exemplar-001--unmicst_cell_umap_7_22.csv', DESTINATION='/Users/swarchol/Research/exemplar-001/cut/channel_0')\n",
      "INFO:root:Loading cell data\n",
      "INFO:root:Check if all cell IDs from the CSV are represented in the segmentation mask\n",
      "INFO:root:Remove cells from segmentation mask that are not present in the CSV\n",
      "INFO:root:Finding window size\n",
      "INFO:root:Window size automatically set to (39, 39)\n",
      "INFO:root:Found 11170 cells\n",
      "INFO:root:Using chunks of shape (1, 11030, 39, 39)\n",
      "INFO:root:Writing thumbnails to /Users/swarchol/Research/exemplar-001/cut/channel_0\n",
      "INFO:root:Image size (15 MB) is smaller than cache size (4294967296 MB). Loading entire image into memory.\n",
      "INFO:root:Tiles 11030-11170 done\n",
      "INFO:root:Tiles 0-11030 done\n",
      "INFO:root:Done\n",
      "  8%|▊         | 1/12 [00:01<00:18,  1.67s/it]INFO:root:Namespace(p=8, z=False, force=False, window_size=None, mask_cells=False, channels=[2], cache_size=4294967296, chunk_size=32, cells_per_chunk=None, IMAGE='/Users/swarchol/Research/exemplar-001/registration/exemplar-001.ome.tif', SEGMENTATION_MASK='/Users/swarchol/Research/exemplar-001/segmentation/unmicst-exemplar-001/nuclei.ome.tif', CELL_DATA='/Users/swarchol/Research/exemplar-001/quantification/exemplar-001--unmicst_cell_umap_7_22.csv', DESTINATION='/Users/swarchol/Research/exemplar-001/cut/channel_1')\n",
      "INFO:root:Loading cell data\n",
      "INFO:root:Check if all cell IDs from the CSV are represented in the segmentation mask\n",
      "INFO:root:Remove cells from segmentation mask that are not present in the CSV\n",
      "INFO:root:Finding window size\n",
      "INFO:root:Window size automatically set to (39, 39)\n",
      "INFO:root:Found 11170 cells\n",
      "INFO:root:Using chunks of shape (1, 11030, 39, 39)\n",
      "INFO:root:Writing thumbnails to /Users/swarchol/Research/exemplar-001/cut/channel_1\n",
      "INFO:root:Image size (15 MB) is smaller than cache size (4294967296 MB). Loading entire image into memory.\n",
      "INFO:root:Tiles 11030-11170 done\n",
      "INFO:root:Tiles 0-11030 done\n",
      "INFO:root:Done\n",
      " 17%|█▋        | 2/12 [00:02<00:13,  1.36s/it]INFO:root:Namespace(p=8, z=False, force=False, window_size=None, mask_cells=False, channels=[3], cache_size=4294967296, chunk_size=32, cells_per_chunk=None, IMAGE='/Users/swarchol/Research/exemplar-001/registration/exemplar-001.ome.tif', SEGMENTATION_MASK='/Users/swarchol/Research/exemplar-001/segmentation/unmicst-exemplar-001/nuclei.ome.tif', CELL_DATA='/Users/swarchol/Research/exemplar-001/quantification/exemplar-001--unmicst_cell_umap_7_22.csv', DESTINATION='/Users/swarchol/Research/exemplar-001/cut/channel_2')\n",
      "INFO:root:Loading cell data\n",
      "INFO:root:Check if all cell IDs from the CSV are represented in the segmentation mask\n",
      "INFO:root:Remove cells from segmentation mask that are not present in the CSV\n",
      "INFO:root:Finding window size\n",
      "INFO:root:Window size automatically set to (39, 39)\n",
      "INFO:root:Found 11170 cells\n",
      "INFO:root:Using chunks of shape (1, 11030, 39, 39)\n",
      "INFO:root:Writing thumbnails to /Users/swarchol/Research/exemplar-001/cut/channel_2\n",
      "INFO:root:Image size (15 MB) is smaller than cache size (4294967296 MB). Loading entire image into memory.\n",
      "INFO:root:Tiles 11030-11170 done\n",
      "INFO:root:Tiles 0-11030 done\n",
      "INFO:root:Done\n",
      " 25%|██▌       | 3/12 [00:03<00:11,  1.27s/it]INFO:root:Namespace(p=8, z=False, force=False, window_size=None, mask_cells=False, channels=[4], cache_size=4294967296, chunk_size=32, cells_per_chunk=None, IMAGE='/Users/swarchol/Research/exemplar-001/registration/exemplar-001.ome.tif', SEGMENTATION_MASK='/Users/swarchol/Research/exemplar-001/segmentation/unmicst-exemplar-001/nuclei.ome.tif', CELL_DATA='/Users/swarchol/Research/exemplar-001/quantification/exemplar-001--unmicst_cell_umap_7_22.csv', DESTINATION='/Users/swarchol/Research/exemplar-001/cut/channel_3')\n",
      "INFO:root:Loading cell data\n",
      "INFO:root:Check if all cell IDs from the CSV are represented in the segmentation mask\n",
      "INFO:root:Remove cells from segmentation mask that are not present in the CSV\n",
      "INFO:root:Finding window size\n",
      "INFO:root:Window size automatically set to (39, 39)\n",
      "INFO:root:Found 11170 cells\n",
      "INFO:root:Using chunks of shape (1, 11030, 39, 39)\n",
      "INFO:root:Writing thumbnails to /Users/swarchol/Research/exemplar-001/cut/channel_3\n",
      "INFO:root:Image size (15 MB) is smaller than cache size (4294967296 MB). Loading entire image into memory.\n",
      "INFO:root:Tiles 11030-11170 done\n",
      "INFO:root:Tiles 0-11030 done\n",
      "INFO:root:Done\n",
      " 33%|███▎      | 4/12 [00:05<00:09,  1.23s/it]INFO:root:Namespace(p=8, z=False, force=False, window_size=None, mask_cells=False, channels=[5], cache_size=4294967296, chunk_size=32, cells_per_chunk=None, IMAGE='/Users/swarchol/Research/exemplar-001/registration/exemplar-001.ome.tif', SEGMENTATION_MASK='/Users/swarchol/Research/exemplar-001/segmentation/unmicst-exemplar-001/nuclei.ome.tif', CELL_DATA='/Users/swarchol/Research/exemplar-001/quantification/exemplar-001--unmicst_cell_umap_7_22.csv', DESTINATION='/Users/swarchol/Research/exemplar-001/cut/channel_4')\n",
      "INFO:root:Loading cell data\n",
      "INFO:root:Check if all cell IDs from the CSV are represented in the segmentation mask\n",
      "INFO:root:Remove cells from segmentation mask that are not present in the CSV\n",
      "INFO:root:Finding window size\n",
      "INFO:root:Window size automatically set to (39, 39)\n",
      "INFO:root:Found 11170 cells\n",
      "INFO:root:Using chunks of shape (1, 11030, 39, 39)\n",
      "INFO:root:Writing thumbnails to /Users/swarchol/Research/exemplar-001/cut/channel_4\n",
      "INFO:root:Image size (15 MB) is smaller than cache size (4294967296 MB). Loading entire image into memory.\n",
      "INFO:root:Tiles 11030-11170 done\n",
      "INFO:root:Tiles 0-11030 done\n",
      "INFO:root:Done\n",
      " 42%|████▏     | 5/12 [00:06<00:08,  1.24s/it]INFO:root:Namespace(p=8, z=False, force=False, window_size=None, mask_cells=False, channels=[6], cache_size=4294967296, chunk_size=32, cells_per_chunk=None, IMAGE='/Users/swarchol/Research/exemplar-001/registration/exemplar-001.ome.tif', SEGMENTATION_MASK='/Users/swarchol/Research/exemplar-001/segmentation/unmicst-exemplar-001/nuclei.ome.tif', CELL_DATA='/Users/swarchol/Research/exemplar-001/quantification/exemplar-001--unmicst_cell_umap_7_22.csv', DESTINATION='/Users/swarchol/Research/exemplar-001/cut/channel_5')\n",
      "INFO:root:Loading cell data\n",
      "INFO:root:Check if all cell IDs from the CSV are represented in the segmentation mask\n",
      "INFO:root:Remove cells from segmentation mask that are not present in the CSV\n",
      "INFO:root:Finding window size\n",
      "INFO:root:Window size automatically set to (39, 39)\n",
      "INFO:root:Found 11170 cells\n",
      "INFO:root:Using chunks of shape (1, 11030, 39, 39)\n",
      "INFO:root:Writing thumbnails to /Users/swarchol/Research/exemplar-001/cut/channel_5\n",
      "INFO:root:Image size (15 MB) is smaller than cache size (4294967296 MB). Loading entire image into memory.\n",
      "INFO:root:Tiles 11030-11170 done\n",
      "INFO:root:Tiles 0-11030 done\n",
      "INFO:root:Done\n",
      " 50%|█████     | 6/12 [00:07<00:07,  1.26s/it]INFO:root:Namespace(p=8, z=False, force=False, window_size=None, mask_cells=False, channels=[7], cache_size=4294967296, chunk_size=32, cells_per_chunk=None, IMAGE='/Users/swarchol/Research/exemplar-001/registration/exemplar-001.ome.tif', SEGMENTATION_MASK='/Users/swarchol/Research/exemplar-001/segmentation/unmicst-exemplar-001/nuclei.ome.tif', CELL_DATA='/Users/swarchol/Research/exemplar-001/quantification/exemplar-001--unmicst_cell_umap_7_22.csv', DESTINATION='/Users/swarchol/Research/exemplar-001/cut/channel_6')\n",
      "INFO:root:Loading cell data\n",
      "INFO:root:Check if all cell IDs from the CSV are represented in the segmentation mask\n",
      "INFO:root:Remove cells from segmentation mask that are not present in the CSV\n",
      "INFO:root:Finding window size\n",
      "INFO:root:Window size automatically set to (39, 39)\n",
      "INFO:root:Found 11170 cells\n",
      "INFO:root:Using chunks of shape (1, 11030, 39, 39)\n",
      "INFO:root:Writing thumbnails to /Users/swarchol/Research/exemplar-001/cut/channel_6\n",
      "INFO:root:Image size (15 MB) is smaller than cache size (4294967296 MB). Loading entire image into memory.\n",
      "INFO:root:Tiles 11030-11170 done\n",
      "INFO:root:Tiles 0-11030 done\n",
      "INFO:root:Done\n",
      " 58%|█████▊    | 7/12 [00:08<00:06,  1.24s/it]INFO:root:Namespace(p=8, z=False, force=False, window_size=None, mask_cells=False, channels=[8], cache_size=4294967296, chunk_size=32, cells_per_chunk=None, IMAGE='/Users/swarchol/Research/exemplar-001/registration/exemplar-001.ome.tif', SEGMENTATION_MASK='/Users/swarchol/Research/exemplar-001/segmentation/unmicst-exemplar-001/nuclei.ome.tif', CELL_DATA='/Users/swarchol/Research/exemplar-001/quantification/exemplar-001--unmicst_cell_umap_7_22.csv', DESTINATION='/Users/swarchol/Research/exemplar-001/cut/channel_7')\n",
      "INFO:root:Loading cell data\n",
      "INFO:root:Check if all cell IDs from the CSV are represented in the segmentation mask\n",
      "INFO:root:Remove cells from segmentation mask that are not present in the CSV\n",
      "INFO:root:Finding window size\n",
      "INFO:root:Window size automatically set to (39, 39)\n",
      "INFO:root:Found 11170 cells\n",
      "INFO:root:Using chunks of shape (1, 11030, 39, 39)\n",
      "INFO:root:Writing thumbnails to /Users/swarchol/Research/exemplar-001/cut/channel_7\n",
      "INFO:root:Image size (15 MB) is smaller than cache size (4294967296 MB). Loading entire image into memory.\n",
      "INFO:root:Tiles 11030-11170 done\n",
      "INFO:root:Tiles 0-11030 done\n",
      "INFO:root:Done\n",
      " 67%|██████▋   | 8/12 [00:10<00:04,  1.25s/it]INFO:root:Namespace(p=8, z=False, force=False, window_size=None, mask_cells=False, channels=[9], cache_size=4294967296, chunk_size=32, cells_per_chunk=None, IMAGE='/Users/swarchol/Research/exemplar-001/registration/exemplar-001.ome.tif', SEGMENTATION_MASK='/Users/swarchol/Research/exemplar-001/segmentation/unmicst-exemplar-001/nuclei.ome.tif', CELL_DATA='/Users/swarchol/Research/exemplar-001/quantification/exemplar-001--unmicst_cell_umap_7_22.csv', DESTINATION='/Users/swarchol/Research/exemplar-001/cut/channel_8')\n",
      "INFO:root:Loading cell data\n",
      "INFO:root:Check if all cell IDs from the CSV are represented in the segmentation mask\n",
      "INFO:root:Remove cells from segmentation mask that are not present in the CSV\n",
      "INFO:root:Finding window size\n",
      "INFO:root:Window size automatically set to (39, 39)\n",
      "INFO:root:Found 11170 cells\n",
      "INFO:root:Using chunks of shape (1, 11030, 39, 39)\n",
      "INFO:root:Writing thumbnails to /Users/swarchol/Research/exemplar-001/cut/channel_8\n",
      "INFO:root:Image size (15 MB) is smaller than cache size (4294967296 MB). Loading entire image into memory.\n",
      "INFO:root:Tiles 11030-11170 done\n",
      "INFO:root:Tiles 0-11030 done\n",
      "INFO:root:Done\n",
      " 75%|███████▌  | 9/12 [00:11<00:03,  1.25s/it]INFO:root:Namespace(p=8, z=False, force=False, window_size=None, mask_cells=False, channels=[10], cache_size=4294967296, chunk_size=32, cells_per_chunk=None, IMAGE='/Users/swarchol/Research/exemplar-001/registration/exemplar-001.ome.tif', SEGMENTATION_MASK='/Users/swarchol/Research/exemplar-001/segmentation/unmicst-exemplar-001/nuclei.ome.tif', CELL_DATA='/Users/swarchol/Research/exemplar-001/quantification/exemplar-001--unmicst_cell_umap_7_22.csv', DESTINATION='/Users/swarchol/Research/exemplar-001/cut/channel_9')\n",
      "INFO:root:Loading cell data\n",
      "INFO:root:Check if all cell IDs from the CSV are represented in the segmentation mask\n",
      "INFO:root:Remove cells from segmentation mask that are not present in the CSV\n",
      "INFO:root:Finding window size\n",
      "INFO:root:Window size automatically set to (39, 39)\n",
      "INFO:root:Found 11170 cells\n",
      "INFO:root:Using chunks of shape (1, 11030, 39, 39)\n",
      "INFO:root:Writing thumbnails to /Users/swarchol/Research/exemplar-001/cut/channel_9\n",
      "INFO:root:Image size (15 MB) is smaller than cache size (4294967296 MB). Loading entire image into memory.\n",
      "INFO:root:Tiles 11030-11170 done\n",
      "INFO:root:Tiles 0-11030 done\n",
      "INFO:root:Done\n",
      " 83%|████████▎ | 10/12 [00:12<00:02,  1.26s/it]INFO:root:Namespace(p=8, z=False, force=False, window_size=None, mask_cells=False, channels=[11], cache_size=4294967296, chunk_size=32, cells_per_chunk=None, IMAGE='/Users/swarchol/Research/exemplar-001/registration/exemplar-001.ome.tif', SEGMENTATION_MASK='/Users/swarchol/Research/exemplar-001/segmentation/unmicst-exemplar-001/nuclei.ome.tif', CELL_DATA='/Users/swarchol/Research/exemplar-001/quantification/exemplar-001--unmicst_cell_umap_7_22.csv', DESTINATION='/Users/swarchol/Research/exemplar-001/cut/channel_10')\n",
      "INFO:root:Loading cell data\n",
      "INFO:root:Check if all cell IDs from the CSV are represented in the segmentation mask\n",
      "INFO:root:Remove cells from segmentation mask that are not present in the CSV\n",
      "INFO:root:Finding window size\n",
      "INFO:root:Window size automatically set to (39, 39)\n",
      "INFO:root:Found 11170 cells\n",
      "INFO:root:Using chunks of shape (1, 11030, 39, 39)\n",
      "INFO:root:Writing thumbnails to /Users/swarchol/Research/exemplar-001/cut/channel_10\n",
      "INFO:root:Image size (15 MB) is smaller than cache size (4294967296 MB). Loading entire image into memory.\n",
      "INFO:root:Tiles 11030-11170 done\n",
      "INFO:root:Tiles 0-11030 done\n",
      "INFO:root:Done\n",
      " 92%|█████████▏| 11/12 [00:13<00:01,  1.27s/it]INFO:root:Namespace(p=8, z=False, force=False, window_size=None, mask_cells=False, channels=[12], cache_size=4294967296, chunk_size=32, cells_per_chunk=None, IMAGE='/Users/swarchol/Research/exemplar-001/registration/exemplar-001.ome.tif', SEGMENTATION_MASK='/Users/swarchol/Research/exemplar-001/segmentation/unmicst-exemplar-001/nuclei.ome.tif', CELL_DATA='/Users/swarchol/Research/exemplar-001/quantification/exemplar-001--unmicst_cell_umap_7_22.csv', DESTINATION='/Users/swarchol/Research/exemplar-001/cut/channel_11')\n",
      "INFO:root:Loading cell data\n",
      "INFO:root:Check if all cell IDs from the CSV are represented in the segmentation mask\n",
      "INFO:root:Remove cells from segmentation mask that are not present in the CSV\n",
      "INFO:root:Finding window size\n",
      "INFO:root:Window size automatically set to (39, 39)\n",
      "INFO:root:Found 11170 cells\n",
      "INFO:root:Using chunks of shape (1, 11030, 39, 39)\n",
      "INFO:root:Writing thumbnails to /Users/swarchol/Research/exemplar-001/cut/channel_11\n",
      "INFO:root:Image size (15 MB) is smaller than cache size (4294967296 MB). Loading entire image into memory.\n",
      "INFO:root:Tiles 11030-11170 done\n",
      "INFO:root:Tiles 0-11030 done\n",
      "INFO:root:Done\n",
      "100%|██████████| 12/12 [00:15<00:00,  1.27s/it]\n",
      "INFO:root:Namespace(p=8, z=False, force=False, window_size=None, mask_cells=True, channels=[12], cache_size=4294967296, chunk_size=32, cells_per_chunk=None, IMAGE='/Users/swarchol/Research/exemplar-001/registration/exemplar-001.ome.tif', SEGMENTATION_MASK='/Users/swarchol/Research/exemplar-001/segmentation/unmicst-exemplar-001/nuclei.ome.tif', CELL_DATA='/Users/swarchol/Research/exemplar-001/quantification/exemplar-001--unmicst_cell_umap_7_22.csv', DESTINATION='/Users/swarchol/Research/exemplar-001/cut/mask')\n",
      "INFO:root:Loading cell data\n",
      "INFO:root:Check if all cell IDs from the CSV are represented in the segmentation mask\n",
      "INFO:root:Remove cells from segmentation mask that are not present in the CSV\n",
      "INFO:root:Finding window size\n",
      "INFO:root:Window size automatically set to (39, 39)\n",
      "INFO:root:Found 11170 cells\n",
      "INFO:root:Using chunks of shape (1, 11030, 39, 39)\n",
      "INFO:root:Writing thumbnails to /Users/swarchol/Research/exemplar-001/cut/mask\n",
      "INFO:root:Cutting cell mask thumbnails\n",
      "DEBUG:root:Writing mask thumbnails to /Users/swarchol/Research/exemplar-001/cut/mask_mask\n",
      "INFO:root:Image size (31 MB) is smaller than cache size (4294967296 MB). Loading entire image into memory.\n",
      "INFO:root:Tiles 11030-11170 done\n",
      "INFO:root:Tiles 0-11030 done\n",
      "INFO:root:Done\n"
     ]
    },
    {
     "data": {
      "text/plain": [
       "'/Users/swarchol/Research/exemplar-001/cut/mask'"
      ]
     },
     "execution_count": 56,
     "metadata": {},
     "output_type": "execute_result"
    }
   ],
   "source": [
    "for i in tqdm(range(len(img.pages))):\n",
    "    sample_path = f\"{dest_path}/channel_{i}\"\n",
    "    args = [image_path,\n",
    "    segmentation_path,\n",
    "    csv_path,\n",
    "    sample_path,\n",
    "    \"-p\", \"8\",  # Number of processes\n",
    "        \"--channels\", (str(i+1)),  # Specific channels to include\n",
    "        \"--cache-size\", str(1024 * 1024 * 1024 * 4),  # Cache size\n",
    "    ]\n",
    "    cellcutter.cli.cut(args)\n",
    "    \n",
    "    \n",
    "# Now Create the Mask\n",
    "sample_path = f\"{dest_path}/mask\"\n",
    "args = [image_path,\n",
    "segmentation_path,\n",
    "csv_path,\n",
    "sample_path,\n",
    "\"-p\", \"8\",  # Number of processes\n",
    "    \"--channels\", (str(i+1)),  # Specific channels to include\n",
    "    \"--cache-size\", str(1024 * 1024 * 1024 * 4),  # Cache size\n",
    "    \"--mask-cells\"\n",
    "    \n",
    "]\n",
    "cellcutter.cli.cut(args)\n",
    "# Remove the mask directory but keep mask_mask\n",
    "import shutil\n",
    "shutil.rmtree(f\"{dest_path}/mask\")\n",
    "shutil.move(f\"{dest_path}/mask_mask\", f\"{dest_path}/mask\")\n"
   ]
  },
  {
   "cell_type": "code",
   "execution_count": 57,
   "metadata": {},
   "outputs": [],
   "source": [
    "# zarr_list = [zarr.open(\"{dest_path}/channel_{i}\") for i in range(len(img.pages))]\n",
    "# dest_path\n",
    "paths_list = [f\"{dest_path}/channel_{i}\" for i in range(len(img.pages))]\n",
    "zarr_list = [zarr.open(path) for path in paths_list]\n"
   ]
  },
  {
   "cell_type": "code",
   "execution_count": 58,
   "metadata": {},
   "outputs": [],
   "source": [
    "combined_store = zarr.DirectoryStore(dest_path + \"/combined\")# [r.chunks for r in zarr_list]"
   ]
  },
  {
   "cell_type": "code",
   "execution_count": 59,
   "metadata": {},
   "outputs": [],
   "source": [
    "combined = zarr.create(\n",
    "            store=combined_store,\n",
    "            overwrite=True,\n",
    "            shape=(len(zarr_list), zarr_list[0].shape[1],zarr_list[0].shape[2],zarr_list[0].shape[3]),\n",
    "            dtype=zarr_list[0].dtype,\n",
    "            compressor=Blosc(cname=\"zstd\", clevel=2, shuffle=Blosc.SHUFFLE)        )"
   ]
  },
  {
   "cell_type": "code",
   "execution_count": 60,
   "metadata": {},
   "outputs": [
    {
     "name": "stderr",
     "output_type": "stream",
     "text": [
      "100%|██████████| 12/12 [00:03<00:00,  3.14it/s]\n"
     ]
    }
   ],
   "source": [
    "for i in tqdm(range(len(zarr_list))):\n",
    "    combined[i,:,:,:] = zarr_list[i][0]"
   ]
  },
  {
   "cell_type": "code",
   "execution_count": 61,
   "metadata": {},
   "outputs": [],
   "source": [
    "# Remove the individual channel zarrs\n",
    "for path in paths_list:\n",
    "    shutil.rmtree(path)"
   ]
  },
  {
   "cell_type": "code",
   "execution_count": null,
   "metadata": {},
   "outputs": [],
   "source": []
  }
 ],
 "metadata": {
  "kernelspec": {
   "display_name": "mattress",
   "language": "python",
   "name": "python3"
  },
  "language_info": {
   "codemirror_mode": {
    "name": "ipython",
    "version": 3
   },
   "file_extension": ".py",
   "mimetype": "text/x-python",
   "name": "python",
   "nbconvert_exporter": "python",
   "pygments_lexer": "ipython3",
   "version": "3.11.9"
  }
 },
 "nbformat": 4,
 "nbformat_minor": 2
}
