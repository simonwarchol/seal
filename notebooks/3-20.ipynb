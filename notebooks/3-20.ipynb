{
 "cells": [
  {
   "cell_type": "code",
   "execution_count": 2,
   "metadata": {},
   "outputs": [],
   "source": [
    "from sklearn.datasets import load_wine\n",
    "import xgboost as xgb\n",
    "import numpy as np\n",
    "import pandas as pd\n",
    "from sklearn.model_selection import train_test_split\n",
    "import shap\n",
    "import matplotlib.pyplot as plt\n",
    "from sklearn.preprocessing import LabelEncoder\n",
    "import json\n",
    "import numpy as np\n",
    "import pandas as pd\n",
    "import matplotlib.pyplot as plt\n",
    "import shap\n",
    "from sklearn.ensemble import RandomForestClassifier\n",
    "from sklearn.preprocessing import LabelEncoder\n",
    "from sklearn.metrics import classification_report\n",
    "from sklearn.model_selection import train_test_split\n",
    "import xgboost as xgb\n",
    "from scipy.spatial import ConvexHull, Delaunay\n",
    "import pickle\n",
    "import os\n",
    "import time\n",
    "# import torch\n",
    "# import torch.nn as nn\n",
    "from tqdm.auto import tqdm\n",
    "import numpy as np"
   ]
  },
  {
   "cell_type": "code",
   "execution_count": 3,
   "metadata": {},
   "outputs": [],
   "source": [
    "df = pd.read_csv(\"/Users/swarchol/Research/seal/data/updated_renamed.csv\")"
   ]
  },
  {
   "cell_type": "code",
   "execution_count": 4,
   "metadata": {},
   "outputs": [],
   "source": [
    "hdbscan_clusters = np.load('/Users/swarchol/cluster_2d.npy')"
   ]
  },
  {
   "cell_type": "code",
   "execution_count": 5,
   "metadata": {},
   "outputs": [
    {
     "data": {
      "text/plain": [
       "(933253, 50)"
      ]
     },
     "execution_count": 5,
     "metadata": {},
     "output_type": "execute_result"
    }
   ],
   "source": [
    "df.shape"
   ]
  },
  {
   "cell_type": "code",
   "execution_count": 6,
   "metadata": {},
   "outputs": [
    {
     "data": {
      "text/plain": [
       "(933253,)"
      ]
     },
     "execution_count": 6,
     "metadata": {},
     "output_type": "execute_result"
    }
   ],
   "source": [
    "hdbscan_clusters.shape"
   ]
  },
  {
   "cell_type": "code",
   "execution_count": 7,
   "metadata": {},
   "outputs": [],
   "source": [
    "df['hdbscan'] = hdbscan_clusters.tolist()"
   ]
  },
  {
   "cell_type": "code",
   "execution_count": 9,
   "metadata": {},
   "outputs": [
    {
     "name": "stdout",
     "output_type": "stream",
     "text": [
      "         CellID           DNA       DNA (2)       DNA (3)       CD3    CD45RO  \\\n",
      "0            47  15160.563636  46937.436364  42258.036364  0.235838  0.446541   \n",
      "1            49  11740.781250  50723.343750  37632.750000  0.227137  0.584889   \n",
      "2            51   9565.513514  35690.567568  27032.162162  0.200757  0.436587   \n",
      "3            52   7308.113636  24641.750000  19214.886364  0.228204  0.662923   \n",
      "4            53  19249.623188  57667.202899  53509.811594  0.261224  0.704192   \n",
      "...         ...           ...           ...           ...       ...       ...   \n",
      "933248  1242746  18694.276596  18604.936170  17079.659574  0.248739  0.205520   \n",
      "933249  1242748  31240.095238  34545.301587  32678.349206  0.361773  0.381520   \n",
      "933250  1242751  45004.015873  47513.269841  44139.714286  0.229271  0.467404   \n",
      "933251  1242753  33568.983607  35640.344262  31911.131148  0.233328  0.515689   \n",
      "933252  1242755  48775.119048  52493.119048  50648.773810  0.256532  0.610458   \n",
      "\n",
      "             DNA (4)  Pan-cytokeratin  Aortic smooth muscle actin  \\\n",
      "0       24461.163636         0.270726                    0.175902   \n",
      "1       20075.703125         0.307917                    0.174437   \n",
      "2       14392.621622         0.223040                    0.162788   \n",
      "3        9205.522727         0.272994                    0.207245   \n",
      "4       30691.275362         0.295741                    0.296045   \n",
      "...              ...              ...                         ...   \n",
      "933248   6982.680851         0.136490                    0.334573   \n",
      "933249  12513.238095         0.219673                    0.126889   \n",
      "933250  16901.253968         0.152905                    0.283555   \n",
      "933251  12369.524590         0.134693                    0.331565   \n",
      "933252  18830.000000         0.174021                    0.288553   \n",
      "\n",
      "             DNA (5)  ...        Sample  Condition  Replicate       emb1  \\\n",
      "0       29225.363636  ...  WD-76845-097        CRC          1   8.872235   \n",
      "1       23681.062500  ...  WD-76845-097        CRC          1   8.379912   \n",
      "2       16623.810811  ...  WD-76845-097        CRC          1   8.799885   \n",
      "3       11968.636364  ...  WD-76845-097        CRC          1   8.504932   \n",
      "4       35399.927536  ...  WD-76845-097        CRC          1   8.576233   \n",
      "...              ...  ...           ...        ...        ...        ...   \n",
      "933248   9554.489362  ...  WD-76845-097        CRC          1  18.186203   \n",
      "933249  17597.158730  ...  WD-76845-097        CRC          1  11.654654   \n",
      "933250  20190.285714  ...  WD-76845-097        CRC          1  18.262630   \n",
      "933251  15530.245902  ...  WD-76845-097        CRC          1  19.307392   \n",
      "933252  21534.476190  ...  WD-76845-097        CRC          1  19.353971   \n",
      "\n",
      "             emb2  cluster_2d        UMAP_X        UMAP_Y  kmeans  hdbscan  \n",
      "0       19.100700          -1  16034.611561  20497.943539       3        1  \n",
      "1       20.137026          48  15764.366949  21180.248327       3        1  \n",
      "2       19.362713          -1  15994.897394  20670.449801       3        1  \n",
      "3       20.219538          48  15832.992590  21234.573253       3        1  \n",
      "4       20.350970          48  15872.130942  21321.106528       3        1  \n",
      "...           ...         ...           ...           ...     ...      ...  \n",
      "933248   2.827556          72  21147.209738   9783.897947       2       17  \n",
      "933249  19.720820          -1  17561.929764  20906.223217       3        1  \n",
      "933250   3.071928          72  21189.161841   9944.789517      11       17  \n",
      "933251   3.061911          72  21762.649778   9938.194640       2        7  \n",
      "933252   3.066255          72  21788.217797   9941.054415       2        7  \n",
      "\n",
      "[933253 rows x 51 columns]\n"
     ]
    }
   ],
   "source": [
    "# Display the dataframe to see its contents\n",
    "print(df)\n",
    "\n",
    "# Write the dataframe to CSV without the index\n",
    "df.to_csv(\"/Users/swarchol/Research/seal/data/updated_renamed_with_hdbscan.csv\", index=False)\n"
   ]
  },
  {
   "cell_type": "code",
   "execution_count": 10,
   "metadata": {},
   "outputs": [],
   "source": [
    "df = pd.read_csv('/Users/swarchol/Research/seal/data/small.csv')"
   ]
  },
  {
   "cell_type": "code",
   "execution_count": 12,
   "metadata": {},
   "outputs": [],
   "source": [
    "df['hdbscan'] = hdbscan_clusters.tolist()\n",
    "df.to_csv('/Users/swarchol/Research/seal/data/small.csv', index=False)"
   ]
  },
  {
   "cell_type": "code",
   "execution_count": null,
   "metadata": {},
   "outputs": [],
   "source": []
  }
 ],
 "metadata": {
  "kernelspec": {
   "display_name": "jupyter",
   "language": "python",
   "name": "python3"
  },
  "language_info": {
   "codemirror_mode": {
    "name": "ipython",
    "version": 3
   },
   "file_extension": ".py",
   "mimetype": "text/x-python",
   "name": "python",
   "nbconvert_exporter": "python",
   "pygments_lexer": "ipython3",
   "version": "3.11.8"
  }
 },
 "nbformat": 4,
 "nbformat_minor": 2
}
