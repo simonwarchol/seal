{
 "cells": [
  {
   "cell_type": "code",
   "execution_count": 7,
   "metadata": {},
   "outputs": [],
   "source": [
    "\n",
    "import tifffile as tf\n",
    "import zarr\n",
    "import pandas as pd\n",
    "import numpy as np\n",
    "import matplotlib.pyplot as plt\n",
    "from tqdm.auto import tqdm\n",
    "from scipy.spatial import KDTree\n",
    "import numpy as np\n",
    "import pandas as pd\n",
    "import zarr\n",
    "from scipy.spatial import KDTree\n",
    "import tifffile as tf\n",
    "import matplotlib.pyplot as plt\n",
    "from tqdm import tqdm\n",
    "import dask.array as da\n",
    "import pickle\n",
    "from sklearn.ensemble import RandomForestClassifier\n",
    "from sklearn.inspection import permutation_importance\n",
    "from sklearn.cluster import KMeans\n",
    "from ome_types import from_tiff\n",
    "from tifffile import imwrite, tiffcomment\n",
    "\n",
    "\n",
    "\n"
   ]
  },
  {
   "cell_type": "code",
   "execution_count": 3,
   "metadata": {},
   "outputs": [],
   "source": [
    "csv_df = pd.read_csv('/Users/swarchol/Research/bed/data/for_simon_with_umap_lean.csv')"
   ]
  },
  {
   "cell_type": "code",
   "execution_count": 5,
   "metadata": {},
   "outputs": [
    {
     "data": {
      "text/plain": [
       "Index(['CellID', 'Hoechst0', 'Hoechst1', 'Hoechst2', 'anti_CD3', 'anti_CD45RO',\n",
       "       'Hoechst3', 'Keratin_570', 'aSMA_660', 'Hoechst4', 'CD4_488', 'CD45_PE',\n",
       "       'PD1_647', 'Hoechst5', 'CD20_488', 'CD68_555', 'CD8a_660', 'Hoechst6',\n",
       "       'CD163_488', 'FOXP3_570', 'PDL1_647', 'Hoechst7', 'Ecad_488',\n",
       "       'Vimentin_555', 'CDX2_647', 'Hoechst8', 'LaminABC_488', 'Desmin_555',\n",
       "       'CD31_647', 'Hoechst9', 'PCNA_488', 'CollagenIV_647', 'X_centroid',\n",
       "       'Y_centroid', 'emb1', 'emb2', 'cluster_2d', 'UMAP_X', 'UMAP_Y',\n",
       "       'kmeans'],\n",
       "      dtype='object')"
      ]
     },
     "execution_count": 5,
     "metadata": {},
     "output_type": "execute_result"
    }
   ],
   "source": [
    "csv_df.columns"
   ]
  },
  {
   "cell_type": "code",
   "execution_count": 8,
   "metadata": {},
   "outputs": [],
   "source": [
    "# cluster_df = pd.read_parquet('/Users/swarchol/Research/bed/data/for_simon_with_umap.parquet')\n",
    "ome = from_tiff('/Volumes/Simon/Greg/WD-76845-097.ome.tif')\n"
   ]
  },
  {
   "cell_type": "code",
   "execution_count": 20,
   "metadata": {},
   "outputs": [
    {
     "name": "stdout",
     "output_type": "stream",
     "text": [
      "DNA\n",
      "Autofluorescence-488nm\n",
      "Autofluorescence-555nm\n",
      "Autofluorescence-647nm\n",
      "DNA (2)\n",
      "Control-488nm\n",
      "Control-555nm\n",
      "Control-647nm\n",
      "DNA (3)\n",
      "CD3\n",
      "Na/K ATPase\n",
      "CD45RO\n",
      "DNA (4)\n",
      "Antigen Ki67\n",
      "Pan-cytokeratin\n",
      "Aortic smooth muscle actin\n",
      "DNA (5)\n",
      "CD4\n",
      "CD45\n",
      "PD-1\n",
      "DNA (6)\n",
      "CD20\n",
      "CD68\n",
      "CD8a\n",
      "DNA (7)\n",
      "CD163\n",
      "FOXP3\n",
      "PD-L1\n",
      "DNA (8)\n",
      "E-cadherin\n",
      "Vimentin\n",
      "CDX-2\n",
      "DNA (9)\n",
      "Lamin-A/B/C\n",
      "Desmin\n",
      "CD31\n",
      "DNA (10)\n",
      "PCNA\n",
      "Antigen Ki67 (2)\n",
      "Collagen\n"
     ]
    }
   ],
   "source": [
    "for i in range(len(ome.images[0].pixels.channels)):\n",
    "    print(ome.images[0].pixels.channels[i].name)"
   ]
  },
  {
   "cell_type": "code",
   "execution_count": 22,
   "metadata": {},
   "outputs": [],
   "source": [
    "csv_df.columns = ['CellID', 'DNA', 'DNA (2)', 'DNA (3)', 'CD3', 'CD45RO',\n",
    "       'DNA (4)', 'Pan-cytokeratin', 'Aortic smooth muscle actin', 'DNA (5)', 'CD4', 'CD45',\n",
    "       'PD-1', 'DNA (6)', 'CD20', 'CD68', 'CD8a', 'DNA (7)',\n",
    "       'CD163', 'FOXP3', 'PD-L1', 'DNA (8)', 'E-cadherin',\n",
    "       'Vimentin', 'CDX-2', 'DNA (9)', 'Lamin-A/B/C', 'Desmin',\n",
    "       'CD31', 'DNA (10)', 'PCNA', 'Collagen', 'X_centroid',\n",
    "       'Y_centroid', 'emb1', 'emb2', 'cluster_2d', 'UMAP_X', 'UMAP_Y',\n",
    "       'kmeans']"
   ]
  },
  {
   "cell_type": "code",
   "execution_count": 23,
   "metadata": {},
   "outputs": [],
   "source": [
    "csv_df.to_csv('/Users/swarchol/Research/bed/data/for_simon_with_umap_lean_new_columns.csv', index=False)"
   ]
  },
  {
   "cell_type": "code",
   "execution_count": null,
   "metadata": {},
   "outputs": [],
   "source": []
  }
 ],
 "metadata": {
  "kernelspec": {
   "display_name": "mattress",
   "language": "python",
   "name": "python3"
  },
  "language_info": {
   "codemirror_mode": {
    "name": "ipython",
    "version": 3
   },
   "file_extension": ".py",
   "mimetype": "text/x-python",
   "name": "python",
   "nbconvert_exporter": "python",
   "pygments_lexer": "ipython3",
   "version": "3.11.9"
  }
 },
 "nbformat": 4,
 "nbformat_minor": 2
}
