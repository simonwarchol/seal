{
 "cells": [
  {
   "cell_type": "code",
   "execution_count": 71,
   "metadata": {},
   "outputs": [],
   "source": [
    "\n",
    "import tifffile as tf\n",
    "import zarr\n",
    "import pandas as pd\n",
    "import numpy as np\n",
    "import matplotlib.pyplot as plt\n",
    "from tqdm.auto import tqdm\n",
    "from scipy.spatial import KDTree\n",
    "import numpy as np\n",
    "import pandas as pd\n",
    "import zarr\n",
    "from scipy.spatial import KDTree\n",
    "import tifffile as tf\n",
    "import matplotlib.pyplot as plt\n",
    "from tqdm import tqdm\n",
    "import dask.array as da\n",
    "import pickle\n",
    "from sklearn.ensemble import RandomForestClassifier\n",
    "from sklearn.inspection import permutation_importance\n",
    "from sklearn.cluster import KMeans\n",
    "\n",
    "from tifffile import imwrite, tiffcomment\n",
    "\n",
    "\n",
    "from ome_types import from_tiff\n"
   ]
  },
  {
   "cell_type": "code",
   "execution_count": 72,
   "metadata": {},
   "outputs": [],
   "source": [
    "meta = from_tiff('/Users/swarchol/Downloads/WD-76845-097_mask_pyr.ome.ome.tiff')"
   ]
  },
  {
   "cell_type": "code",
   "execution_count": 73,
   "metadata": {},
   "outputs": [
    {
     "data": {
      "text/plain": [
       "'<OME xmlns=\"http://www.openmicroscopy.org/Schemas/OME/2016-06\" xmlns:xsi=\"http://www.w3.org/2001/XMLSchema-instance\" xsi:schemaLocation=\"http://www.openmicroscopy.org/Schemas/OME/2016-06 http://www.openmicroscopy.org/Schemas/OME/2016-06/ome.xsd\" UUID=\"urn:uuid:05e74433-1a41-480d-b4e4-34c2409885cf\" Creator=\"tifffile.py 2024.9.20\">\\n  <Image ID=\"Image:0\" Name=\"Image0\">\\n    <Pixels ID=\"Pixels:0\" DimensionOrder=\"XYZCT\" Type=\"uint32\" SignificantBits=\"32\" Interleaved=\"false\" BigEndian=\"true\" SizeX=\"26139\" SizeY=\"27120\" SizeZ=\"1\" SizeC=\"1\" SizeT=\"1\" PhysicalSizeX=\"1.0\" PhysicalSizeXUnit=\"m\" PhysicalSizeY=\"1.0\" PhysicalSizeYUnit=\"m\">\\n      <Channel ID=\"Channel:0:0\" SamplesPerPixel=\"1\">\\n        <LightPath/>\\n      </Channel>\\n      <TiffData IFD=\"0\" PlaneCount=\"1\">\\n        <UUID FileName=\"WD-76845-097_mask_pyr.ome.ome.tiff\">urn:uuid:05e74433-1a41-480d-b4e4-34c2409885cf</UUID>\\n      </TiffData>\\n    </Pixels>\\n  </Image>\\n  <StructuredAnnotations>\\n    <MapAnnotation ID=\"Annotation:Resolution:0\" Namespace=\"openmicroscopy.org/PyramidResolution\">\\n      <Value>\\n        <M K=\"1\">13070 13560</M>\\n        <M K=\"2\">6535 6780</M>\\n        <M K=\"3\">3268 3390</M>\\n        <M K=\"4\">1634 1695</M>\\n        <M K=\"5\">817 848</M>\\n      </Value>\\n    </MapAnnotation>\\n  </StructuredAnnotations>\\n</OME>\\n'"
      ]
     },
     "execution_count": 73,
     "metadata": {},
     "output_type": "execute_result"
    }
   ],
   "source": [
    "meta.to_xml()"
   ]
  },
  {
   "cell_type": "code",
   "execution_count": null,
   "metadata": {},
   "outputs": [],
   "source": []
  },
  {
   "cell_type": "code",
   "execution_count": null,
   "metadata": {},
   "outputs": [],
   "source": []
  },
  {
   "cell_type": "code",
   "execution_count": 55,
   "metadata": {},
   "outputs": [],
   "source": [
    "new_xml = \"\"\"\n",
    "<OME\n",
    "\txmlns=\"http://www.openmicroscopy.org/Schemas/OME/2016-06\"\n",
    "\txmlns:xsi=\"http://www.w3.org/2001/XMLSchema-instance\" xsi:schemaLocation=\"http://www.openmicroscopy.org/Schemas/OME/2016-06 http://www.openmicroscopy.org/Schemas/OME/2016-06/ome.xsd\" UUID=\"urn:uuid:a4b434fd-eabd-43bb-8164-bcc96c26c2d4\" Creator=\"tifffile.py 2024.9.20\">\\n  \n",
    "\t<Image ID=\"Image:0\" Name=\"Image0\">\\n    \n",
    "\t\t<Pixels ID=\"Pixels:0\" DimensionOrder=\"XYZCT\" Type=\"uint32\" SignificantBits=\"32\" Interleaved=\"false\" BigEndian=\"true\" SizeX=\"26139\" SizeY=\"27120\" SizeZ=\"1\" SizeC=\"1\" SizeT=\"1\" PhysicalSizeX=\"1.0\" PhysicalSizeXUnit=\"µm\" PhysicalSizeY=\"1.0\" PhysicalSizeYUnit=\"µm\">\\n      \n",
    "\t\t\t<Channel ID=\"Channel:0:0\" SamplesPerPixel=\"1\">\\n        \n",
    "\t\t\t\t<LightPath/>\\n      \n",
    "\t\t\t</Channel>\\n      \n",
    "\t\t\t<TiffData IFD=\"0\" PlaneCount=\"1\">\\n        \n",
    "\t\t\t\t<UUID FileName=\"tiled-mask.ome.tif\">urn:uuid:a4b434fd-eabd-43bb-8164-bcc96c26c2d4</UUID>\\n      \n",
    "\t\t\t</TiffData>\\n    \n",
    "\t\t</Pixels>\\n  \n",
    "\t</Image>\\n  \n",
    "\t<StructuredAnnotations>\\n    \n",
    "\t\t<MapAnnotation ID=\"Annotation:Resolution:0\" Namespace=\"openmicroscopy.org/PyramidResolution\">\\n      \n",
    "\t\t\t<Value>\\n        \n",
    "\t\t\t\t<M K=\"1\">13070 13560</M>\\n        \n",
    "\t\t\t\t<M K=\"2\">6535 6780</M>\\n        \n",
    "\t\t\t\t<M K=\"3\">3268 3390</M>\\n        \n",
    "\t\t\t\t<M K=\"4\">1634 1695</M>\\n        \n",
    "\t\t\t\t<M K=\"5\">817 848</M>\\n      \n",
    "\t\t\t</Value>\\n    \n",
    "\t\t</MapAnnotation>\\n  \n",
    "\t</StructuredAnnotations>\\n\n",
    "</OME>\n",
    "\"\"\""
   ]
  },
  {
   "cell_type": "code",
   "execution_count": 56,
   "metadata": {},
   "outputs": [],
   "source": [
    "tiffcomment('/Users/swarchol/Downloads/tiled-mask.ome.tif', new_xml.encode('ascii', 'ignore'))\n"
   ]
  },
  {
   "cell_type": "code",
   "execution_count": 79,
   "metadata": {},
   "outputs": [
    {
     "name": "stdout",
     "output_type": "stream",
     "text": [
      "(27120, 26139) uint32\n",
      "(13560, 13069) uint32\n",
      "(6780, 6534) uint32\n",
      "(3390, 3267) uint32\n",
      "(1695, 1633) uint32\n",
      "(847, 816) uint32\n"
     ]
    }
   ],
   "source": [
    "til_io = tf.TiffFile('/Volumes/Simon/Greg/segmentation_mask/WD-76845-097.ome.tiff',is_ome=True)\n",
    "til_zarr = zarr.open(til_io.series[0].aszarr())\n",
    "for i in range(6):\n",
    "    print(til_zarr[i].shape, til_zarr[i].dtype)"
   ]
  },
  {
   "cell_type": "code",
   "execution_count": 75,
   "metadata": {},
   "outputs": [],
   "source": [
    "new_pyr_xml = \"\"\"\n",
    "<OME\n",
    "\txmlns=\"http://www.openmicroscopy.org/Schemas/OME/2016-06\"\n",
    "\txmlns:xsi=\"http://www.w3.org/2001/XMLSchema-instance\" xsi:schemaLocation=\"http://www.openmicroscopy.org/Schemas/OME/2016-06 http://www.openmicroscopy.org/Schemas/OME/2016-06/ome.xsd\" UUID=\"urn:uuid:05e74433-1a41-480d-b4e4-34c2409885cf\" Creator=\"tifffile.py 2024.9.20\">\\n  \n",
    "\t<Image ID=\"Image:0\" Name=\"Image0\">\\n    \n",
    "\t\t<Pixels ID=\"Pixels:0\" DimensionOrder=\"XYZCT\" Type=\"uint32\" SignificantBits=\"32\" Interleaved=\"false\" BigEndian=\"true\" SizeX=\"26139\" SizeY=\"27120\" SizeZ=\"1\" SizeC=\"1\" SizeT=\"1\" PhysicalSizeX=\"1.0\" PhysicalSizeXUnit=\"m\" PhysicalSizeY=\"1.0\" PhysicalSizeYUnit=\"m\">\\n      \n",
    "\t\t\t<Channel ID=\"Channel:0:0\" SamplesPerPixel=\"1\">\\n        \n",
    "\t\t\t\t<LightPath/>\\n      \n",
    "\t\t\t</Channel>\\n      \n",
    "\t\t\t<TiffData IFD=\"0\" PlaneCount=\"1\">\\n        \n",
    "\t\t\t\t<UUID FileName=\"WD-76845-097_mask_pyr.ome.ome.tiff\">urn:uuid:05e74433-1a41-480d-b4e4-34c2409885cf</UUID>\\n      \n",
    "\t\t\t</TiffData>\\n    \n",
    "\t\t</Pixels>\\n  \n",
    "\t</Image>\\n  \n",
    "\t<StructuredAnnotations>\\n    \n",
    "\t\t<MapAnnotation ID=\"Annotation:Resolution:0\" Namespace=\"openmicroscopy.org/PyramidResolution\">\\n      \n",
    "\t\t\t<Value>\\n        \n",
    "\t\t\t\t<M K=\"1\">13070 13560</M>\\n        \n",
    "\t\t\t\t<M K=\"2\">6535 6780</M>\\n        \n",
    "\t\t\t\t<M K=\"3\">3268 3390</M>\\n        \n",
    "\t\t\t\t<M K=\"4\">1634 1695</M>\\n        \n",
    "\t\t\t\t<M K=\"5\">817 848</M>\\n      \n",
    "\t\t\t</Value>\\n    \n",
    "\t\t</MapAnnotation>\\n  \n",
    "\t</StructuredAnnotations>\\n\n",
    "</OME>\\n'\n",
    "\"\"\""
   ]
  },
  {
   "cell_type": "code",
   "execution_count": 76,
   "metadata": {},
   "outputs": [],
   "source": [
    "tiffcomment('/Users/swarchol/Downloads/WD-76845-097_mask_pyr.ome copy.tif', new_xml.encode('ascii', 'ignore'))\n"
   ]
  },
  {
   "cell_type": "code",
   "execution_count": null,
   "metadata": {},
   "outputs": [],
   "source": []
  }
 ],
 "metadata": {
  "kernelspec": {
   "display_name": "mattress",
   "language": "python",
   "name": "python3"
  },
  "language_info": {
   "codemirror_mode": {
    "name": "ipython",
    "version": 3
   },
   "file_extension": ".py",
   "mimetype": "text/x-python",
   "name": "python",
   "nbconvert_exporter": "python",
   "pygments_lexer": "ipython3",
   "version": "3.11.9"
  }
 },
 "nbformat": 4,
 "nbformat_minor": 2
}
