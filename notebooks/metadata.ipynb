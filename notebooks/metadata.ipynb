{
 "cells": [
  {
   "cell_type": "code",
   "execution_count": 1,
   "metadata": {},
   "outputs": [],
   "source": [
    "from ome_types import from_tiff\n",
    "from tifffile import imwrite, tiffcomment\n",
    "\n"
   ]
  },
  {
   "cell_type": "code",
   "execution_count": 2,
   "metadata": {},
   "outputs": [],
   "source": [
    "# image_io = tf.TiffFile(,is_ome=True)\n",
    "\n",
    "ome = from_tiff('/Users/swarchol/Research/exemplar-001/registration/exemplar-001.ome.tif')\n",
    " "
   ]
  },
  {
   "cell_type": "code",
   "execution_count": 3,
   "metadata": {},
   "outputs": [],
   "source": [
    "tiffcomment('/Users/swarchol/Research/exemplar-001/new/tiled.ome.tif', ome.to_xml().encode('ascii', 'ignore'))\n"
   ]
  },
  {
   "cell_type": "code",
   "execution_count": null,
   "metadata": {},
   "outputs": [],
   "source": []
  },
  {
   "cell_type": "code",
   "execution_count": 12,
   "metadata": {},
   "outputs": [
    {
     "data": {
      "text/plain": [
       "OME(\n",
       "   images=[<1 field_type>],\n",
       "   uuid='urn:uuid:af0907d8-930b-11ef-b3d7-00155d0d21cd',\n",
       "   creator='tifffile.py 2024.9.20',\n",
       ")"
      ]
     },
     "execution_count": 12,
     "metadata": {},
     "output_type": "execute_result"
    }
   ],
   "source": [
    "# ome = from_tiff('/Users/swarchol/Downloads/tiled-mask.ome.tif')\n"
   ]
  },
  {
   "cell_type": "code",
   "execution_count": 13,
   "metadata": {},
   "outputs": [
    {
     "data": {
      "text/plain": [
       "[Image(\n",
       "    id='Image:0',\n",
       "    name='Image0',\n",
       "    pixels={'channels': [{'light_path': {}, 'id': 'Channel:0:0', 'samples_per_pixel': 1}], 'tiff_data_blocks': [{'plane_count': 1}], 'id': 'Pixels:0', 'dimension_order': <Pixels_DimensionOrder.XYCZT: 'XYCZT'>, 'type': <PixelType.UINT32: 'uint32'>, 'size_x': 26139, 'size_y': 27120, 'size_z': 1, 'size_c': 1, 'size_t': 1, 'physical_size_x': 1.0, 'physical_size_y': 1.0},\n",
       " )]"
      ]
     },
     "execution_count": 13,
     "metadata": {},
     "output_type": "execute_result"
    }
   ],
   "source": [
    "ome.images"
   ]
  },
  {
   "cell_type": "code",
   "execution_count": 4,
   "metadata": {},
   "outputs": [],
   "source": []
  },
  {
   "cell_type": "code",
   "execution_count": null,
   "metadata": {},
   "outputs": [],
   "source": []
  }
 ],
 "metadata": {
  "kernelspec": {
   "display_name": "mattress",
   "language": "python",
   "name": "python3"
  },
  "language_info": {
   "codemirror_mode": {
    "name": "ipython",
    "version": 3
   },
   "file_extension": ".py",
   "mimetype": "text/x-python",
   "name": "python",
   "nbconvert_exporter": "python",
   "pygments_lexer": "ipython3",
   "version": "3.11.9"
  }
 },
 "nbformat": 4,
 "nbformat_minor": 2
}
