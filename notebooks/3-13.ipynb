{
 "cells": [
  {
   "cell_type": "code",
   "execution_count": 12,
   "metadata": {},
   "outputs": [],
   "source": [
    "import palom\n",
    "import numpy as np\n",
    "import dask.array as da\n",
    "import os\n",
    "from vitessce import (\n",
    "    VitessceConfig,\n",
    "    Component as cm,\n",
    "    CoordinationType as ct,\n",
    "    OmeTiffWrapper,\n",
    "    MultiImageWrapper,\n",
    ")\n",
    "import generate_tiff_offsets"
   ]
  },
  {
   "cell_type": "code",
   "execution_count": 20,
   "metadata": {},
   "outputs": [
    {
     "name": "stdout",
     "output_type": "stream",
     "text": [
      "Requirement already satisfied: generate_tiff_offsets in /Users/swarchol/mambaforge/envs/jupyter/lib/python3.11/site-packages (0.1.9)\n",
      "Requirement already satisfied: palom in /Users/swarchol/mambaforge/envs/jupyter/lib/python3.11/site-packages (2024.12.1)\n",
      "Requirement already satisfied: numpy in /Users/swarchol/mambaforge/envs/jupyter/lib/python3.11/site-packages (1.24.4)\n",
      "Requirement already satisfied: dask in /Users/swarchol/mambaforge/envs/jupyter/lib/python3.11/site-packages (2025.2.0)\n",
      "Requirement already satisfied: vitessce in /Users/swarchol/mambaforge/envs/jupyter/lib/python3.11/site-packages (3.5.1)\n",
      "Requirement already satisfied: starlette==0.14.0 in /Users/swarchol/mambaforge/envs/jupyter/lib/python3.11/site-packages (0.14.0)\n",
      "Requirement already satisfied: ujson in /Users/swarchol/mambaforge/envs/jupyter/lib/python3.11/site-packages (5.10.0)\n",
      "Requirement already satisfied: tifffile>=2023.9.26 in /Users/swarchol/mambaforge/envs/jupyter/lib/python3.11/site-packages (from generate_tiff_offsets) (2025.2.18)\n",
      "Requirement already satisfied: fire>=0.6.0 in /Users/swarchol/mambaforge/envs/jupyter/lib/python3.11/site-packages (from palom) (0.7.0)\n",
      "Requirement already satisfied: imagecodecs>=2021.11.11 in /Users/swarchol/mambaforge/envs/jupyter/lib/python3.11/site-packages (from palom) (2024.12.30)\n",
      "Requirement already satisfied: loguru<0.6.0,>=0.5.3 in /Users/swarchol/mambaforge/envs/jupyter/lib/python3.11/site-packages (from palom) (0.5.3)\n",
      "Requirement already satisfied: matplotlib<4.0.0,>=3.4.3 in /Users/swarchol/mambaforge/envs/jupyter/lib/python3.11/site-packages (from palom) (3.10.0)\n",
      "Requirement already satisfied: napari-lazy-openslide>=0.2.0 in /Users/swarchol/mambaforge/envs/jupyter/lib/python3.11/site-packages (from palom) (0.3.0)\n",
      "Requirement already satisfied: ome-types>0.3 in /Users/swarchol/mambaforge/envs/jupyter/lib/python3.11/site-packages (from palom) (0.5.3)\n",
      "Requirement already satisfied: opencv-python<5.0.0.0,>=4.5.3.56 in /Users/swarchol/mambaforge/envs/jupyter/lib/python3.11/site-packages (from palom) (4.11.0.86)\n",
      "Requirement already satisfied: pint>=0.21 in /Users/swarchol/mambaforge/envs/jupyter/lib/python3.11/site-packages (from palom) (0.24.4)\n",
      "Collecting scikit-image<0.20,>=0.18 (from palom)\n",
      "  Using cached scikit_image-0.19.3-cp311-cp311-macosx_15_0_arm64.whl\n",
      "Requirement already satisfied: scikit-learn>=0.24 in /Users/swarchol/mambaforge/envs/jupyter/lib/python3.11/site-packages (from palom) (1.5.1)\n",
      "Requirement already satisfied: scipy<2.0.0,>=1.7.1 in /Users/swarchol/mambaforge/envs/jupyter/lib/python3.11/site-packages (from palom) (1.15.2)\n",
      "Requirement already satisfied: slideio<3.0.0,>=2.6.3 in /Users/swarchol/mambaforge/envs/jupyter/lib/python3.11/site-packages (from palom) (2.7.0)\n",
      "Collecting tifffile>=2023.9.26 (from generate_tiff_offsets)\n",
      "  Obtaining dependency information for tifffile>=2023.9.26 from https://files.pythonhosted.org/packages/d2/d7/ca95f347442e82700f591f3608e336596ee607daecbcad6a7ebd16ff5de4/tifffile-2024.7.2-py3-none-any.whl.metadata\n",
      "  Using cached tifffile-2024.7.2-py3-none-any.whl.metadata (30 kB)\n",
      "Requirement already satisfied: tqdm<5.0.0,>=4.62.3 in /Users/swarchol/mambaforge/envs/jupyter/lib/python3.11/site-packages (from palom) (4.67.1)\n",
      "Requirement already satisfied: yamale<5.0.0,>=4.0.2 in /Users/swarchol/mambaforge/envs/jupyter/lib/python3.11/site-packages (from palom) (4.0.4)\n",
      "Requirement already satisfied: zarr<2.15,>=2.10 in /Users/swarchol/mambaforge/envs/jupyter/lib/python3.11/site-packages (from palom) (2.14.0)\n",
      "Requirement already satisfied: click>=8.1 in /Users/swarchol/mambaforge/envs/jupyter/lib/python3.11/site-packages (from dask) (8.1.7)\n",
      "Requirement already satisfied: cloudpickle>=3.0.0 in /Users/swarchol/mambaforge/envs/jupyter/lib/python3.11/site-packages (from dask) (3.1.1)\n",
      "Requirement already satisfied: fsspec>=2021.09.0 in /Users/swarchol/mambaforge/envs/jupyter/lib/python3.11/site-packages (from dask) (2025.2.0)\n",
      "Requirement already satisfied: packaging>=20.0 in /Users/swarchol/mambaforge/envs/jupyter/lib/python3.11/site-packages (from dask) (23.1)\n",
      "Requirement already satisfied: partd>=1.4.0 in /Users/swarchol/mambaforge/envs/jupyter/lib/python3.11/site-packages (from dask) (1.4.2)\n",
      "Requirement already satisfied: pyyaml>=5.3.1 in /Users/swarchol/mambaforge/envs/jupyter/lib/python3.11/site-packages (from dask) (6.0.1)\n",
      "Requirement already satisfied: toolz>=0.10.0 in /Users/swarchol/mambaforge/envs/jupyter/lib/python3.11/site-packages (from dask) (1.0.0)\n",
      "Requirement already satisfied: importlib_metadata>=4.13.0 in /Users/swarchol/mambaforge/envs/jupyter/lib/python3.11/site-packages (from dask) (6.8.0)\n",
      "Requirement already satisfied: anndata>=0.7.8 in /Users/swarchol/mambaforge/envs/jupyter/lib/python3.11/site-packages (from vitessce) (0.11.3)\n",
      "Requirement already satisfied: black>=21.11b1 in /Users/swarchol/mambaforge/envs/jupyter/lib/python3.11/site-packages (from vitessce) (25.1.0)\n",
      "Requirement already satisfied: jsonschema>=3.2 in /Users/swarchol/mambaforge/envs/jupyter/lib/python3.11/site-packages (from vitessce) (4.19.0)\n",
      "Requirement already satisfied: negspy>=0.2.24 in /Users/swarchol/mambaforge/envs/jupyter/lib/python3.11/site-packages (from vitessce) (0.2.24)\n",
      "Requirement already satisfied: numcodecs>=0.5.7 in /Users/swarchol/mambaforge/envs/jupyter/lib/python3.11/site-packages (from vitessce) (0.15.1)\n",
      "Requirement already satisfied: ome-zarr>=0.8.3 in /Users/swarchol/mambaforge/envs/jupyter/lib/python3.11/site-packages (from vitessce) (0.10.3)\n",
      "Requirement already satisfied: pandas>=1.1.2 in /Users/swarchol/mambaforge/envs/jupyter/lib/python3.11/site-packages (from vitessce) (2.2.3)\n",
      "Requirement already satisfied: scanpy>=1.10.2 in /Users/swarchol/mambaforge/envs/jupyter/lib/python3.11/site-packages (from vitessce) (1.11.0)\n",
      "Requirement already satisfied: array-api-compat!=1.5,>1.4 in /Users/swarchol/mambaforge/envs/jupyter/lib/python3.11/site-packages (from anndata>=0.7.8->vitessce) (1.11)\n",
      "Requirement already satisfied: h5py>=3.7 in /Users/swarchol/mambaforge/envs/jupyter/lib/python3.11/site-packages (from anndata>=0.7.8->vitessce) (3.13.0)\n",
      "Requirement already satisfied: natsort in /Users/swarchol/mambaforge/envs/jupyter/lib/python3.11/site-packages (from anndata>=0.7.8->vitessce) (8.4.0)\n",
      "Requirement already satisfied: mypy-extensions>=0.4.3 in /Users/swarchol/mambaforge/envs/jupyter/lib/python3.11/site-packages (from black>=21.11b1->vitessce) (1.0.0)\n",
      "Requirement already satisfied: pathspec>=0.9.0 in /Users/swarchol/mambaforge/envs/jupyter/lib/python3.11/site-packages (from black>=21.11b1->vitessce) (0.12.1)\n",
      "Requirement already satisfied: platformdirs>=2 in /Users/swarchol/mambaforge/envs/jupyter/lib/python3.11/site-packages (from black>=21.11b1->vitessce) (3.10.0)\n",
      "Requirement already satisfied: termcolor in /Users/swarchol/mambaforge/envs/jupyter/lib/python3.11/site-packages (from fire>=0.6.0->palom) (2.5.0)\n",
      "Requirement already satisfied: zipp>=0.5 in /Users/swarchol/mambaforge/envs/jupyter/lib/python3.11/site-packages (from importlib_metadata>=4.13.0->dask) (3.16.2)\n",
      "Requirement already satisfied: attrs>=22.2.0 in /Users/swarchol/mambaforge/envs/jupyter/lib/python3.11/site-packages (from jsonschema>=3.2->vitessce) (23.1.0)\n",
      "Requirement already satisfied: jsonschema-specifications>=2023.03.6 in /Users/swarchol/mambaforge/envs/jupyter/lib/python3.11/site-packages (from jsonschema>=3.2->vitessce) (2023.7.1)\n",
      "Requirement already satisfied: referencing>=0.28.4 in /Users/swarchol/mambaforge/envs/jupyter/lib/python3.11/site-packages (from jsonschema>=3.2->vitessce) (0.30.2)\n",
      "Requirement already satisfied: rpds-py>=0.7.1 in /Users/swarchol/mambaforge/envs/jupyter/lib/python3.11/site-packages (from jsonschema>=3.2->vitessce) (0.10.2)\n",
      "Requirement already satisfied: contourpy>=1.0.1 in /Users/swarchol/mambaforge/envs/jupyter/lib/python3.11/site-packages (from matplotlib<4.0.0,>=3.4.3->palom) (1.2.0)\n",
      "Requirement already satisfied: cycler>=0.10 in /Users/swarchol/mambaforge/envs/jupyter/lib/python3.11/site-packages (from matplotlib<4.0.0,>=3.4.3->palom) (0.12.1)\n",
      "Requirement already satisfied: fonttools>=4.22.0 in /Users/swarchol/mambaforge/envs/jupyter/lib/python3.11/site-packages (from matplotlib<4.0.0,>=3.4.3->palom) (4.55.8)\n",
      "Requirement already satisfied: kiwisolver>=1.3.1 in /Users/swarchol/mambaforge/envs/jupyter/lib/python3.11/site-packages (from matplotlib<4.0.0,>=3.4.3->palom) (1.4.5)\n",
      "Requirement already satisfied: pillow>=8 in /Users/swarchol/mambaforge/envs/jupyter/lib/python3.11/site-packages (from matplotlib<4.0.0,>=3.4.3->palom) (10.2.0)\n",
      "Requirement already satisfied: pyparsing>=2.3.1 in /Users/swarchol/mambaforge/envs/jupyter/lib/python3.11/site-packages (from matplotlib<4.0.0,>=3.4.3->palom) (3.1.1)\n",
      "Requirement already satisfied: python-dateutil>=2.7 in /Users/swarchol/mambaforge/envs/jupyter/lib/python3.11/site-packages (from matplotlib<4.0.0,>=3.4.3->palom) (2.8.2)\n",
      "Requirement already satisfied: napari-plugin-engine>=0.1.4 in /Users/swarchol/mambaforge/envs/jupyter/lib/python3.11/site-packages (from napari-lazy-openslide>=0.2.0->palom) (0.2.0)\n",
      "Requirement already satisfied: openslide-python in /Users/swarchol/mambaforge/envs/jupyter/lib/python3.11/site-packages (from napari-lazy-openslide>=0.2.0->palom) (1.4.1)\n",
      "Requirement already satisfied: deprecated in /Users/swarchol/mambaforge/envs/jupyter/lib/python3.11/site-packages (from numcodecs>=0.5.7->vitessce) (1.2.18)\n",
      "Requirement already satisfied: pydantic!=2.0,!=2.1,!=2.2,!=2.3,>=1.10.16 in /Users/swarchol/mambaforge/envs/jupyter/lib/python3.11/site-packages (from ome-types>0.3->palom) (2.8.2)\n",
      "Requirement already satisfied: pydantic-compat>=0.1.0 in /Users/swarchol/mambaforge/envs/jupyter/lib/python3.11/site-packages (from ome-types>0.3->palom) (0.1.2)\n",
      "Requirement already satisfied: xsdata<24.4,>=23.6 in /Users/swarchol/mambaforge/envs/jupyter/lib/python3.11/site-packages (from ome-types>0.3->palom) (24.3.1)\n",
      "Requirement already satisfied: distributed in /Users/swarchol/mambaforge/envs/jupyter/lib/python3.11/site-packages (from ome-zarr>=0.8.3->vitessce) (2025.2.0)\n",
      "Requirement already satisfied: aiohttp<4 in /Users/swarchol/mambaforge/envs/jupyter/lib/python3.11/site-packages (from ome-zarr>=0.8.3->vitessce) (3.11.13)\n",
      "Requirement already satisfied: requests in /Users/swarchol/mambaforge/envs/jupyter/lib/python3.11/site-packages (from ome-zarr>=0.8.3->vitessce) (2.31.0)\n",
      "Requirement already satisfied: pytz>=2020.1 in /Users/swarchol/mambaforge/envs/jupyter/lib/python3.11/site-packages (from pandas>=1.1.2->vitessce) (2023.3.post1)\n",
      "Requirement already satisfied: tzdata>=2022.7 in /Users/swarchol/mambaforge/envs/jupyter/lib/python3.11/site-packages (from pandas>=1.1.2->vitessce) (2025.1)\n",
      "Requirement already satisfied: locket in /Users/swarchol/mambaforge/envs/jupyter/lib/python3.11/site-packages (from partd>=1.4.0->dask) (1.0.0)\n",
      "Requirement already satisfied: typing-extensions>=4.0.0 in /Users/swarchol/mambaforge/envs/jupyter/lib/python3.11/site-packages (from pint>=0.21->palom) (4.12.2)\n",
      "Requirement already satisfied: flexcache>=0.3 in /Users/swarchol/mambaforge/envs/jupyter/lib/python3.11/site-packages (from pint>=0.21->palom) (0.3)\n",
      "Requirement already satisfied: flexparser>=0.4 in /Users/swarchol/mambaforge/envs/jupyter/lib/python3.11/site-packages (from pint>=0.21->palom) (0.4)\n",
      "Requirement already satisfied: joblib in /Users/swarchol/mambaforge/envs/jupyter/lib/python3.11/site-packages (from scanpy>=1.10.2->vitessce) (1.4.2)\n",
      "Requirement already satisfied: legacy-api-wrap>=1.4 in /Users/swarchol/mambaforge/envs/jupyter/lib/python3.11/site-packages (from scanpy>=1.10.2->vitessce) (1.4.1)\n",
      "Requirement already satisfied: networkx>=2.7 in /Users/swarchol/mambaforge/envs/jupyter/lib/python3.11/site-packages (from scanpy>=1.10.2->vitessce) (3.4.2)\n",
      "Requirement already satisfied: numba>=0.57 in /Users/swarchol/mambaforge/envs/jupyter/lib/python3.11/site-packages (from scanpy>=1.10.2->vitessce) (0.57.1)\n",
      "Requirement already satisfied: patsy!=1.0.0 in /Users/swarchol/mambaforge/envs/jupyter/lib/python3.11/site-packages (from scanpy>=1.10.2->vitessce) (1.0.1)\n",
      "Requirement already satisfied: pynndescent>=0.5 in /Users/swarchol/mambaforge/envs/jupyter/lib/python3.11/site-packages (from scanpy>=1.10.2->vitessce) (0.5.13)\n",
      "Requirement already satisfied: seaborn>=0.13 in /Users/swarchol/mambaforge/envs/jupyter/lib/python3.11/site-packages (from scanpy>=1.10.2->vitessce) (0.13.2)\n",
      "Requirement already satisfied: session-info2 in /Users/swarchol/mambaforge/envs/jupyter/lib/python3.11/site-packages (from scanpy>=1.10.2->vitessce) (0.1.2)\n",
      "Requirement already satisfied: statsmodels>=0.13 in /Users/swarchol/mambaforge/envs/jupyter/lib/python3.11/site-packages (from scanpy>=1.10.2->vitessce) (0.14.4)\n",
      "Requirement already satisfied: umap-learn!=0.5.0,>=0.5 in /Users/swarchol/mambaforge/envs/jupyter/lib/python3.11/site-packages (from scanpy>=1.10.2->vitessce) (0.5.7)\n",
      "Requirement already satisfied: imageio>=2.4.1 in /Users/swarchol/mambaforge/envs/jupyter/lib/python3.11/site-packages (from scikit-image<0.20,>=0.18->palom) (2.37.0)\n",
      "Requirement already satisfied: PyWavelets>=1.1.1 in /Users/swarchol/mambaforge/envs/jupyter/lib/python3.11/site-packages (from scikit-image<0.20,>=0.18->palom) (1.8.0)\n",
      "Requirement already satisfied: threadpoolctl>=3.1.0 in /Users/swarchol/mambaforge/envs/jupyter/lib/python3.11/site-packages (from scikit-learn>=0.24->palom) (3.5.0)\n",
      "Requirement already satisfied: asciitree in /Users/swarchol/mambaforge/envs/jupyter/lib/python3.11/site-packages (from zarr<2.15,>=2.10->palom) (0.3.3)\n",
      "Requirement already satisfied: fasteners in /Users/swarchol/mambaforge/envs/jupyter/lib/python3.11/site-packages (from zarr<2.15,>=2.10->palom) (0.19)\n",
      "Requirement already satisfied: aiohappyeyeballs>=2.3.0 in /Users/swarchol/mambaforge/envs/jupyter/lib/python3.11/site-packages (from aiohttp<4->ome-zarr>=0.8.3->vitessce) (2.4.6)\n",
      "Requirement already satisfied: aiosignal>=1.1.2 in /Users/swarchol/mambaforge/envs/jupyter/lib/python3.11/site-packages (from aiohttp<4->ome-zarr>=0.8.3->vitessce) (1.3.2)\n",
      "Requirement already satisfied: frozenlist>=1.1.1 in /Users/swarchol/mambaforge/envs/jupyter/lib/python3.11/site-packages (from aiohttp<4->ome-zarr>=0.8.3->vitessce) (1.5.0)\n",
      "Requirement already satisfied: multidict<7.0,>=4.5 in /Users/swarchol/mambaforge/envs/jupyter/lib/python3.11/site-packages (from aiohttp<4->ome-zarr>=0.8.3->vitessce) (6.1.0)\n",
      "Requirement already satisfied: propcache>=0.2.0 in /Users/swarchol/mambaforge/envs/jupyter/lib/python3.11/site-packages (from aiohttp<4->ome-zarr>=0.8.3->vitessce) (0.3.0)\n",
      "Requirement already satisfied: yarl<2.0,>=1.17.0 in /Users/swarchol/mambaforge/envs/jupyter/lib/python3.11/site-packages (from aiohttp<4->ome-zarr>=0.8.3->vitessce) (1.18.3)\n",
      "Requirement already satisfied: s3fs in /Users/swarchol/mambaforge/envs/jupyter/lib/python3.11/site-packages (from fsspec>=2021.09.0->dask) (2025.2.0)\n",
      "Requirement already satisfied: llvmlite<0.41,>=0.40.0dev0 in /Users/swarchol/mambaforge/envs/jupyter/lib/python3.11/site-packages (from numba>=0.57->scanpy>=1.10.2->vitessce) (0.40.1)\n",
      "Requirement already satisfied: annotated-types>=0.4.0 in /Users/swarchol/mambaforge/envs/jupyter/lib/python3.11/site-packages (from pydantic!=2.0,!=2.1,!=2.2,!=2.3,>=1.10.16->ome-types>0.3->palom) (0.7.0)\n",
      "Requirement already satisfied: pydantic-core==2.20.1 in /Users/swarchol/mambaforge/envs/jupyter/lib/python3.11/site-packages (from pydantic!=2.0,!=2.1,!=2.2,!=2.3,>=1.10.16->ome-types>0.3->palom) (2.20.1)\n",
      "Requirement already satisfied: six>=1.5 in /Users/swarchol/mambaforge/envs/jupyter/lib/python3.11/site-packages (from python-dateutil>=2.7->matplotlib<4.0.0,>=3.4.3->palom) (1.16.0)\n",
      "Requirement already satisfied: wrapt<2,>=1.10 in /Users/swarchol/mambaforge/envs/jupyter/lib/python3.11/site-packages (from deprecated->numcodecs>=0.5.7->vitessce) (1.17.2)\n",
      "Requirement already satisfied: jinja2>=2.10.3 in /Users/swarchol/mambaforge/envs/jupyter/lib/python3.11/site-packages (from distributed->ome-zarr>=0.8.3->vitessce) (3.1.2)\n",
      "Requirement already satisfied: msgpack>=1.0.2 in /Users/swarchol/mambaforge/envs/jupyter/lib/python3.11/site-packages (from distributed->ome-zarr>=0.8.3->vitessce) (1.1.0)\n",
      "Requirement already satisfied: psutil>=5.8.0 in /Users/swarchol/mambaforge/envs/jupyter/lib/python3.11/site-packages (from distributed->ome-zarr>=0.8.3->vitessce) (5.9.5)\n",
      "Requirement already satisfied: sortedcontainers>=2.0.5 in /Users/swarchol/mambaforge/envs/jupyter/lib/python3.11/site-packages (from distributed->ome-zarr>=0.8.3->vitessce) (2.4.0)\n",
      "Requirement already satisfied: tblib>=1.6.0 in /Users/swarchol/mambaforge/envs/jupyter/lib/python3.11/site-packages (from distributed->ome-zarr>=0.8.3->vitessce) (3.0.0)\n",
      "Requirement already satisfied: tornado>=6.2.0 in /Users/swarchol/mambaforge/envs/jupyter/lib/python3.11/site-packages (from distributed->ome-zarr>=0.8.3->vitessce) (6.3.3)\n",
      "Requirement already satisfied: urllib3>=1.26.5 in /Users/swarchol/mambaforge/envs/jupyter/lib/python3.11/site-packages (from distributed->ome-zarr>=0.8.3->vitessce) (2.0.4)\n",
      "Requirement already satisfied: zict>=3.0.0 in /Users/swarchol/mambaforge/envs/jupyter/lib/python3.11/site-packages (from distributed->ome-zarr>=0.8.3->vitessce) (3.0.0)\n",
      "Requirement already satisfied: charset-normalizer<4,>=2 in /Users/swarchol/mambaforge/envs/jupyter/lib/python3.11/site-packages (from requests->ome-zarr>=0.8.3->vitessce) (3.2.0)\n",
      "Requirement already satisfied: idna<4,>=2.5 in /Users/swarchol/mambaforge/envs/jupyter/lib/python3.11/site-packages (from requests->ome-zarr>=0.8.3->vitessce) (3.4)\n",
      "Requirement already satisfied: certifi>=2017.4.17 in /Users/swarchol/mambaforge/envs/jupyter/lib/python3.11/site-packages (from requests->ome-zarr>=0.8.3->vitessce) (2025.1.31)\n",
      "Requirement already satisfied: MarkupSafe>=2.0 in /Users/swarchol/mambaforge/envs/jupyter/lib/python3.11/site-packages (from jinja2>=2.10.3->distributed->ome-zarr>=0.8.3->vitessce) (2.1.3)\n",
      "Requirement already satisfied: aiobotocore<3.0.0,>=2.5.4 in /Users/swarchol/mambaforge/envs/jupyter/lib/python3.11/site-packages (from s3fs->fsspec>=2021.09.0->dask) (2.20.0)\n",
      "Requirement already satisfied: aioitertools<1.0.0,>=0.5.1 in /Users/swarchol/mambaforge/envs/jupyter/lib/python3.11/site-packages (from aiobotocore<3.0.0,>=2.5.4->s3fs->fsspec>=2021.09.0->dask) (0.12.0)\n",
      "Requirement already satisfied: botocore<1.36.24,>=1.36.20 in /Users/swarchol/mambaforge/envs/jupyter/lib/python3.11/site-packages (from aiobotocore<3.0.0,>=2.5.4->s3fs->fsspec>=2021.09.0->dask) (1.36.23)\n",
      "Requirement already satisfied: jmespath<2.0.0,>=0.7.1 in /Users/swarchol/mambaforge/envs/jupyter/lib/python3.11/site-packages (from aiobotocore<3.0.0,>=2.5.4->s3fs->fsspec>=2021.09.0->dask) (1.0.1)\n",
      "Using cached tifffile-2024.7.2-py3-none-any.whl (225 kB)\n",
      "Installing collected packages: tifffile, scikit-image\n",
      "  Attempting uninstall: tifffile\n",
      "    Found existing installation: tifffile 2025.2.18\n",
      "    Uninstalling tifffile-2025.2.18:\n",
      "      Successfully uninstalled tifffile-2025.2.18\n",
      "  Attempting uninstall: scikit-image\n",
      "    Found existing installation: scikit-image 0.25.2\n",
      "    Uninstalling scikit-image-0.25.2:\n",
      "      Successfully uninstalled scikit-image-0.25.2\n",
      "Successfully installed scikit-image-0.19.3 tifffile-2024.7.2\n"
     ]
    }
   ],
   "source": [
    "!pip install generate_tiff_offsets palom numpy dask vitessce starlette==0.14.0 ujson"
   ]
  },
  {
   "cell_type": "code",
   "execution_count": 13,
   "metadata": {},
   "outputs": [],
   "source": [
    "# Data Dir\n",
    "data_dir = '/Users/swarchol/Research/seal/data/astro'\n",
    "\n",
    "image_channels = np.stack([np.load(f'{data_dir}/filter-{feature}.npy') for feature in ['u', 'g', 'r', 'i', 'z']])\n",
    "\n",
    "segmentation_masks = np.load(f'{data_dir}/seg_masks.npy')"
   ]
  },
  {
   "cell_type": "code",
   "execution_count": 14,
   "metadata": {},
   "outputs": [],
   "source": [
    "# write to temp directory with tempfile\n",
    "import tempfile\n",
    "with tempfile.TemporaryDirectory() as temp_dir:\n",
    "    temp_dir = tempfile.mkdtemp()\n",
    "    image_channels_path = os.path.join(temp_dir, 'image.ome.tif')\n",
    "    segmentation_masks_path = os.path.join(temp_dir, 'mask.ome.tif')\n",
    "    "
   ]
  },
  {
   "cell_type": "code",
   "execution_count": 15,
   "metadata": {},
   "outputs": [
    {
     "name": "stderr",
     "output_type": "stream",
     "text": [
      "2025-03-13 22:12:23.221 | INFO     | palom.pyramid:write_pyramid:166 - Writing to /var/folders/ps/x7v31pds3gn4t11djwg0t03h0000gp/T/tmp3h4q1i53/image.ome.tif\n"
     ]
    },
    {
     "data": {
      "application/vnd.jupyter.widget-view+json": {
       "model_id": "8c15d4f652874c138b2afdcb78784350",
       "version_major": 2,
       "version_minor": 0
      },
      "text/plain": [
       "Assembling mosaic  1/ 1 (channel  1/ 5):   0%|          | 0/2 [00:00<?, ?it/s]"
      ]
     },
     "metadata": {},
     "output_type": "display_data"
    },
    {
     "data": {
      "application/vnd.jupyter.widget-view+json": {
       "model_id": "6381c8c20b194aa087e7ce9bef450837",
       "version_major": 2,
       "version_minor": 0
      },
      "text/plain": [
       "Assembling mosaic  1/ 1 (channel  2/ 5):   0%|          | 0/2 [00:00<?, ?it/s]"
      ]
     },
     "metadata": {},
     "output_type": "display_data"
    },
    {
     "data": {
      "application/vnd.jupyter.widget-view+json": {
       "model_id": "4405d19f64e4467eaa2c658881945753",
       "version_major": 2,
       "version_minor": 0
      },
      "text/plain": [
       "Assembling mosaic  1/ 1 (channel  3/ 5):   0%|          | 0/2 [00:00<?, ?it/s]"
      ]
     },
     "metadata": {},
     "output_type": "display_data"
    },
    {
     "data": {
      "application/vnd.jupyter.widget-view+json": {
       "model_id": "f3ce9c4f3a934dc6a600aef688d6ecfe",
       "version_major": 2,
       "version_minor": 0
      },
      "text/plain": [
       "Assembling mosaic  1/ 1 (channel  4/ 5):   0%|          | 0/2 [00:00<?, ?it/s]"
      ]
     },
     "metadata": {},
     "output_type": "display_data"
    },
    {
     "data": {
      "application/vnd.jupyter.widget-view+json": {
       "model_id": "8a935ce70a534f5481305d04c87680e2",
       "version_major": 2,
       "version_minor": 0
      },
      "text/plain": [
       "Assembling mosaic  1/ 1 (channel  5/ 5):   0%|          | 0/2 [00:00<?, ?it/s]"
      ]
     },
     "metadata": {},
     "output_type": "display_data"
    },
    {
     "name": "stderr",
     "output_type": "stream",
     "text": [
      "2025-03-13 22:12:23.368 | INFO     | palom.pyramid:write_pyramid:182 - Generating pyramid\n",
      "2025-03-13 22:12:23.369 | INFO     | palom.pyramid:write_pyramid:185 -     Level 1 (1023 x 1203)\n",
      "Processing channel: 100%|##########| 5/5 [00:00<00:00,  7.35it/s]\n",
      "2025-03-13 22:12:24.058 | INFO     | palom.pyramid:write_pyramid:185 -     Level 2 (512 x 602)\n",
      "Processing channel: 100%|##########| 5/5 [00:00<00:00, 12.51it/s]\n"
     ]
    }
   ],
   "source": [
    "palom.pyramid.write_pyramid(\n",
    "    mosaics=[\n",
    "        da.from_array(image_channels)\n",
    "    ],\n",
    "    output_path=image_channels_path, \n",
    "    downscale_factor=2,\n",
    "    channel_names=['u', 'g', 'r', 'i', 'z']\n",
    ")"
   ]
  },
  {
   "cell_type": "code",
   "execution_count": 16,
   "metadata": {},
   "outputs": [
    {
     "name": "stderr",
     "output_type": "stream",
     "text": [
      "2025-03-13 22:12:24.489 | INFO     | palom.pyramid:write_pyramid:166 - Writing to /var/folders/ps/x7v31pds3gn4t11djwg0t03h0000gp/T/tmp3h4q1i53/mask.ome.tif\n"
     ]
    },
    {
     "data": {
      "application/vnd.jupyter.widget-view+json": {
       "model_id": "cb7e804446bb4ac3922ef4f3cbcdae0f",
       "version_major": 2,
       "version_minor": 0
      },
      "text/plain": [
       "Assembling mosaic  1/ 1 (channel  1/ 1):   0%|          | 0/2 [00:00<?, ?it/s]"
      ]
     },
     "metadata": {},
     "output_type": "display_data"
    },
    {
     "name": "stderr",
     "output_type": "stream",
     "text": [
      "2025-03-13 22:12:24.519 | INFO     | palom.pyramid:write_pyramid:182 - Generating pyramid\n",
      "2025-03-13 22:12:24.519 | INFO     | palom.pyramid:write_pyramid:185 -     Level 1 (1023 x 1203)\n",
      "Processing channel: 100%|##########| 1/1 [00:00<00:00, 12.49it/s]\n",
      "2025-03-13 22:12:24.606 | INFO     | palom.pyramid:write_pyramid:185 -     Level 2 (512 x 602)\n",
      "Processing channel: 100%|##########| 1/1 [00:00<00:00, 13.98it/s]\n"
     ]
    }
   ],
   "source": [
    "# write this to a tiff file with palom\n",
    "palom.pyramid.write_pyramid(\n",
    "    mosaics=[\n",
    "        da.from_array(segmentation_masks)\n",
    "    ],\n",
    "    is_mask=True,\n",
    "    output_path=segmentation_masks_path, \n",
    "    downscale_factor=2,\n",
    "\n",
    ")"
   ]
  },
  {
   "cell_type": "code",
   "execution_count": 17,
   "metadata": {},
   "outputs": [],
   "source": []
  },
  {
   "cell_type": "code",
   "execution_count": 18,
   "metadata": {},
   "outputs": [],
   "source": [
    "vc = VitessceConfig(\n",
    "    schema_version=\"1.0.15\",\n",
    "    name=\"Spraggins Multi-Modal\",\n",
    "    description=\"PAS + IMS + AF From https://portal.hubmapconsortium.org/browse/collection/6a6efd0c1a2681dc7d2faab8e4ab0bca\",\n",
    ")\n",
    "dataset = vc.add_dataset(name=\"Spraggins\").add_object(\n",
    "    MultiImageWrapper(\n",
    "        image_wrappers=[\n",
    "            OmeTiffWrapper(img_path=segmentation_masks_path, name=\"Mask\"),\n",
    "            OmeTiffWrapper(img_path=image_channels_path, name=\"Image\"),\n",
    "        ],\n",
    "        use_physical_size_scaling=True,\n",
    "    )\n",
    ")\n",
    "spatial = vc.add_view(cm.SPATIAL, dataset=dataset)\n",
    "lc = vc.add_view(cm.LAYER_CONTROLLER, dataset=dataset).set_props(\n",
    "    disableChannelsIfRgbDetected=True\n",
    ")\n",
    "vc.layout(spatial | (lc))"
   ]
  },
  {
   "cell_type": "code",
   "execution_count": 19,
   "metadata": {},
   "outputs": [
    {
     "data": {
      "application/vnd.jupyter.widget-view+json": {
       "model_id": "4d5a7b2456234feca53746837a9f61ae",
       "version_major": 2,
       "version_minor": 1
      },
      "text/plain": [
       "VitessceWidget(config={'version': '1.0.15', 'name': 'Spraggins Multi-Modal', 'description': 'PAS + IMS + AF Fr…"
      ]
     },
     "execution_count": 19,
     "metadata": {},
     "output_type": "execute_result"
    }
   ],
   "source": [
    "vw = vc.widget()\n",
    "vw\n"
   ]
  },
  {
   "cell_type": "code",
   "execution_count": null,
   "metadata": {},
   "outputs": [],
   "source": []
  }
 ],
 "metadata": {
  "kernelspec": {
   "display_name": "jupyter",
   "language": "python",
   "name": "python3"
  },
  "language_info": {
   "codemirror_mode": {
    "name": "ipython",
    "version": 3
   },
   "file_extension": ".py",
   "mimetype": "text/x-python",
   "name": "python",
   "nbconvert_exporter": "python",
   "pygments_lexer": "ipython3",
   "version": "3.11.8"
  }
 },
 "nbformat": 4,
 "nbformat_minor": 2
}
