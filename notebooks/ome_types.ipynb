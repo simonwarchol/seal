{
 "cells": [
  {
   "cell_type": "code",
   "execution_count": 40,
   "metadata": {},
   "outputs": [],
   "source": [
    "from ome_types import from_tiff\n",
    "import tifffile as tf\n",
    "import pandas as pd\n",
    "exemplar_path = '/Users/swarchol/Research/exemplar-001/registration/exemplar-001.ome.tif'\n",
    "ome = from_tiff(exemplar_path)"
   ]
  },
  {
   "cell_type": "code",
   "execution_count": 41,
   "metadata": {},
   "outputs": [],
   "source": [
    "csv_df = pd.read_csv('/Users/swarchol/Research/exemplar-001/quantification/exemplar-001--unmicst_cell.csv')\n",
    "channel_names = csv_df.columns[1:13].values"
   ]
  },
  {
   "cell_type": "code",
   "execution_count": 42,
   "metadata": {},
   "outputs": [],
   "source": [
    "# for _ in ome.images[0].pixels.channels:\n",
    "for i,ch in enumerate(ome.images[0].pixels.channels):\n",
    "    ch.name = channel_names[i]\n"
   ]
  },
  {
   "cell_type": "code",
   "execution_count": 43,
   "metadata": {},
   "outputs": [
    {
     "data": {
      "text/plain": [
       "[Channel(\n",
       "    id='Channel:0:0',\n",
       "    name='DNA_6',\n",
       "    light_path={'excitation_filters': [], 'emission_filters': [], 'annotation_refs': []},\n",
       "    samples_per_pixel=1,\n",
       "    color=Color('white', rgb=(255, 255, 255)),\n",
       " ),\n",
       " Channel(\n",
       "    id='Channel:0:1',\n",
       "    name='ELANE',\n",
       "    light_path={'excitation_filters': [], 'emission_filters': [], 'annotation_refs': []},\n",
       "    samples_per_pixel=1,\n",
       "    color=Color('white', rgb=(255, 255, 255)),\n",
       " ),\n",
       " Channel(\n",
       "    id='Channel:0:2',\n",
       "    name='CD57',\n",
       "    light_path={'excitation_filters': [], 'emission_filters': [], 'annotation_refs': []},\n",
       "    samples_per_pixel=1,\n",
       "    color=Color('white', rgb=(255, 255, 255)),\n",
       " ),\n",
       " Channel(\n",
       "    id='Channel:0:3',\n",
       "    name='CD45',\n",
       "    light_path={'excitation_filters': [], 'emission_filters': [], 'annotation_refs': []},\n",
       "    samples_per_pixel=1,\n",
       "    color=Color('white', rgb=(255, 255, 255)),\n",
       " ),\n",
       " Channel(\n",
       "    id='Channel:0:4',\n",
       "    name='DNA_7',\n",
       "    light_path={'excitation_filters': [], 'emission_filters': [], 'annotation_refs': []},\n",
       "    samples_per_pixel=1,\n",
       "    color=Color('white', rgb=(255, 255, 255)),\n",
       " ),\n",
       " Channel(\n",
       "    id='Channel:0:5',\n",
       "    name='CD11B',\n",
       "    light_path={'excitation_filters': [], 'emission_filters': [], 'annotation_refs': []},\n",
       "    samples_per_pixel=1,\n",
       "    color=Color('white', rgb=(255, 255, 255)),\n",
       " ),\n",
       " Channel(\n",
       "    id='Channel:0:6',\n",
       "    name='SMA',\n",
       "    light_path={'excitation_filters': [], 'emission_filters': [], 'annotation_refs': []},\n",
       "    samples_per_pixel=1,\n",
       "    color=Color('white', rgb=(255, 255, 255)),\n",
       " ),\n",
       " Channel(\n",
       "    id='Channel:0:7',\n",
       "    name='CD16',\n",
       "    light_path={'excitation_filters': [], 'emission_filters': [], 'annotation_refs': []},\n",
       "    samples_per_pixel=1,\n",
       "    color=Color('white', rgb=(255, 255, 255)),\n",
       " ),\n",
       " Channel(\n",
       "    id='Channel:0:8',\n",
       "    name='DNA_8',\n",
       "    light_path={'excitation_filters': [], 'emission_filters': [], 'annotation_refs': []},\n",
       "    samples_per_pixel=1,\n",
       "    color=Color('white', rgb=(255, 255, 255)),\n",
       " ),\n",
       " Channel(\n",
       "    id='Channel:0:9',\n",
       "    name='ECAD',\n",
       "    light_path={'excitation_filters': [], 'emission_filters': [], 'annotation_refs': []},\n",
       "    samples_per_pixel=1,\n",
       "    color=Color('white', rgb=(255, 255, 255)),\n",
       " ),\n",
       " Channel(\n",
       "    id='Channel:0:10',\n",
       "    name='FOXP3',\n",
       "    light_path={'excitation_filters': [], 'emission_filters': [], 'annotation_refs': []},\n",
       "    samples_per_pixel=1,\n",
       "    color=Color('white', rgb=(255, 255, 255)),\n",
       " ),\n",
       " Channel(\n",
       "    id='Channel:0:11',\n",
       "    name='NCAM',\n",
       "    light_path={'excitation_filters': [], 'emission_filters': [], 'annotation_refs': []},\n",
       "    samples_per_pixel=1,\n",
       "    color=Color('white', rgb=(255, 255, 255)),\n",
       " )]"
      ]
     },
     "execution_count": 43,
     "metadata": {},
     "output_type": "execute_result"
    }
   ],
   "source": [
    "ome.images[0].pixels.channels"
   ]
  },
  {
   "cell_type": "code",
   "execution_count": 45,
   "metadata": {},
   "outputs": [],
   "source": [
    "tf.tiffcomment(exemplar_path, to_xml(ome).encode('utf-8'))"
   ]
  },
  {
   "cell_type": "code",
   "execution_count": 46,
   "metadata": {},
   "outputs": [],
   "source": [
    "exemplar_path = '/Users/swarchol/Research/exemplar-001/registration/exemplar-001.ome.tif'\n",
    "ome = from_tiff(exemplar_path)"
   ]
  },
  {
   "cell_type": "code",
   "execution_count": 47,
   "metadata": {},
   "outputs": [
    {
     "data": {
      "text/plain": [
       "[Channel(\n",
       "    id='Channel:0:0',\n",
       "    name='DNA_6',\n",
       "    light_path={'excitation_filters': [], 'emission_filters': [], 'annotation_refs': []},\n",
       "    samples_per_pixel=1,\n",
       "    color=Color('white', rgb=(255, 255, 255)),\n",
       " ),\n",
       " Channel(\n",
       "    id='Channel:0:1',\n",
       "    name='ELANE',\n",
       "    light_path={'excitation_filters': [], 'emission_filters': [], 'annotation_refs': []},\n",
       "    samples_per_pixel=1,\n",
       "    color=Color('white', rgb=(255, 255, 255)),\n",
       " ),\n",
       " Channel(\n",
       "    id='Channel:0:2',\n",
       "    name='CD57',\n",
       "    light_path={'excitation_filters': [], 'emission_filters': [], 'annotation_refs': []},\n",
       "    samples_per_pixel=1,\n",
       "    color=Color('white', rgb=(255, 255, 255)),\n",
       " ),\n",
       " Channel(\n",
       "    id='Channel:0:3',\n",
       "    name='CD45',\n",
       "    light_path={'excitation_filters': [], 'emission_filters': [], 'annotation_refs': []},\n",
       "    samples_per_pixel=1,\n",
       "    color=Color('white', rgb=(255, 255, 255)),\n",
       " ),\n",
       " Channel(\n",
       "    id='Channel:0:4',\n",
       "    name='DNA_7',\n",
       "    light_path={'excitation_filters': [], 'emission_filters': [], 'annotation_refs': []},\n",
       "    samples_per_pixel=1,\n",
       "    color=Color('white', rgb=(255, 255, 255)),\n",
       " ),\n",
       " Channel(\n",
       "    id='Channel:0:5',\n",
       "    name='CD11B',\n",
       "    light_path={'excitation_filters': [], 'emission_filters': [], 'annotation_refs': []},\n",
       "    samples_per_pixel=1,\n",
       "    color=Color('white', rgb=(255, 255, 255)),\n",
       " ),\n",
       " Channel(\n",
       "    id='Channel:0:6',\n",
       "    name='SMA',\n",
       "    light_path={'excitation_filters': [], 'emission_filters': [], 'annotation_refs': []},\n",
       "    samples_per_pixel=1,\n",
       "    color=Color('white', rgb=(255, 255, 255)),\n",
       " ),\n",
       " Channel(\n",
       "    id='Channel:0:7',\n",
       "    name='CD16',\n",
       "    light_path={'excitation_filters': [], 'emission_filters': [], 'annotation_refs': []},\n",
       "    samples_per_pixel=1,\n",
       "    color=Color('white', rgb=(255, 255, 255)),\n",
       " ),\n",
       " Channel(\n",
       "    id='Channel:0:8',\n",
       "    name='DNA_8',\n",
       "    light_path={'excitation_filters': [], 'emission_filters': [], 'annotation_refs': []},\n",
       "    samples_per_pixel=1,\n",
       "    color=Color('white', rgb=(255, 255, 255)),\n",
       " ),\n",
       " Channel(\n",
       "    id='Channel:0:9',\n",
       "    name='ECAD',\n",
       "    light_path={'excitation_filters': [], 'emission_filters': [], 'annotation_refs': []},\n",
       "    samples_per_pixel=1,\n",
       "    color=Color('white', rgb=(255, 255, 255)),\n",
       " ),\n",
       " Channel(\n",
       "    id='Channel:0:10',\n",
       "    name='FOXP3',\n",
       "    light_path={'excitation_filters': [], 'emission_filters': [], 'annotation_refs': []},\n",
       "    samples_per_pixel=1,\n",
       "    color=Color('white', rgb=(255, 255, 255)),\n",
       " ),\n",
       " Channel(\n",
       "    id='Channel:0:11',\n",
       "    name='NCAM',\n",
       "    light_path={'excitation_filters': [], 'emission_filters': [], 'annotation_refs': []},\n",
       "    samples_per_pixel=1,\n",
       "    color=Color('white', rgb=(255, 255, 255)),\n",
       " )]"
      ]
     },
     "execution_count": 47,
     "metadata": {},
     "output_type": "execute_result"
    }
   ],
   "source": [
    "ome.images[0].pixels.channels"
   ]
  },
  {
   "cell_type": "code",
   "execution_count": null,
   "metadata": {},
   "outputs": [],
   "source": []
  }
 ],
 "metadata": {
  "kernelspec": {
   "display_name": "napari",
   "language": "python",
   "name": "python3"
  },
  "language_info": {
   "codemirror_mode": {
    "name": "ipython",
    "version": 3
   },
   "file_extension": ".py",
   "mimetype": "text/x-python",
   "name": "python",
   "nbconvert_exporter": "python",
   "pygments_lexer": "ipython3",
   "version": "3.10.13"
  }
 },
 "nbformat": 4,
 "nbformat_minor": 2
}
