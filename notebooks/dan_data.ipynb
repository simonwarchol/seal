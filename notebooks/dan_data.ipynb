{
 "cells": [
  {
   "cell_type": "code",
   "execution_count": 1,
   "metadata": {},
   "outputs": [],
   "source": [
    "import tifffile as tf \n",
    "import zarr \n",
    "import palom"
   ]
  },
  {
   "cell_type": "code",
   "execution_count": 16,
   "metadata": {},
   "outputs": [],
   "source": [
    "path_1 = r\"/Volumes/HiTS/lsp-data/cycif-production/189-neoadjuvant-melanoma/p135_B550_e1_Orion/mcmicro_output/LSP26239/registration/LSP26239_001_JRL_melanoma_test1_001360.ome.tiff\"\n",
    "c1r = palom.reader.OmePyramidReader(path_1)\n",
    "path_2 = r\"/Volumes/HiTS/lsp-data/cycif-production/189-neoadjuvant-melanoma/p135_B550_e1_Orion/mcmicro_output/LSP26239/combined/LSP26239_OMEROpostHE_registered.ome.tiff\"\n",
    "c2r = palom.reader.OmePyramidReader(path_2)\n",
    "c1r = palom.reader.OmePyramidReader(path_1)\n",
    "path_3 = r\"/Volumes/HiTS/lsp-data/cycif-production/189-neoadjuvant-melanoma/p135_B550_e1_Orion/mcmicro_output/LSP26239/combined/.ImageLSP26239-registered.ome.tif.r6286j\"\n",
    "c3r = palom.reader.OmePyramidReader(path_3)\n"
   ]
  },
  {
   "cell_type": "code",
   "execution_count": 7,
   "metadata": {},
   "outputs": [
    {
     "data": {
      "text/html": [
       "<table>\n",
       "    <tr>\n",
       "        <td>\n",
       "            <table style=\"border-collapse: collapse;\">\n",
       "                <thead>\n",
       "                    <tr>\n",
       "                        <td> </td>\n",
       "                        <th> Array </th>\n",
       "                        <th> Chunk </th>\n",
       "                    </tr>\n",
       "                </thead>\n",
       "                <tbody>\n",
       "                    \n",
       "                    <tr>\n",
       "                        <th> Bytes </th>\n",
       "                        <td> 97.39 GiB </td>\n",
       "                        <td> 2.00 MiB </td>\n",
       "                    </tr>\n",
       "                    \n",
       "                    <tr>\n",
       "                        <th> Shape </th>\n",
       "                        <td> (19, 41626, 66108) </td>\n",
       "                        <td> (1, 1024, 1024) </td>\n",
       "                    </tr>\n",
       "                    <tr>\n",
       "                        <th> Dask graph </th>\n",
       "                        <td colspan=\"2\"> 50635 chunks in 2 graph layers </td>\n",
       "                    </tr>\n",
       "                    <tr>\n",
       "                        <th> Data type </th>\n",
       "                        <td colspan=\"2\"> uint16 numpy.ndarray </td>\n",
       "                    </tr>\n",
       "                </tbody>\n",
       "            </table>\n",
       "        </td>\n",
       "        <td>\n",
       "        <svg width=\"194\" height=\"140\" style=\"stroke:rgb(0,0,0);stroke-width:1\" >\n",
       "\n",
       "  <!-- Horizontal lines -->\n",
       "  <line x1=\"10\" y1=\"0\" x2=\"24\" y2=\"14\" style=\"stroke-width:2\" />\n",
       "  <line x1=\"10\" y1=\"3\" x2=\"24\" y2=\"18\" />\n",
       "  <line x1=\"10\" y1=\"7\" x2=\"24\" y2=\"22\" />\n",
       "  <line x1=\"10\" y1=\"11\" x2=\"24\" y2=\"26\" />\n",
       "  <line x1=\"10\" y1=\"14\" x2=\"24\" y2=\"29\" />\n",
       "  <line x1=\"10\" y1=\"18\" x2=\"24\" y2=\"33\" />\n",
       "  <line x1=\"10\" y1=\"22\" x2=\"24\" y2=\"37\" />\n",
       "  <line x1=\"10\" y1=\"27\" x2=\"24\" y2=\"42\" />\n",
       "  <line x1=\"10\" y1=\"31\" x2=\"24\" y2=\"46\" />\n",
       "  <line x1=\"10\" y1=\"35\" x2=\"24\" y2=\"50\" />\n",
       "  <line x1=\"10\" y1=\"39\" x2=\"24\" y2=\"53\" />\n",
       "  <line x1=\"10\" y1=\"42\" x2=\"24\" y2=\"57\" />\n",
       "  <line x1=\"10\" y1=\"46\" x2=\"24\" y2=\"61\" />\n",
       "  <line x1=\"10\" y1=\"52\" x2=\"24\" y2=\"66\" />\n",
       "  <line x1=\"10\" y1=\"55\" x2=\"24\" y2=\"70\" />\n",
       "  <line x1=\"10\" y1=\"59\" x2=\"24\" y2=\"74\" />\n",
       "  <line x1=\"10\" y1=\"63\" x2=\"24\" y2=\"78\" />\n",
       "  <line x1=\"10\" y1=\"66\" x2=\"24\" y2=\"81\" />\n",
       "  <line x1=\"10\" y1=\"70\" x2=\"24\" y2=\"85\" />\n",
       "  <line x1=\"10\" y1=\"75\" x2=\"24\" y2=\"90\" style=\"stroke-width:2\" />\n",
       "\n",
       "  <!-- Vertical lines -->\n",
       "  <line x1=\"10\" y1=\"0\" x2=\"10\" y2=\"75\" style=\"stroke-width:2\" />\n",
       "  <line x1=\"10\" y1=\"0\" x2=\"10\" y2=\"76\" />\n",
       "  <line x1=\"11\" y1=\"1\" x2=\"11\" y2=\"77\" />\n",
       "  <line x1=\"12\" y1=\"2\" x2=\"12\" y2=\"77\" />\n",
       "  <line x1=\"13\" y1=\"3\" x2=\"13\" y2=\"78\" />\n",
       "  <line x1=\"13\" y1=\"3\" x2=\"13\" y2=\"79\" />\n",
       "  <line x1=\"14\" y1=\"4\" x2=\"14\" y2=\"80\" />\n",
       "  <line x1=\"15\" y1=\"5\" x2=\"15\" y2=\"81\" />\n",
       "  <line x1=\"16\" y1=\"6\" x2=\"16\" y2=\"81\" />\n",
       "  <line x1=\"17\" y1=\"7\" x2=\"17\" y2=\"82\" />\n",
       "  <line x1=\"17\" y1=\"7\" x2=\"17\" y2=\"83\" />\n",
       "  <line x1=\"18\" y1=\"8\" x2=\"18\" y2=\"84\" />\n",
       "  <line x1=\"19\" y1=\"9\" x2=\"19\" y2=\"85\" />\n",
       "  <line x1=\"20\" y1=\"10\" x2=\"20\" y2=\"85\" />\n",
       "  <line x1=\"21\" y1=\"11\" x2=\"21\" y2=\"86\" />\n",
       "  <line x1=\"21\" y1=\"11\" x2=\"21\" y2=\"87\" />\n",
       "  <line x1=\"22\" y1=\"12\" x2=\"22\" y2=\"88\" />\n",
       "  <line x1=\"23\" y1=\"13\" x2=\"23\" y2=\"88\" />\n",
       "  <line x1=\"24\" y1=\"14\" x2=\"24\" y2=\"89\" />\n",
       "  <line x1=\"24\" y1=\"14\" x2=\"24\" y2=\"90\" style=\"stroke-width:2\" />\n",
       "\n",
       "  <!-- Colored Rectangle -->\n",
       "  <polygon points=\"10.0,0.0 24.9485979497544,14.948597949754403 24.9485979497544,90.50859068890851 10.0,75.55999273915411\" style=\"fill:#8B4903A0;stroke-width:0\"/>\n",
       "\n",
       "  <!-- Horizontal lines -->\n",
       "  <line x1=\"10\" y1=\"0\" x2=\"130\" y2=\"0\" style=\"stroke-width:2\" />\n",
       "  <line x1=\"10\" y1=\"0\" x2=\"130\" y2=\"0\" />\n",
       "  <line x1=\"11\" y1=\"1\" x2=\"131\" y2=\"1\" />\n",
       "  <line x1=\"12\" y1=\"2\" x2=\"132\" y2=\"2\" />\n",
       "  <line x1=\"13\" y1=\"3\" x2=\"133\" y2=\"3\" />\n",
       "  <line x1=\"13\" y1=\"3\" x2=\"133\" y2=\"3\" />\n",
       "  <line x1=\"14\" y1=\"4\" x2=\"134\" y2=\"4\" />\n",
       "  <line x1=\"15\" y1=\"5\" x2=\"135\" y2=\"5\" />\n",
       "  <line x1=\"16\" y1=\"6\" x2=\"136\" y2=\"6\" />\n",
       "  <line x1=\"17\" y1=\"7\" x2=\"137\" y2=\"7\" />\n",
       "  <line x1=\"17\" y1=\"7\" x2=\"137\" y2=\"7\" />\n",
       "  <line x1=\"18\" y1=\"8\" x2=\"138\" y2=\"8\" />\n",
       "  <line x1=\"19\" y1=\"9\" x2=\"139\" y2=\"9\" />\n",
       "  <line x1=\"20\" y1=\"10\" x2=\"140\" y2=\"10\" />\n",
       "  <line x1=\"21\" y1=\"11\" x2=\"141\" y2=\"11\" />\n",
       "  <line x1=\"21\" y1=\"11\" x2=\"141\" y2=\"11\" />\n",
       "  <line x1=\"22\" y1=\"12\" x2=\"142\" y2=\"12\" />\n",
       "  <line x1=\"23\" y1=\"13\" x2=\"143\" y2=\"13\" />\n",
       "  <line x1=\"24\" y1=\"14\" x2=\"144\" y2=\"14\" />\n",
       "  <line x1=\"24\" y1=\"14\" x2=\"144\" y2=\"14\" style=\"stroke-width:2\" />\n",
       "\n",
       "  <!-- Vertical lines -->\n",
       "  <line x1=\"10\" y1=\"0\" x2=\"24\" y2=\"14\" style=\"stroke-width:2\" />\n",
       "  <line x1=\"15\" y1=\"0\" x2=\"30\" y2=\"14\" />\n",
       "  <line x1=\"21\" y1=\"0\" x2=\"36\" y2=\"14\" />\n",
       "  <line x1=\"28\" y1=\"0\" x2=\"43\" y2=\"14\" />\n",
       "  <line x1=\"34\" y1=\"0\" x2=\"49\" y2=\"14\" />\n",
       "  <line x1=\"41\" y1=\"0\" x2=\"56\" y2=\"14\" />\n",
       "  <line x1=\"47\" y1=\"0\" x2=\"62\" y2=\"14\" />\n",
       "  <line x1=\"52\" y1=\"0\" x2=\"67\" y2=\"14\" />\n",
       "  <line x1=\"60\" y1=\"0\" x2=\"75\" y2=\"14\" />\n",
       "  <line x1=\"65\" y1=\"0\" x2=\"80\" y2=\"14\" />\n",
       "  <line x1=\"73\" y1=\"0\" x2=\"88\" y2=\"14\" />\n",
       "  <line x1=\"78\" y1=\"0\" x2=\"93\" y2=\"14\" />\n",
       "  <line x1=\"86\" y1=\"0\" x2=\"101\" y2=\"14\" />\n",
       "  <line x1=\"91\" y1=\"0\" x2=\"106\" y2=\"14\" />\n",
       "  <line x1=\"97\" y1=\"0\" x2=\"112\" y2=\"14\" />\n",
       "  <line x1=\"104\" y1=\"0\" x2=\"119\" y2=\"14\" />\n",
       "  <line x1=\"110\" y1=\"0\" x2=\"125\" y2=\"14\" />\n",
       "  <line x1=\"117\" y1=\"0\" x2=\"132\" y2=\"14\" />\n",
       "  <line x1=\"123\" y1=\"0\" x2=\"138\" y2=\"14\" />\n",
       "  <line x1=\"130\" y1=\"0\" x2=\"144\" y2=\"14\" style=\"stroke-width:2\" />\n",
       "\n",
       "  <!-- Colored Rectangle -->\n",
       "  <polygon points=\"10.0,0.0 130.0,0.0 144.9485979497544,14.948597949754403 24.9485979497544,14.948597949754403\" style=\"fill:#8B4903A0;stroke-width:0\"/>\n",
       "\n",
       "  <!-- Horizontal lines -->\n",
       "  <line x1=\"24\" y1=\"14\" x2=\"144\" y2=\"14\" style=\"stroke-width:2\" />\n",
       "  <line x1=\"24\" y1=\"18\" x2=\"144\" y2=\"18\" />\n",
       "  <line x1=\"24\" y1=\"22\" x2=\"144\" y2=\"22\" />\n",
       "  <line x1=\"24\" y1=\"26\" x2=\"144\" y2=\"26\" />\n",
       "  <line x1=\"24\" y1=\"29\" x2=\"144\" y2=\"29\" />\n",
       "  <line x1=\"24\" y1=\"33\" x2=\"144\" y2=\"33\" />\n",
       "  <line x1=\"24\" y1=\"37\" x2=\"144\" y2=\"37\" />\n",
       "  <line x1=\"24\" y1=\"42\" x2=\"144\" y2=\"42\" />\n",
       "  <line x1=\"24\" y1=\"46\" x2=\"144\" y2=\"46\" />\n",
       "  <line x1=\"24\" y1=\"50\" x2=\"144\" y2=\"50\" />\n",
       "  <line x1=\"24\" y1=\"53\" x2=\"144\" y2=\"53\" />\n",
       "  <line x1=\"24\" y1=\"57\" x2=\"144\" y2=\"57\" />\n",
       "  <line x1=\"24\" y1=\"61\" x2=\"144\" y2=\"61\" />\n",
       "  <line x1=\"24\" y1=\"66\" x2=\"144\" y2=\"66\" />\n",
       "  <line x1=\"24\" y1=\"70\" x2=\"144\" y2=\"70\" />\n",
       "  <line x1=\"24\" y1=\"74\" x2=\"144\" y2=\"74\" />\n",
       "  <line x1=\"24\" y1=\"78\" x2=\"144\" y2=\"78\" />\n",
       "  <line x1=\"24\" y1=\"81\" x2=\"144\" y2=\"81\" />\n",
       "  <line x1=\"24\" y1=\"85\" x2=\"144\" y2=\"85\" />\n",
       "  <line x1=\"24\" y1=\"90\" x2=\"144\" y2=\"90\" style=\"stroke-width:2\" />\n",
       "\n",
       "  <!-- Vertical lines -->\n",
       "  <line x1=\"24\" y1=\"14\" x2=\"24\" y2=\"90\" style=\"stroke-width:2\" />\n",
       "  <line x1=\"30\" y1=\"14\" x2=\"30\" y2=\"90\" />\n",
       "  <line x1=\"36\" y1=\"14\" x2=\"36\" y2=\"90\" />\n",
       "  <line x1=\"43\" y1=\"14\" x2=\"43\" y2=\"90\" />\n",
       "  <line x1=\"49\" y1=\"14\" x2=\"49\" y2=\"90\" />\n",
       "  <line x1=\"56\" y1=\"14\" x2=\"56\" y2=\"90\" />\n",
       "  <line x1=\"62\" y1=\"14\" x2=\"62\" y2=\"90\" />\n",
       "  <line x1=\"67\" y1=\"14\" x2=\"67\" y2=\"90\" />\n",
       "  <line x1=\"75\" y1=\"14\" x2=\"75\" y2=\"90\" />\n",
       "  <line x1=\"80\" y1=\"14\" x2=\"80\" y2=\"90\" />\n",
       "  <line x1=\"88\" y1=\"14\" x2=\"88\" y2=\"90\" />\n",
       "  <line x1=\"93\" y1=\"14\" x2=\"93\" y2=\"90\" />\n",
       "  <line x1=\"101\" y1=\"14\" x2=\"101\" y2=\"90\" />\n",
       "  <line x1=\"106\" y1=\"14\" x2=\"106\" y2=\"90\" />\n",
       "  <line x1=\"112\" y1=\"14\" x2=\"112\" y2=\"90\" />\n",
       "  <line x1=\"119\" y1=\"14\" x2=\"119\" y2=\"90\" />\n",
       "  <line x1=\"125\" y1=\"14\" x2=\"125\" y2=\"90\" />\n",
       "  <line x1=\"132\" y1=\"14\" x2=\"132\" y2=\"90\" />\n",
       "  <line x1=\"138\" y1=\"14\" x2=\"138\" y2=\"90\" />\n",
       "  <line x1=\"144\" y1=\"14\" x2=\"144\" y2=\"90\" style=\"stroke-width:2\" />\n",
       "\n",
       "  <!-- Colored Rectangle -->\n",
       "  <polygon points=\"24.9485979497544,14.948597949754403 144.9485979497544,14.948597949754403 144.9485979497544,90.50859068890851 24.9485979497544,90.50859068890851\" style=\"fill:#8B4903A0;stroke-width:0\"/>\n",
       "\n",
       "  <!-- Text -->\n",
       "  <text x=\"84.948598\" y=\"110.508591\" font-size=\"1.0rem\" font-weight=\"100\" text-anchor=\"middle\" >66108</text>\n",
       "  <text x=\"164.948598\" y=\"52.728594\" font-size=\"1.0rem\" font-weight=\"100\" text-anchor=\"middle\" transform=\"rotate(-90,164.948598,52.728594)\">41626</text>\n",
       "  <text x=\"7.474299\" y=\"103.034292\" font-size=\"1.0rem\" font-weight=\"100\" text-anchor=\"middle\" transform=\"rotate(45,7.474299,103.034292)\">19</text>\n",
       "</svg>\n",
       "        </td>\n",
       "    </tr>\n",
       "</table>"
      ],
      "text/plain": [
       "dask.array<from-zarr, shape=(19, 41626, 66108), dtype=uint16, chunksize=(1, 1024, 1024), chunktype=numpy.ndarray>"
      ]
     },
     "execution_count": 7,
     "metadata": {},
     "output_type": "execute_result"
    }
   ],
   "source": [
    "c1r.pyramid[0]"
   ]
  },
  {
   "cell_type": "code",
   "execution_count": 13,
   "metadata": {},
   "outputs": [
    {
     "data": {
      "text/html": [
       "<table>\n",
       "    <tr>\n",
       "        <td>\n",
       "            <table style=\"border-collapse: collapse;\">\n",
       "                <thead>\n",
       "                    <tr>\n",
       "                        <td> </td>\n",
       "                        <th> Array </th>\n",
       "                        <th> Chunk </th>\n",
       "                    </tr>\n",
       "                </thead>\n",
       "                <tbody>\n",
       "                    \n",
       "                    <tr>\n",
       "                        <th> Bytes </th>\n",
       "                        <td> 7.69 GiB </td>\n",
       "                        <td> 1.91 MiB </td>\n",
       "                    </tr>\n",
       "                    \n",
       "                    <tr>\n",
       "                        <th> Shape </th>\n",
       "                        <td> (6, 20813, 33054) </td>\n",
       "                        <td> (1, 992, 1008) </td>\n",
       "                    </tr>\n",
       "                    <tr>\n",
       "                        <th> Dask graph </th>\n",
       "                        <td colspan=\"2\"> 4158 chunks in 2 graph layers </td>\n",
       "                    </tr>\n",
       "                    <tr>\n",
       "                        <th> Data type </th>\n",
       "                        <td colspan=\"2\"> uint16 numpy.ndarray </td>\n",
       "                    </tr>\n",
       "                </tbody>\n",
       "            </table>\n",
       "        </td>\n",
       "        <td>\n",
       "        <svg width=\"194\" height=\"140\" style=\"stroke:rgb(0,0,0);stroke-width:1\" >\n",
       "\n",
       "  <!-- Horizontal lines -->\n",
       "  <line x1=\"10\" y1=\"0\" x2=\"24\" y2=\"14\" style=\"stroke-width:2\" />\n",
       "  <line x1=\"10\" y1=\"3\" x2=\"24\" y2=\"18\" />\n",
       "  <line x1=\"10\" y1=\"7\" x2=\"24\" y2=\"22\" />\n",
       "  <line x1=\"10\" y1=\"10\" x2=\"24\" y2=\"25\" />\n",
       "  <line x1=\"10\" y1=\"14\" x2=\"24\" y2=\"29\" />\n",
       "  <line x1=\"10\" y1=\"18\" x2=\"24\" y2=\"32\" />\n",
       "  <line x1=\"10\" y1=\"21\" x2=\"24\" y2=\"36\" />\n",
       "  <line x1=\"10\" y1=\"25\" x2=\"24\" y2=\"40\" />\n",
       "  <line x1=\"10\" y1=\"28\" x2=\"24\" y2=\"43\" />\n",
       "  <line x1=\"10\" y1=\"32\" x2=\"24\" y2=\"47\" />\n",
       "  <line x1=\"10\" y1=\"39\" x2=\"24\" y2=\"54\" />\n",
       "  <line x1=\"10\" y1=\"43\" x2=\"24\" y2=\"58\" />\n",
       "  <line x1=\"10\" y1=\"46\" x2=\"24\" y2=\"61\" />\n",
       "  <line x1=\"10\" y1=\"50\" x2=\"24\" y2=\"65\" />\n",
       "  <line x1=\"10\" y1=\"54\" x2=\"24\" y2=\"68\" />\n",
       "  <line x1=\"10\" y1=\"57\" x2=\"24\" y2=\"72\" />\n",
       "  <line x1=\"10\" y1=\"61\" x2=\"24\" y2=\"76\" />\n",
       "  <line x1=\"10\" y1=\"64\" x2=\"24\" y2=\"79\" />\n",
       "  <line x1=\"10\" y1=\"68\" x2=\"24\" y2=\"83\" />\n",
       "  <line x1=\"10\" y1=\"75\" x2=\"24\" y2=\"90\" style=\"stroke-width:2\" />\n",
       "\n",
       "  <!-- Vertical lines -->\n",
       "  <line x1=\"10\" y1=\"0\" x2=\"10\" y2=\"75\" style=\"stroke-width:2\" />\n",
       "  <line x1=\"12\" y1=\"2\" x2=\"12\" y2=\"78\" />\n",
       "  <line x1=\"14\" y1=\"4\" x2=\"14\" y2=\"80\" />\n",
       "  <line x1=\"17\" y1=\"7\" x2=\"17\" y2=\"83\" />\n",
       "  <line x1=\"19\" y1=\"9\" x2=\"19\" y2=\"85\" />\n",
       "  <line x1=\"22\" y1=\"12\" x2=\"22\" y2=\"88\" />\n",
       "  <line x1=\"24\" y1=\"14\" x2=\"24\" y2=\"90\" style=\"stroke-width:2\" />\n",
       "\n",
       "  <!-- Colored Rectangle -->\n",
       "  <polygon points=\"10.0,0.0 24.9485979497544,14.948597949754403 24.9485979497544,90.50859068890851 10.0,75.55999273915411\" style=\"fill:#8B4903A0;stroke-width:0\"/>\n",
       "\n",
       "  <!-- Horizontal lines -->\n",
       "  <line x1=\"10\" y1=\"0\" x2=\"130\" y2=\"0\" style=\"stroke-width:2\" />\n",
       "  <line x1=\"12\" y1=\"2\" x2=\"132\" y2=\"2\" />\n",
       "  <line x1=\"14\" y1=\"4\" x2=\"134\" y2=\"4\" />\n",
       "  <line x1=\"17\" y1=\"7\" x2=\"137\" y2=\"7\" />\n",
       "  <line x1=\"19\" y1=\"9\" x2=\"139\" y2=\"9\" />\n",
       "  <line x1=\"22\" y1=\"12\" x2=\"142\" y2=\"12\" />\n",
       "  <line x1=\"24\" y1=\"14\" x2=\"144\" y2=\"14\" style=\"stroke-width:2\" />\n",
       "\n",
       "  <!-- Vertical lines -->\n",
       "  <line x1=\"10\" y1=\"0\" x2=\"24\" y2=\"14\" style=\"stroke-width:2\" />\n",
       "  <line x1=\"13\" y1=\"0\" x2=\"28\" y2=\"14\" />\n",
       "  <line x1=\"20\" y1=\"0\" x2=\"35\" y2=\"14\" />\n",
       "  <line x1=\"28\" y1=\"0\" x2=\"43\" y2=\"14\" />\n",
       "  <line x1=\"31\" y1=\"0\" x2=\"46\" y2=\"14\" />\n",
       "  <line x1=\"39\" y1=\"0\" x2=\"54\" y2=\"14\" />\n",
       "  <line x1=\"46\" y1=\"0\" x2=\"61\" y2=\"14\" />\n",
       "  <line x1=\"53\" y1=\"0\" x2=\"68\" y2=\"14\" />\n",
       "  <line x1=\"57\" y1=\"0\" x2=\"72\" y2=\"14\" />\n",
       "  <line x1=\"64\" y1=\"0\" x2=\"79\" y2=\"14\" />\n",
       "  <line x1=\"72\" y1=\"0\" x2=\"87\" y2=\"14\" />\n",
       "  <line x1=\"79\" y1=\"0\" x2=\"94\" y2=\"14\" />\n",
       "  <line x1=\"83\" y1=\"0\" x2=\"98\" y2=\"14\" />\n",
       "  <line x1=\"90\" y1=\"0\" x2=\"105\" y2=\"14\" />\n",
       "  <line x1=\"97\" y1=\"0\" x2=\"112\" y2=\"14\" />\n",
       "  <line x1=\"105\" y1=\"0\" x2=\"120\" y2=\"14\" />\n",
       "  <line x1=\"108\" y1=\"0\" x2=\"123\" y2=\"14\" />\n",
       "  <line x1=\"116\" y1=\"0\" x2=\"131\" y2=\"14\" />\n",
       "  <line x1=\"123\" y1=\"0\" x2=\"138\" y2=\"14\" />\n",
       "  <line x1=\"130\" y1=\"0\" x2=\"144\" y2=\"14\" style=\"stroke-width:2\" />\n",
       "\n",
       "  <!-- Colored Rectangle -->\n",
       "  <polygon points=\"10.0,0.0 130.0,0.0 144.9485979497544,14.948597949754403 24.9485979497544,14.948597949754403\" style=\"fill:#8B4903A0;stroke-width:0\"/>\n",
       "\n",
       "  <!-- Horizontal lines -->\n",
       "  <line x1=\"24\" y1=\"14\" x2=\"144\" y2=\"14\" style=\"stroke-width:2\" />\n",
       "  <line x1=\"24\" y1=\"18\" x2=\"144\" y2=\"18\" />\n",
       "  <line x1=\"24\" y1=\"22\" x2=\"144\" y2=\"22\" />\n",
       "  <line x1=\"24\" y1=\"25\" x2=\"144\" y2=\"25\" />\n",
       "  <line x1=\"24\" y1=\"29\" x2=\"144\" y2=\"29\" />\n",
       "  <line x1=\"24\" y1=\"32\" x2=\"144\" y2=\"32\" />\n",
       "  <line x1=\"24\" y1=\"36\" x2=\"144\" y2=\"36\" />\n",
       "  <line x1=\"24\" y1=\"40\" x2=\"144\" y2=\"40\" />\n",
       "  <line x1=\"24\" y1=\"43\" x2=\"144\" y2=\"43\" />\n",
       "  <line x1=\"24\" y1=\"47\" x2=\"144\" y2=\"47\" />\n",
       "  <line x1=\"24\" y1=\"54\" x2=\"144\" y2=\"54\" />\n",
       "  <line x1=\"24\" y1=\"58\" x2=\"144\" y2=\"58\" />\n",
       "  <line x1=\"24\" y1=\"61\" x2=\"144\" y2=\"61\" />\n",
       "  <line x1=\"24\" y1=\"65\" x2=\"144\" y2=\"65\" />\n",
       "  <line x1=\"24\" y1=\"68\" x2=\"144\" y2=\"68\" />\n",
       "  <line x1=\"24\" y1=\"72\" x2=\"144\" y2=\"72\" />\n",
       "  <line x1=\"24\" y1=\"76\" x2=\"144\" y2=\"76\" />\n",
       "  <line x1=\"24\" y1=\"79\" x2=\"144\" y2=\"79\" />\n",
       "  <line x1=\"24\" y1=\"83\" x2=\"144\" y2=\"83\" />\n",
       "  <line x1=\"24\" y1=\"90\" x2=\"144\" y2=\"90\" style=\"stroke-width:2\" />\n",
       "\n",
       "  <!-- Vertical lines -->\n",
       "  <line x1=\"24\" y1=\"14\" x2=\"24\" y2=\"90\" style=\"stroke-width:2\" />\n",
       "  <line x1=\"28\" y1=\"14\" x2=\"28\" y2=\"90\" />\n",
       "  <line x1=\"35\" y1=\"14\" x2=\"35\" y2=\"90\" />\n",
       "  <line x1=\"43\" y1=\"14\" x2=\"43\" y2=\"90\" />\n",
       "  <line x1=\"46\" y1=\"14\" x2=\"46\" y2=\"90\" />\n",
       "  <line x1=\"54\" y1=\"14\" x2=\"54\" y2=\"90\" />\n",
       "  <line x1=\"61\" y1=\"14\" x2=\"61\" y2=\"90\" />\n",
       "  <line x1=\"68\" y1=\"14\" x2=\"68\" y2=\"90\" />\n",
       "  <line x1=\"72\" y1=\"14\" x2=\"72\" y2=\"90\" />\n",
       "  <line x1=\"79\" y1=\"14\" x2=\"79\" y2=\"90\" />\n",
       "  <line x1=\"87\" y1=\"14\" x2=\"87\" y2=\"90\" />\n",
       "  <line x1=\"94\" y1=\"14\" x2=\"94\" y2=\"90\" />\n",
       "  <line x1=\"98\" y1=\"14\" x2=\"98\" y2=\"90\" />\n",
       "  <line x1=\"105\" y1=\"14\" x2=\"105\" y2=\"90\" />\n",
       "  <line x1=\"112\" y1=\"14\" x2=\"112\" y2=\"90\" />\n",
       "  <line x1=\"120\" y1=\"14\" x2=\"120\" y2=\"90\" />\n",
       "  <line x1=\"123\" y1=\"14\" x2=\"123\" y2=\"90\" />\n",
       "  <line x1=\"131\" y1=\"14\" x2=\"131\" y2=\"90\" />\n",
       "  <line x1=\"138\" y1=\"14\" x2=\"138\" y2=\"90\" />\n",
       "  <line x1=\"144\" y1=\"14\" x2=\"144\" y2=\"90\" style=\"stroke-width:2\" />\n",
       "\n",
       "  <!-- Colored Rectangle -->\n",
       "  <polygon points=\"24.9485979497544,14.948597949754403 144.9485979497544,14.948597949754403 144.9485979497544,90.50859068890851 24.9485979497544,90.50859068890851\" style=\"fill:#8B4903A0;stroke-width:0\"/>\n",
       "\n",
       "  <!-- Text -->\n",
       "  <text x=\"84.948598\" y=\"110.508591\" font-size=\"1.0rem\" font-weight=\"100\" text-anchor=\"middle\" >33054</text>\n",
       "  <text x=\"164.948598\" y=\"52.728594\" font-size=\"1.0rem\" font-weight=\"100\" text-anchor=\"middle\" transform=\"rotate(-90,164.948598,52.728594)\">20813</text>\n",
       "  <text x=\"7.474299\" y=\"103.034292\" font-size=\"1.0rem\" font-weight=\"100\" text-anchor=\"middle\" transform=\"rotate(45,7.474299,103.034292)\">6</text>\n",
       "</svg>\n",
       "        </td>\n",
       "    </tr>\n",
       "</table>"
      ],
      "text/plain": [
       "dask.array<from-zarr, shape=(6, 20813, 33054), dtype=uint16, chunksize=(1, 992, 1008), chunktype=numpy.ndarray>"
      ]
     },
     "execution_count": 13,
     "metadata": {},
     "output_type": "execute_result"
    }
   ],
   "source": [
    "c2r.pyramid[0]"
   ]
  },
  {
   "cell_type": "code",
   "execution_count": 17,
   "metadata": {},
   "outputs": [
    {
     "data": {
      "text/html": [
       "<table>\n",
       "    <tr>\n",
       "        <td>\n",
       "            <table style=\"border-collapse: collapse;\">\n",
       "                <thead>\n",
       "                    <tr>\n",
       "                        <td> </td>\n",
       "                        <th> Array </th>\n",
       "                        <th> Chunk </th>\n",
       "                    </tr>\n",
       "                </thead>\n",
       "                <tbody>\n",
       "                    \n",
       "                    <tr>\n",
       "                        <th> Bytes </th>\n",
       "                        <td> 7.69 GiB </td>\n",
       "                        <td> 1.00 MiB </td>\n",
       "                    </tr>\n",
       "                    \n",
       "                    <tr>\n",
       "                        <th> Shape </th>\n",
       "                        <td> (3, 41626, 66108) </td>\n",
       "                        <td> (1, 1024, 1024) </td>\n",
       "                    </tr>\n",
       "                    <tr>\n",
       "                        <th> Dask graph </th>\n",
       "                        <td colspan=\"2\"> 7995 chunks in 2 graph layers </td>\n",
       "                    </tr>\n",
       "                    <tr>\n",
       "                        <th> Data type </th>\n",
       "                        <td colspan=\"2\"> uint8 numpy.ndarray </td>\n",
       "                    </tr>\n",
       "                </tbody>\n",
       "            </table>\n",
       "        </td>\n",
       "        <td>\n",
       "        <svg width=\"194\" height=\"140\" style=\"stroke:rgb(0,0,0);stroke-width:1\" >\n",
       "\n",
       "  <!-- Horizontal lines -->\n",
       "  <line x1=\"10\" y1=\"0\" x2=\"24\" y2=\"14\" style=\"stroke-width:2\" />\n",
       "  <line x1=\"10\" y1=\"3\" x2=\"24\" y2=\"18\" />\n",
       "  <line x1=\"10\" y1=\"7\" x2=\"24\" y2=\"22\" />\n",
       "  <line x1=\"10\" y1=\"11\" x2=\"24\" y2=\"26\" />\n",
       "  <line x1=\"10\" y1=\"14\" x2=\"24\" y2=\"29\" />\n",
       "  <line x1=\"10\" y1=\"18\" x2=\"24\" y2=\"33\" />\n",
       "  <line x1=\"10\" y1=\"22\" x2=\"24\" y2=\"37\" />\n",
       "  <line x1=\"10\" y1=\"27\" x2=\"24\" y2=\"42\" />\n",
       "  <line x1=\"10\" y1=\"31\" x2=\"24\" y2=\"46\" />\n",
       "  <line x1=\"10\" y1=\"35\" x2=\"24\" y2=\"50\" />\n",
       "  <line x1=\"10\" y1=\"39\" x2=\"24\" y2=\"53\" />\n",
       "  <line x1=\"10\" y1=\"42\" x2=\"24\" y2=\"57\" />\n",
       "  <line x1=\"10\" y1=\"46\" x2=\"24\" y2=\"61\" />\n",
       "  <line x1=\"10\" y1=\"52\" x2=\"24\" y2=\"66\" />\n",
       "  <line x1=\"10\" y1=\"55\" x2=\"24\" y2=\"70\" />\n",
       "  <line x1=\"10\" y1=\"59\" x2=\"24\" y2=\"74\" />\n",
       "  <line x1=\"10\" y1=\"63\" x2=\"24\" y2=\"78\" />\n",
       "  <line x1=\"10\" y1=\"66\" x2=\"24\" y2=\"81\" />\n",
       "  <line x1=\"10\" y1=\"70\" x2=\"24\" y2=\"85\" />\n",
       "  <line x1=\"10\" y1=\"75\" x2=\"24\" y2=\"90\" style=\"stroke-width:2\" />\n",
       "\n",
       "  <!-- Vertical lines -->\n",
       "  <line x1=\"10\" y1=\"0\" x2=\"10\" y2=\"75\" style=\"stroke-width:2\" />\n",
       "  <line x1=\"14\" y1=\"4\" x2=\"14\" y2=\"80\" />\n",
       "  <line x1=\"19\" y1=\"9\" x2=\"19\" y2=\"85\" />\n",
       "  <line x1=\"24\" y1=\"14\" x2=\"24\" y2=\"90\" style=\"stroke-width:2\" />\n",
       "\n",
       "  <!-- Colored Rectangle -->\n",
       "  <polygon points=\"10.0,0.0 24.9485979497544,14.948597949754403 24.9485979497544,90.50859068890851 10.0,75.55999273915411\" style=\"fill:#8B4903A0;stroke-width:0\"/>\n",
       "\n",
       "  <!-- Horizontal lines -->\n",
       "  <line x1=\"10\" y1=\"0\" x2=\"130\" y2=\"0\" style=\"stroke-width:2\" />\n",
       "  <line x1=\"14\" y1=\"4\" x2=\"134\" y2=\"4\" />\n",
       "  <line x1=\"19\" y1=\"9\" x2=\"139\" y2=\"9\" />\n",
       "  <line x1=\"24\" y1=\"14\" x2=\"144\" y2=\"14\" style=\"stroke-width:2\" />\n",
       "\n",
       "  <!-- Vertical lines -->\n",
       "  <line x1=\"10\" y1=\"0\" x2=\"24\" y2=\"14\" style=\"stroke-width:2\" />\n",
       "  <line x1=\"15\" y1=\"0\" x2=\"30\" y2=\"14\" />\n",
       "  <line x1=\"21\" y1=\"0\" x2=\"36\" y2=\"14\" />\n",
       "  <line x1=\"28\" y1=\"0\" x2=\"43\" y2=\"14\" />\n",
       "  <line x1=\"34\" y1=\"0\" x2=\"49\" y2=\"14\" />\n",
       "  <line x1=\"41\" y1=\"0\" x2=\"56\" y2=\"14\" />\n",
       "  <line x1=\"47\" y1=\"0\" x2=\"62\" y2=\"14\" />\n",
       "  <line x1=\"52\" y1=\"0\" x2=\"67\" y2=\"14\" />\n",
       "  <line x1=\"60\" y1=\"0\" x2=\"75\" y2=\"14\" />\n",
       "  <line x1=\"65\" y1=\"0\" x2=\"80\" y2=\"14\" />\n",
       "  <line x1=\"73\" y1=\"0\" x2=\"88\" y2=\"14\" />\n",
       "  <line x1=\"78\" y1=\"0\" x2=\"93\" y2=\"14\" />\n",
       "  <line x1=\"86\" y1=\"0\" x2=\"101\" y2=\"14\" />\n",
       "  <line x1=\"91\" y1=\"0\" x2=\"106\" y2=\"14\" />\n",
       "  <line x1=\"97\" y1=\"0\" x2=\"112\" y2=\"14\" />\n",
       "  <line x1=\"104\" y1=\"0\" x2=\"119\" y2=\"14\" />\n",
       "  <line x1=\"110\" y1=\"0\" x2=\"125\" y2=\"14\" />\n",
       "  <line x1=\"117\" y1=\"0\" x2=\"132\" y2=\"14\" />\n",
       "  <line x1=\"123\" y1=\"0\" x2=\"138\" y2=\"14\" />\n",
       "  <line x1=\"130\" y1=\"0\" x2=\"144\" y2=\"14\" style=\"stroke-width:2\" />\n",
       "\n",
       "  <!-- Colored Rectangle -->\n",
       "  <polygon points=\"10.0,0.0 130.0,0.0 144.9485979497544,14.948597949754403 24.9485979497544,14.948597949754403\" style=\"fill:#8B4903A0;stroke-width:0\"/>\n",
       "\n",
       "  <!-- Horizontal lines -->\n",
       "  <line x1=\"24\" y1=\"14\" x2=\"144\" y2=\"14\" style=\"stroke-width:2\" />\n",
       "  <line x1=\"24\" y1=\"18\" x2=\"144\" y2=\"18\" />\n",
       "  <line x1=\"24\" y1=\"22\" x2=\"144\" y2=\"22\" />\n",
       "  <line x1=\"24\" y1=\"26\" x2=\"144\" y2=\"26\" />\n",
       "  <line x1=\"24\" y1=\"29\" x2=\"144\" y2=\"29\" />\n",
       "  <line x1=\"24\" y1=\"33\" x2=\"144\" y2=\"33\" />\n",
       "  <line x1=\"24\" y1=\"37\" x2=\"144\" y2=\"37\" />\n",
       "  <line x1=\"24\" y1=\"42\" x2=\"144\" y2=\"42\" />\n",
       "  <line x1=\"24\" y1=\"46\" x2=\"144\" y2=\"46\" />\n",
       "  <line x1=\"24\" y1=\"50\" x2=\"144\" y2=\"50\" />\n",
       "  <line x1=\"24\" y1=\"53\" x2=\"144\" y2=\"53\" />\n",
       "  <line x1=\"24\" y1=\"57\" x2=\"144\" y2=\"57\" />\n",
       "  <line x1=\"24\" y1=\"61\" x2=\"144\" y2=\"61\" />\n",
       "  <line x1=\"24\" y1=\"66\" x2=\"144\" y2=\"66\" />\n",
       "  <line x1=\"24\" y1=\"70\" x2=\"144\" y2=\"70\" />\n",
       "  <line x1=\"24\" y1=\"74\" x2=\"144\" y2=\"74\" />\n",
       "  <line x1=\"24\" y1=\"78\" x2=\"144\" y2=\"78\" />\n",
       "  <line x1=\"24\" y1=\"81\" x2=\"144\" y2=\"81\" />\n",
       "  <line x1=\"24\" y1=\"85\" x2=\"144\" y2=\"85\" />\n",
       "  <line x1=\"24\" y1=\"90\" x2=\"144\" y2=\"90\" style=\"stroke-width:2\" />\n",
       "\n",
       "  <!-- Vertical lines -->\n",
       "  <line x1=\"24\" y1=\"14\" x2=\"24\" y2=\"90\" style=\"stroke-width:2\" />\n",
       "  <line x1=\"30\" y1=\"14\" x2=\"30\" y2=\"90\" />\n",
       "  <line x1=\"36\" y1=\"14\" x2=\"36\" y2=\"90\" />\n",
       "  <line x1=\"43\" y1=\"14\" x2=\"43\" y2=\"90\" />\n",
       "  <line x1=\"49\" y1=\"14\" x2=\"49\" y2=\"90\" />\n",
       "  <line x1=\"56\" y1=\"14\" x2=\"56\" y2=\"90\" />\n",
       "  <line x1=\"62\" y1=\"14\" x2=\"62\" y2=\"90\" />\n",
       "  <line x1=\"67\" y1=\"14\" x2=\"67\" y2=\"90\" />\n",
       "  <line x1=\"75\" y1=\"14\" x2=\"75\" y2=\"90\" />\n",
       "  <line x1=\"80\" y1=\"14\" x2=\"80\" y2=\"90\" />\n",
       "  <line x1=\"88\" y1=\"14\" x2=\"88\" y2=\"90\" />\n",
       "  <line x1=\"93\" y1=\"14\" x2=\"93\" y2=\"90\" />\n",
       "  <line x1=\"101\" y1=\"14\" x2=\"101\" y2=\"90\" />\n",
       "  <line x1=\"106\" y1=\"14\" x2=\"106\" y2=\"90\" />\n",
       "  <line x1=\"112\" y1=\"14\" x2=\"112\" y2=\"90\" />\n",
       "  <line x1=\"119\" y1=\"14\" x2=\"119\" y2=\"90\" />\n",
       "  <line x1=\"125\" y1=\"14\" x2=\"125\" y2=\"90\" />\n",
       "  <line x1=\"132\" y1=\"14\" x2=\"132\" y2=\"90\" />\n",
       "  <line x1=\"138\" y1=\"14\" x2=\"138\" y2=\"90\" />\n",
       "  <line x1=\"144\" y1=\"14\" x2=\"144\" y2=\"90\" style=\"stroke-width:2\" />\n",
       "\n",
       "  <!-- Colored Rectangle -->\n",
       "  <polygon points=\"24.9485979497544,14.948597949754403 144.9485979497544,14.948597949754403 144.9485979497544,90.50859068890851 24.9485979497544,90.50859068890851\" style=\"fill:#8B4903A0;stroke-width:0\"/>\n",
       "\n",
       "  <!-- Text -->\n",
       "  <text x=\"84.948598\" y=\"110.508591\" font-size=\"1.0rem\" font-weight=\"100\" text-anchor=\"middle\" >66108</text>\n",
       "  <text x=\"164.948598\" y=\"52.728594\" font-size=\"1.0rem\" font-weight=\"100\" text-anchor=\"middle\" transform=\"rotate(-90,164.948598,52.728594)\">41626</text>\n",
       "  <text x=\"7.474299\" y=\"103.034292\" font-size=\"1.0rem\" font-weight=\"100\" text-anchor=\"middle\" transform=\"rotate(45,7.474299,103.034292)\">3</text>\n",
       "</svg>\n",
       "        </td>\n",
       "    </tr>\n",
       "</table>"
      ],
      "text/plain": [
       "dask.array<from-zarr, shape=(3, 41626, 66108), dtype=uint8, chunksize=(1, 1024, 1024), chunktype=numpy.ndarray>"
      ]
     },
     "execution_count": 17,
     "metadata": {},
     "output_type": "execute_result"
    }
   ],
   "source": [
    "c3r.pyramid[0]"
   ]
  },
  {
   "cell_type": "code",
   "execution_count": 14,
   "metadata": {},
   "outputs": [
    {
     "data": {
      "text/plain": [
       "[(19, 41626, 66108),\n",
       " (19, 20813, 33054),\n",
       " (19, 10406, 16527),\n",
       " (19, 5203, 8263),\n",
       " (19, 2601, 4131),\n",
       " (19, 1300, 2065),\n",
       " (19, 650, 1032),\n",
       " (19, 325, 516)]"
      ]
     },
     "execution_count": 14,
     "metadata": {},
     "output_type": "execute_result"
    }
   ],
   "source": [
    "with tf.TiffFile(path_1, is_ome=False) as imgio:\n",
    "    img = zarr.open(imgio.series[0].aszarr())\n",
    "    shapes = [img[i].shape for i in range(len(img))]\n",
    "shapes"
   ]
  },
  {
   "cell_type": "code",
   "execution_count": 15,
   "metadata": {},
   "outputs": [
    {
     "data": {
      "text/plain": [
       "[(6, 20813, 33054), (6, 5204, 8264), (6, 1301, 2066), (6, 326, 517)]"
      ]
     },
     "execution_count": 15,
     "metadata": {},
     "output_type": "execute_result"
    }
   ],
   "source": [
    "with tf.TiffFile(path_2, is_ome=False) as imgio:\n",
    "    img = zarr.open(imgio.series[0].aszarr())\n",
    "    shapes = [img[i].shape for i in range(len(img))]\n",
    "shapes"
   ]
  },
  {
   "cell_type": "code",
   "execution_count": 71,
   "metadata": {},
   "outputs": [
    {
     "data": {
      "text/plain": [
       "Index(['CellID', 'DNA1', 'AF1', 'CD31', 'Ki67', 'CD68', 'CD163', 'CD20', 'CD4',\n",
       "       'CD8a', 'CD11c', 'PDL1', 'CD3e', 'ECAD', 'PD1', 'FOXP3', 'CD45',\n",
       "       'SOX10', 'EMPTY', 'pH3', 'X_centroid', 'Y_centroid', 'Area',\n",
       "       'MajorAxisLength', 'MinorAxisLength', 'Eccentricity', 'Solidity',\n",
       "       'Extent', 'Orientation'],\n",
       "      dtype='object')"
      ]
     },
     "execution_count": 71,
     "metadata": {},
     "output_type": "execute_result"
    }
   ],
   "source": [
    "import pandas as pd\n",
    "df = pd.read_csv('/Users/swarchol/Desktop/VAE OUTPUT/LSP26239_001_JRL_melanoma_test1_001360--unmicst_nucleiRing_from_mcmicro.csv')\n",
    "df.columns\n"
   ]
  },
  {
   "cell_type": "code",
   "execution_count": 6,
   "metadata": {},
   "outputs": [
    {
     "data": {
      "text/html": [
       "<table>\n",
       "    <tr>\n",
       "        <td>\n",
       "            <table style=\"border-collapse: collapse;\">\n",
       "                <thead>\n",
       "                    <tr>\n",
       "                        <td> </td>\n",
       "                        <th> Array </th>\n",
       "                        <th> Chunk </th>\n",
       "                    </tr>\n",
       "                </thead>\n",
       "                <tbody>\n",
       "                    \n",
       "                    <tr>\n",
       "                        <th> Bytes </th>\n",
       "                        <td> 1.93 MiB </td>\n",
       "                        <td> 329.18 kiB </td>\n",
       "                    </tr>\n",
       "                    \n",
       "                    <tr>\n",
       "                        <th> Shape </th>\n",
       "                        <td> (6, 326, 517) </td>\n",
       "                        <td> (1, 326, 517) </td>\n",
       "                    </tr>\n",
       "                    <tr>\n",
       "                        <th> Dask graph </th>\n",
       "                        <td colspan=\"2\"> 6 chunks in 2 graph layers </td>\n",
       "                    </tr>\n",
       "                    <tr>\n",
       "                        <th> Data type </th>\n",
       "                        <td colspan=\"2\"> uint16 numpy.ndarray </td>\n",
       "                    </tr>\n",
       "                </tbody>\n",
       "            </table>\n",
       "        </td>\n",
       "        <td>\n",
       "        <svg width=\"195\" height=\"141\" style=\"stroke:rgb(0,0,0);stroke-width:1\" >\n",
       "\n",
       "  <!-- Horizontal lines -->\n",
       "  <line x1=\"10\" y1=\"0\" x2=\"25\" y2=\"15\" style=\"stroke-width:2\" />\n",
       "  <line x1=\"10\" y1=\"75\" x2=\"25\" y2=\"91\" style=\"stroke-width:2\" />\n",
       "\n",
       "  <!-- Vertical lines -->\n",
       "  <line x1=\"10\" y1=\"0\" x2=\"10\" y2=\"75\" style=\"stroke-width:2\" />\n",
       "  <line x1=\"12\" y1=\"2\" x2=\"12\" y2=\"78\" />\n",
       "  <line x1=\"15\" y1=\"5\" x2=\"15\" y2=\"80\" />\n",
       "  <line x1=\"17\" y1=\"7\" x2=\"17\" y2=\"83\" />\n",
       "  <line x1=\"20\" y1=\"10\" x2=\"20\" y2=\"85\" />\n",
       "  <line x1=\"22\" y1=\"12\" x2=\"22\" y2=\"88\" />\n",
       "  <line x1=\"25\" y1=\"15\" x2=\"25\" y2=\"91\" style=\"stroke-width:2\" />\n",
       "\n",
       "  <!-- Colored Rectangle -->\n",
       "  <polygon points=\"10.0,0.0 25.37624452767553,15.376244527675532 25.37624452767553,91.04355593966778 10.0,75.66731141199226\" style=\"fill:#ECB172A0;stroke-width:0\"/>\n",
       "\n",
       "  <!-- Horizontal lines -->\n",
       "  <line x1=\"10\" y1=\"0\" x2=\"130\" y2=\"0\" style=\"stroke-width:2\" />\n",
       "  <line x1=\"12\" y1=\"2\" x2=\"132\" y2=\"2\" />\n",
       "  <line x1=\"15\" y1=\"5\" x2=\"135\" y2=\"5\" />\n",
       "  <line x1=\"17\" y1=\"7\" x2=\"137\" y2=\"7\" />\n",
       "  <line x1=\"20\" y1=\"10\" x2=\"140\" y2=\"10\" />\n",
       "  <line x1=\"22\" y1=\"12\" x2=\"142\" y2=\"12\" />\n",
       "  <line x1=\"25\" y1=\"15\" x2=\"145\" y2=\"15\" style=\"stroke-width:2\" />\n",
       "\n",
       "  <!-- Vertical lines -->\n",
       "  <line x1=\"10\" y1=\"0\" x2=\"25\" y2=\"15\" style=\"stroke-width:2\" />\n",
       "  <line x1=\"130\" y1=\"0\" x2=\"145\" y2=\"15\" style=\"stroke-width:2\" />\n",
       "\n",
       "  <!-- Colored Rectangle -->\n",
       "  <polygon points=\"10.0,0.0 130.0,0.0 145.37624452767554,15.376244527675532 25.37624452767553,15.376244527675532\" style=\"fill:#ECB172A0;stroke-width:0\"/>\n",
       "\n",
       "  <!-- Horizontal lines -->\n",
       "  <line x1=\"25\" y1=\"15\" x2=\"145\" y2=\"15\" style=\"stroke-width:2\" />\n",
       "  <line x1=\"25\" y1=\"91\" x2=\"145\" y2=\"91\" style=\"stroke-width:2\" />\n",
       "\n",
       "  <!-- Vertical lines -->\n",
       "  <line x1=\"25\" y1=\"15\" x2=\"25\" y2=\"91\" style=\"stroke-width:2\" />\n",
       "  <line x1=\"145\" y1=\"15\" x2=\"145\" y2=\"91\" style=\"stroke-width:2\" />\n",
       "\n",
       "  <!-- Colored Rectangle -->\n",
       "  <polygon points=\"25.37624452767553,15.376244527675532 145.37624452767554,15.376244527675532 145.37624452767554,91.04355593966778 25.37624452767553,91.04355593966778\" style=\"fill:#ECB172A0;stroke-width:0\"/>\n",
       "\n",
       "  <!-- Text -->\n",
       "  <text x=\"85.376245\" y=\"111.043556\" font-size=\"1.0rem\" font-weight=\"100\" text-anchor=\"middle\" >517</text>\n",
       "  <text x=\"165.376245\" y=\"53.209900\" font-size=\"1.0rem\" font-weight=\"100\" text-anchor=\"middle\" transform=\"rotate(-90,165.376245,53.209900)\">326</text>\n",
       "  <text x=\"7.688122\" y=\"103.355434\" font-size=\"1.0rem\" font-weight=\"100\" text-anchor=\"middle\" transform=\"rotate(45,7.688122,103.355434)\">6</text>\n",
       "</svg>\n",
       "        </td>\n",
       "    </tr>\n",
       "</table>"
      ],
      "text/plain": [
       "dask.array<from-zarr, shape=(6, 326, 517), dtype=uint16, chunksize=(1, 326, 517), chunktype=numpy.ndarray>"
      ]
     },
     "execution_count": 6,
     "metadata": {},
     "output_type": "execute_result"
    }
   ],
   "source": []
  },
  {
   "cell_type": "code",
   "execution_count": 14,
   "metadata": {},
   "outputs": [
    {
     "data": {
      "text/html": [
       "<table>\n",
       "    <tr>\n",
       "        <td>\n",
       "            <table style=\"border-collapse: collapse;\">\n",
       "                <thead>\n",
       "                    <tr>\n",
       "                        <td> </td>\n",
       "                        <th> Array </th>\n",
       "                        <th> Chunk </th>\n",
       "                    </tr>\n",
       "                </thead>\n",
       "                <tbody>\n",
       "                    \n",
       "                    <tr>\n",
       "                        <th> Bytes </th>\n",
       "                        <td> 97.39 GiB </td>\n",
       "                        <td> 2.00 MiB </td>\n",
       "                    </tr>\n",
       "                    \n",
       "                    <tr>\n",
       "                        <th> Shape </th>\n",
       "                        <td> (19, 41626, 66108) </td>\n",
       "                        <td> (1, 1024, 1024) </td>\n",
       "                    </tr>\n",
       "                    <tr>\n",
       "                        <th> Dask graph </th>\n",
       "                        <td colspan=\"2\"> 50635 chunks in 2 graph layers </td>\n",
       "                    </tr>\n",
       "                    <tr>\n",
       "                        <th> Data type </th>\n",
       "                        <td colspan=\"2\"> uint16 numpy.ndarray </td>\n",
       "                    </tr>\n",
       "                </tbody>\n",
       "            </table>\n",
       "        </td>\n",
       "        <td>\n",
       "        <svg width=\"194\" height=\"140\" style=\"stroke:rgb(0,0,0);stroke-width:1\" >\n",
       "\n",
       "  <!-- Horizontal lines -->\n",
       "  <line x1=\"10\" y1=\"0\" x2=\"24\" y2=\"14\" style=\"stroke-width:2\" />\n",
       "  <line x1=\"10\" y1=\"3\" x2=\"24\" y2=\"18\" />\n",
       "  <line x1=\"10\" y1=\"7\" x2=\"24\" y2=\"22\" />\n",
       "  <line x1=\"10\" y1=\"11\" x2=\"24\" y2=\"26\" />\n",
       "  <line x1=\"10\" y1=\"14\" x2=\"24\" y2=\"29\" />\n",
       "  <line x1=\"10\" y1=\"18\" x2=\"24\" y2=\"33\" />\n",
       "  <line x1=\"10\" y1=\"22\" x2=\"24\" y2=\"37\" />\n",
       "  <line x1=\"10\" y1=\"27\" x2=\"24\" y2=\"42\" />\n",
       "  <line x1=\"10\" y1=\"31\" x2=\"24\" y2=\"46\" />\n",
       "  <line x1=\"10\" y1=\"35\" x2=\"24\" y2=\"50\" />\n",
       "  <line x1=\"10\" y1=\"39\" x2=\"24\" y2=\"53\" />\n",
       "  <line x1=\"10\" y1=\"42\" x2=\"24\" y2=\"57\" />\n",
       "  <line x1=\"10\" y1=\"46\" x2=\"24\" y2=\"61\" />\n",
       "  <line x1=\"10\" y1=\"52\" x2=\"24\" y2=\"66\" />\n",
       "  <line x1=\"10\" y1=\"55\" x2=\"24\" y2=\"70\" />\n",
       "  <line x1=\"10\" y1=\"59\" x2=\"24\" y2=\"74\" />\n",
       "  <line x1=\"10\" y1=\"63\" x2=\"24\" y2=\"78\" />\n",
       "  <line x1=\"10\" y1=\"66\" x2=\"24\" y2=\"81\" />\n",
       "  <line x1=\"10\" y1=\"70\" x2=\"24\" y2=\"85\" />\n",
       "  <line x1=\"10\" y1=\"75\" x2=\"24\" y2=\"90\" style=\"stroke-width:2\" />\n",
       "\n",
       "  <!-- Vertical lines -->\n",
       "  <line x1=\"10\" y1=\"0\" x2=\"10\" y2=\"75\" style=\"stroke-width:2\" />\n",
       "  <line x1=\"10\" y1=\"0\" x2=\"10\" y2=\"76\" />\n",
       "  <line x1=\"11\" y1=\"1\" x2=\"11\" y2=\"77\" />\n",
       "  <line x1=\"12\" y1=\"2\" x2=\"12\" y2=\"77\" />\n",
       "  <line x1=\"13\" y1=\"3\" x2=\"13\" y2=\"78\" />\n",
       "  <line x1=\"13\" y1=\"3\" x2=\"13\" y2=\"79\" />\n",
       "  <line x1=\"14\" y1=\"4\" x2=\"14\" y2=\"80\" />\n",
       "  <line x1=\"15\" y1=\"5\" x2=\"15\" y2=\"81\" />\n",
       "  <line x1=\"16\" y1=\"6\" x2=\"16\" y2=\"81\" />\n",
       "  <line x1=\"17\" y1=\"7\" x2=\"17\" y2=\"82\" />\n",
       "  <line x1=\"17\" y1=\"7\" x2=\"17\" y2=\"83\" />\n",
       "  <line x1=\"18\" y1=\"8\" x2=\"18\" y2=\"84\" />\n",
       "  <line x1=\"19\" y1=\"9\" x2=\"19\" y2=\"85\" />\n",
       "  <line x1=\"20\" y1=\"10\" x2=\"20\" y2=\"85\" />\n",
       "  <line x1=\"21\" y1=\"11\" x2=\"21\" y2=\"86\" />\n",
       "  <line x1=\"21\" y1=\"11\" x2=\"21\" y2=\"87\" />\n",
       "  <line x1=\"22\" y1=\"12\" x2=\"22\" y2=\"88\" />\n",
       "  <line x1=\"23\" y1=\"13\" x2=\"23\" y2=\"88\" />\n",
       "  <line x1=\"24\" y1=\"14\" x2=\"24\" y2=\"89\" />\n",
       "  <line x1=\"24\" y1=\"14\" x2=\"24\" y2=\"90\" style=\"stroke-width:2\" />\n",
       "\n",
       "  <!-- Colored Rectangle -->\n",
       "  <polygon points=\"10.0,0.0 24.9485979497544,14.948597949754403 24.9485979497544,90.50859068890851 10.0,75.55999273915411\" style=\"fill:#8B4903A0;stroke-width:0\"/>\n",
       "\n",
       "  <!-- Horizontal lines -->\n",
       "  <line x1=\"10\" y1=\"0\" x2=\"130\" y2=\"0\" style=\"stroke-width:2\" />\n",
       "  <line x1=\"10\" y1=\"0\" x2=\"130\" y2=\"0\" />\n",
       "  <line x1=\"11\" y1=\"1\" x2=\"131\" y2=\"1\" />\n",
       "  <line x1=\"12\" y1=\"2\" x2=\"132\" y2=\"2\" />\n",
       "  <line x1=\"13\" y1=\"3\" x2=\"133\" y2=\"3\" />\n",
       "  <line x1=\"13\" y1=\"3\" x2=\"133\" y2=\"3\" />\n",
       "  <line x1=\"14\" y1=\"4\" x2=\"134\" y2=\"4\" />\n",
       "  <line x1=\"15\" y1=\"5\" x2=\"135\" y2=\"5\" />\n",
       "  <line x1=\"16\" y1=\"6\" x2=\"136\" y2=\"6\" />\n",
       "  <line x1=\"17\" y1=\"7\" x2=\"137\" y2=\"7\" />\n",
       "  <line x1=\"17\" y1=\"7\" x2=\"137\" y2=\"7\" />\n",
       "  <line x1=\"18\" y1=\"8\" x2=\"138\" y2=\"8\" />\n",
       "  <line x1=\"19\" y1=\"9\" x2=\"139\" y2=\"9\" />\n",
       "  <line x1=\"20\" y1=\"10\" x2=\"140\" y2=\"10\" />\n",
       "  <line x1=\"21\" y1=\"11\" x2=\"141\" y2=\"11\" />\n",
       "  <line x1=\"21\" y1=\"11\" x2=\"141\" y2=\"11\" />\n",
       "  <line x1=\"22\" y1=\"12\" x2=\"142\" y2=\"12\" />\n",
       "  <line x1=\"23\" y1=\"13\" x2=\"143\" y2=\"13\" />\n",
       "  <line x1=\"24\" y1=\"14\" x2=\"144\" y2=\"14\" />\n",
       "  <line x1=\"24\" y1=\"14\" x2=\"144\" y2=\"14\" style=\"stroke-width:2\" />\n",
       "\n",
       "  <!-- Vertical lines -->\n",
       "  <line x1=\"10\" y1=\"0\" x2=\"24\" y2=\"14\" style=\"stroke-width:2\" />\n",
       "  <line x1=\"15\" y1=\"0\" x2=\"30\" y2=\"14\" />\n",
       "  <line x1=\"21\" y1=\"0\" x2=\"36\" y2=\"14\" />\n",
       "  <line x1=\"28\" y1=\"0\" x2=\"43\" y2=\"14\" />\n",
       "  <line x1=\"34\" y1=\"0\" x2=\"49\" y2=\"14\" />\n",
       "  <line x1=\"41\" y1=\"0\" x2=\"56\" y2=\"14\" />\n",
       "  <line x1=\"47\" y1=\"0\" x2=\"62\" y2=\"14\" />\n",
       "  <line x1=\"52\" y1=\"0\" x2=\"67\" y2=\"14\" />\n",
       "  <line x1=\"60\" y1=\"0\" x2=\"75\" y2=\"14\" />\n",
       "  <line x1=\"65\" y1=\"0\" x2=\"80\" y2=\"14\" />\n",
       "  <line x1=\"73\" y1=\"0\" x2=\"88\" y2=\"14\" />\n",
       "  <line x1=\"78\" y1=\"0\" x2=\"93\" y2=\"14\" />\n",
       "  <line x1=\"86\" y1=\"0\" x2=\"101\" y2=\"14\" />\n",
       "  <line x1=\"91\" y1=\"0\" x2=\"106\" y2=\"14\" />\n",
       "  <line x1=\"97\" y1=\"0\" x2=\"112\" y2=\"14\" />\n",
       "  <line x1=\"104\" y1=\"0\" x2=\"119\" y2=\"14\" />\n",
       "  <line x1=\"110\" y1=\"0\" x2=\"125\" y2=\"14\" />\n",
       "  <line x1=\"117\" y1=\"0\" x2=\"132\" y2=\"14\" />\n",
       "  <line x1=\"123\" y1=\"0\" x2=\"138\" y2=\"14\" />\n",
       "  <line x1=\"130\" y1=\"0\" x2=\"144\" y2=\"14\" style=\"stroke-width:2\" />\n",
       "\n",
       "  <!-- Colored Rectangle -->\n",
       "  <polygon points=\"10.0,0.0 130.0,0.0 144.9485979497544,14.948597949754403 24.9485979497544,14.948597949754403\" style=\"fill:#8B4903A0;stroke-width:0\"/>\n",
       "\n",
       "  <!-- Horizontal lines -->\n",
       "  <line x1=\"24\" y1=\"14\" x2=\"144\" y2=\"14\" style=\"stroke-width:2\" />\n",
       "  <line x1=\"24\" y1=\"18\" x2=\"144\" y2=\"18\" />\n",
       "  <line x1=\"24\" y1=\"22\" x2=\"144\" y2=\"22\" />\n",
       "  <line x1=\"24\" y1=\"26\" x2=\"144\" y2=\"26\" />\n",
       "  <line x1=\"24\" y1=\"29\" x2=\"144\" y2=\"29\" />\n",
       "  <line x1=\"24\" y1=\"33\" x2=\"144\" y2=\"33\" />\n",
       "  <line x1=\"24\" y1=\"37\" x2=\"144\" y2=\"37\" />\n",
       "  <line x1=\"24\" y1=\"42\" x2=\"144\" y2=\"42\" />\n",
       "  <line x1=\"24\" y1=\"46\" x2=\"144\" y2=\"46\" />\n",
       "  <line x1=\"24\" y1=\"50\" x2=\"144\" y2=\"50\" />\n",
       "  <line x1=\"24\" y1=\"53\" x2=\"144\" y2=\"53\" />\n",
       "  <line x1=\"24\" y1=\"57\" x2=\"144\" y2=\"57\" />\n",
       "  <line x1=\"24\" y1=\"61\" x2=\"144\" y2=\"61\" />\n",
       "  <line x1=\"24\" y1=\"66\" x2=\"144\" y2=\"66\" />\n",
       "  <line x1=\"24\" y1=\"70\" x2=\"144\" y2=\"70\" />\n",
       "  <line x1=\"24\" y1=\"74\" x2=\"144\" y2=\"74\" />\n",
       "  <line x1=\"24\" y1=\"78\" x2=\"144\" y2=\"78\" />\n",
       "  <line x1=\"24\" y1=\"81\" x2=\"144\" y2=\"81\" />\n",
       "  <line x1=\"24\" y1=\"85\" x2=\"144\" y2=\"85\" />\n",
       "  <line x1=\"24\" y1=\"90\" x2=\"144\" y2=\"90\" style=\"stroke-width:2\" />\n",
       "\n",
       "  <!-- Vertical lines -->\n",
       "  <line x1=\"24\" y1=\"14\" x2=\"24\" y2=\"90\" style=\"stroke-width:2\" />\n",
       "  <line x1=\"30\" y1=\"14\" x2=\"30\" y2=\"90\" />\n",
       "  <line x1=\"36\" y1=\"14\" x2=\"36\" y2=\"90\" />\n",
       "  <line x1=\"43\" y1=\"14\" x2=\"43\" y2=\"90\" />\n",
       "  <line x1=\"49\" y1=\"14\" x2=\"49\" y2=\"90\" />\n",
       "  <line x1=\"56\" y1=\"14\" x2=\"56\" y2=\"90\" />\n",
       "  <line x1=\"62\" y1=\"14\" x2=\"62\" y2=\"90\" />\n",
       "  <line x1=\"67\" y1=\"14\" x2=\"67\" y2=\"90\" />\n",
       "  <line x1=\"75\" y1=\"14\" x2=\"75\" y2=\"90\" />\n",
       "  <line x1=\"80\" y1=\"14\" x2=\"80\" y2=\"90\" />\n",
       "  <line x1=\"88\" y1=\"14\" x2=\"88\" y2=\"90\" />\n",
       "  <line x1=\"93\" y1=\"14\" x2=\"93\" y2=\"90\" />\n",
       "  <line x1=\"101\" y1=\"14\" x2=\"101\" y2=\"90\" />\n",
       "  <line x1=\"106\" y1=\"14\" x2=\"106\" y2=\"90\" />\n",
       "  <line x1=\"112\" y1=\"14\" x2=\"112\" y2=\"90\" />\n",
       "  <line x1=\"119\" y1=\"14\" x2=\"119\" y2=\"90\" />\n",
       "  <line x1=\"125\" y1=\"14\" x2=\"125\" y2=\"90\" />\n",
       "  <line x1=\"132\" y1=\"14\" x2=\"132\" y2=\"90\" />\n",
       "  <line x1=\"138\" y1=\"14\" x2=\"138\" y2=\"90\" />\n",
       "  <line x1=\"144\" y1=\"14\" x2=\"144\" y2=\"90\" style=\"stroke-width:2\" />\n",
       "\n",
       "  <!-- Colored Rectangle -->\n",
       "  <polygon points=\"24.9485979497544,14.948597949754403 144.9485979497544,14.948597949754403 144.9485979497544,90.50859068890851 24.9485979497544,90.50859068890851\" style=\"fill:#8B4903A0;stroke-width:0\"/>\n",
       "\n",
       "  <!-- Text -->\n",
       "  <text x=\"84.948598\" y=\"110.508591\" font-size=\"1.0rem\" font-weight=\"100\" text-anchor=\"middle\" >66108</text>\n",
       "  <text x=\"164.948598\" y=\"52.728594\" font-size=\"1.0rem\" font-weight=\"100\" text-anchor=\"middle\" transform=\"rotate(-90,164.948598,52.728594)\">41626</text>\n",
       "  <text x=\"7.474299\" y=\"103.034292\" font-size=\"1.0rem\" font-weight=\"100\" text-anchor=\"middle\" transform=\"rotate(45,7.474299,103.034292)\">19</text>\n",
       "</svg>\n",
       "        </td>\n",
       "    </tr>\n",
       "</table>"
      ],
      "text/plain": [
       "dask.array<from-zarr, shape=(19, 41626, 66108), dtype=uint16, chunksize=(1, 1024, 1024), chunktype=numpy.ndarray>"
      ]
     },
     "execution_count": 14,
     "metadata": {},
     "output_type": "execute_result"
    }
   ],
   "source": [
    "c1r.pyramid[LEVEL]"
   ]
  },
  {
   "cell_type": "code",
   "execution_count": 81,
   "metadata": {},
   "outputs": [
    {
     "name": "stderr",
     "output_type": "stream",
     "text": [
      "2025-02-25 15:03:39.543 | INFO     | palom.pyramid:write_pyramid:166 - Writing to /Users/swarchol/Downloads/combined.ome.tif\n"
     ]
    },
    {
     "data": {
      "application/vnd.jupyter.widget-view+json": {
       "model_id": "1970afc5d920404f8571ff47384af23a",
       "version_major": 2,
       "version_minor": 0
      },
      "text/plain": [
       "Assembling mosaic  1/ 2 (channel  1/19):   0%|          | 0/12 [00:00<?, ?it/s]"
      ]
     },
     "metadata": {},
     "output_type": "display_data"
    },
    {
     "data": {
      "application/vnd.jupyter.widget-view+json": {
       "model_id": "26657366cee84a0cb764c15d07b391d5",
       "version_major": 2,
       "version_minor": 0
      },
      "text/plain": [
       "Assembling mosaic  1/ 2 (channel  2/19):   0%|          | 0/12 [00:00<?, ?it/s]"
      ]
     },
     "metadata": {},
     "output_type": "display_data"
    },
    {
     "data": {
      "application/vnd.jupyter.widget-view+json": {
       "model_id": "296d726268da434f9b6eea17fb7083fb",
       "version_major": 2,
       "version_minor": 0
      },
      "text/plain": [
       "Assembling mosaic  1/ 2 (channel  3/19):   0%|          | 0/12 [00:00<?, ?it/s]"
      ]
     },
     "metadata": {},
     "output_type": "display_data"
    },
    {
     "data": {
      "application/vnd.jupyter.widget-view+json": {
       "model_id": "cfbc21f6300d4e95bd1d344d0073f671",
       "version_major": 2,
       "version_minor": 0
      },
      "text/plain": [
       "Assembling mosaic  1/ 2 (channel  4/19):   0%|          | 0/12 [00:00<?, ?it/s]"
      ]
     },
     "metadata": {},
     "output_type": "display_data"
    },
    {
     "data": {
      "application/vnd.jupyter.widget-view+json": {
       "model_id": "e6e57f1d7d134c7bb2bb5d7c1fe846ca",
       "version_major": 2,
       "version_minor": 0
      },
      "text/plain": [
       "Assembling mosaic  1/ 2 (channel  5/19):   0%|          | 0/12 [00:00<?, ?it/s]"
      ]
     },
     "metadata": {},
     "output_type": "display_data"
    },
    {
     "data": {
      "application/vnd.jupyter.widget-view+json": {
       "model_id": "d06561725fb641be9a86161805ede09d",
       "version_major": 2,
       "version_minor": 0
      },
      "text/plain": [
       "Assembling mosaic  1/ 2 (channel  6/19):   0%|          | 0/12 [00:00<?, ?it/s]"
      ]
     },
     "metadata": {},
     "output_type": "display_data"
    },
    {
     "data": {
      "application/vnd.jupyter.widget-view+json": {
       "model_id": "0791fc7457cd49daad3fde1153321bd2",
       "version_major": 2,
       "version_minor": 0
      },
      "text/plain": [
       "Assembling mosaic  1/ 2 (channel  7/19):   0%|          | 0/12 [00:00<?, ?it/s]"
      ]
     },
     "metadata": {},
     "output_type": "display_data"
    },
    {
     "data": {
      "application/vnd.jupyter.widget-view+json": {
       "model_id": "cea1ff8a076f418080725d4c98eff848",
       "version_major": 2,
       "version_minor": 0
      },
      "text/plain": [
       "Assembling mosaic  1/ 2 (channel  8/19):   0%|          | 0/12 [00:00<?, ?it/s]"
      ]
     },
     "metadata": {},
     "output_type": "display_data"
    },
    {
     "data": {
      "application/vnd.jupyter.widget-view+json": {
       "model_id": "22cda8c0ae18457fb48b5267aaa88c0f",
       "version_major": 2,
       "version_minor": 0
      },
      "text/plain": [
       "Assembling mosaic  1/ 2 (channel  9/19):   0%|          | 0/12 [00:00<?, ?it/s]"
      ]
     },
     "metadata": {},
     "output_type": "display_data"
    },
    {
     "data": {
      "application/vnd.jupyter.widget-view+json": {
       "model_id": "4777e75fce3c4a6c852d7323dc5efd97",
       "version_major": 2,
       "version_minor": 0
      },
      "text/plain": [
       "Assembling mosaic  1/ 2 (channel 10/19):   0%|          | 0/12 [00:00<?, ?it/s]"
      ]
     },
     "metadata": {},
     "output_type": "display_data"
    },
    {
     "data": {
      "application/vnd.jupyter.widget-view+json": {
       "model_id": "98d3981aceaa474abc0fe520bc02828f",
       "version_major": 2,
       "version_minor": 0
      },
      "text/plain": [
       "Assembling mosaic  1/ 2 (channel 11/19):   0%|          | 0/12 [00:00<?, ?it/s]"
      ]
     },
     "metadata": {},
     "output_type": "display_data"
    },
    {
     "data": {
      "application/vnd.jupyter.widget-view+json": {
       "model_id": "7e098549492442f386e800bb306ae11f",
       "version_major": 2,
       "version_minor": 0
      },
      "text/plain": [
       "Assembling mosaic  1/ 2 (channel 12/19):   0%|          | 0/12 [00:00<?, ?it/s]"
      ]
     },
     "metadata": {},
     "output_type": "display_data"
    },
    {
     "data": {
      "application/vnd.jupyter.widget-view+json": {
       "model_id": "c84fdf5af85842e89a55e7ba7eab81ef",
       "version_major": 2,
       "version_minor": 0
      },
      "text/plain": [
       "Assembling mosaic  1/ 2 (channel 13/19):   0%|          | 0/12 [00:00<?, ?it/s]"
      ]
     },
     "metadata": {},
     "output_type": "display_data"
    },
    {
     "data": {
      "application/vnd.jupyter.widget-view+json": {
       "model_id": "1193115bccf34c4b908476aae1aa26c6",
       "version_major": 2,
       "version_minor": 0
      },
      "text/plain": [
       "Assembling mosaic  1/ 2 (channel 14/19):   0%|          | 0/12 [00:00<?, ?it/s]"
      ]
     },
     "metadata": {},
     "output_type": "display_data"
    },
    {
     "data": {
      "application/vnd.jupyter.widget-view+json": {
       "model_id": "4e0e55b0cd34431fa5300d0e4583df91",
       "version_major": 2,
       "version_minor": 0
      },
      "text/plain": [
       "Assembling mosaic  1/ 2 (channel 15/19):   0%|          | 0/12 [00:00<?, ?it/s]"
      ]
     },
     "metadata": {},
     "output_type": "display_data"
    },
    {
     "data": {
      "application/vnd.jupyter.widget-view+json": {
       "model_id": "d93d0a54a7ec4c299c3eda572010d916",
       "version_major": 2,
       "version_minor": 0
      },
      "text/plain": [
       "Assembling mosaic  1/ 2 (channel 16/19):   0%|          | 0/12 [00:00<?, ?it/s]"
      ]
     },
     "metadata": {},
     "output_type": "display_data"
    },
    {
     "data": {
      "application/vnd.jupyter.widget-view+json": {
       "model_id": "8532aaac12d94b32bb877f7dde420524",
       "version_major": 2,
       "version_minor": 0
      },
      "text/plain": [
       "Assembling mosaic  1/ 2 (channel 17/19):   0%|          | 0/12 [00:00<?, ?it/s]"
      ]
     },
     "metadata": {},
     "output_type": "display_data"
    },
    {
     "data": {
      "application/vnd.jupyter.widget-view+json": {
       "model_id": "c137124ecafb4940a8c86bbb90949009",
       "version_major": 2,
       "version_minor": 0
      },
      "text/plain": [
       "Assembling mosaic  1/ 2 (channel 18/19):   0%|          | 0/12 [00:00<?, ?it/s]"
      ]
     },
     "metadata": {},
     "output_type": "display_data"
    },
    {
     "data": {
      "application/vnd.jupyter.widget-view+json": {
       "model_id": "8e1e8f198e76409aa85cbf3bf690b6e1",
       "version_major": 2,
       "version_minor": 0
      },
      "text/plain": [
       "Assembling mosaic  1/ 2 (channel 19/19):   0%|          | 0/12 [00:00<?, ?it/s]"
      ]
     },
     "metadata": {},
     "output_type": "display_data"
    },
    {
     "data": {
      "application/vnd.jupyter.widget-view+json": {
       "model_id": "1d366250ec3844dba92fa36b20cac1e9",
       "version_major": 2,
       "version_minor": 0
      },
      "text/plain": [
       "Assembling mosaic  2/ 2 (channel  1/ 3):   0%|          | 0/12 [00:00<?, ?it/s]"
      ]
     },
     "metadata": {},
     "output_type": "display_data"
    },
    {
     "data": {
      "application/vnd.jupyter.widget-view+json": {
       "model_id": "dd444d87926f45d899a249bfa7c1de02",
       "version_major": 2,
       "version_minor": 0
      },
      "text/plain": [
       "Assembling mosaic  2/ 2 (channel  2/ 3):   0%|          | 0/12 [00:00<?, ?it/s]"
      ]
     },
     "metadata": {},
     "output_type": "display_data"
    },
    {
     "data": {
      "application/vnd.jupyter.widget-view+json": {
       "model_id": "0bf3198f1e1f40e0a989efea2ba9cb4e",
       "version_major": 2,
       "version_minor": 0
      },
      "text/plain": [
       "Assembling mosaic  2/ 2 (channel  3/ 3):   0%|          | 0/12 [00:00<?, ?it/s]"
      ]
     },
     "metadata": {},
     "output_type": "display_data"
    },
    {
     "name": "stderr",
     "output_type": "stream",
     "text": [
      "2025-02-25 15:04:30.234 | INFO     | palom.pyramid:write_pyramid:182 - Generating pyramid\n",
      "2025-02-25 15:04:30.236 | INFO     | palom.pyramid:write_pyramid:185 -     Level 1 (650 x 1033)\n",
      "Processing channel: 100%|##########| 22/22 [00:04<00:00,  4.62it/s]\n",
      "2025-02-25 15:04:35.011 | INFO     | palom.pyramid:write_pyramid:185 -     Level 2 (325 x 517)\n",
      "Processing channel: 100%|##########| 22/22 [00:04<00:00,  4.58it/s]\n"
     ]
    },
    {
     "ename": "",
     "evalue": "",
     "output_type": "error",
     "traceback": [
      "\u001b[1;31mThe Kernel crashed while executing code in the current cell or a previous cell. \n",
      "\u001b[1;31mPlease review the code in the cell(s) to identify a possible cause of the failure. \n",
      "\u001b[1;31mClick <a href='https://aka.ms/vscodeJupyterKernelCrash'>here</a> for more info. \n",
      "\u001b[1;31mView Jupyter <a href='command:jupyter.viewOutput'>log</a> for further details."
     ]
    }
   ],
   "source": [
    "LEVEL = 4\n",
    "from ome_types import from_tiff\n",
    "\n",
    "# Get number of channels in each mosaic\n",
    "num_channels_cycif = c1r.pyramid[5].shape[0]  # First mosaic channel count\n",
    "num_channels_he = 3  # Second mosaic has 3 H&E channels\n",
    "\n",
    "# Define names for each mosaic\n",
    "cycif_names = ['DNA1', 'AF1', 'CD31', 'Ki67', 'CD68', 'CD163', 'CD20', 'CD4',\n",
    "       'CD8a', 'CD11c', 'PDL1', 'CD3e', 'ECAD', 'PD1', 'FOXP3', 'CD45',\n",
    "       'SOX10', 'EMPTY', 'pH3']\n",
    "\n",
    "h_and_e_names = ['H&E R', 'H&E G', 'H&E B']\n",
    "\n",
    "# Pass names as list of lists to match mosaic structure\n",
    "channel_names = [cycif_names, h_and_e_names]\n",
    "\n",
    "palom.pyramid.write_pyramid(\n",
    "    mosaics=[\n",
    "        c1r.pyramid[5],\n",
    "        c2r.read_level_channels(2, [0, 1, 2]),\n",
    "    ],\n",
    "    output_path=r\"/Users/swarchol/Downloads/combined.ome.tif\", \n",
    "    downscale_factor=2,\n",
    "    channel_names=channel_names\n",
    ")"
   ]
  },
  {
   "cell_type": "code",
   "execution_count": 10,
   "metadata": {},
   "outputs": [],
   "source": [
    "c3r = palom.reader.OmePyramidReader(r\"/Volumes/HiTS/lsp-data/cycif-production/189-neoadjuvant-melanoma/p135_B550_e1_Orion/mcmicro_output/LSP26239/combined/combined.ome.tif\")"
   ]
  },
  {
   "cell_type": "code",
   "execution_count": 78,
   "metadata": {},
   "outputs": [
    {
     "data": {
      "text/plain": [
       "['DNA1',\n",
       " 'AF1',\n",
       " 'CD31',\n",
       " 'Ki67',\n",
       " 'CD68',\n",
       " 'CD163',\n",
       " 'CD20',\n",
       " 'CD4',\n",
       " 'CD8a',\n",
       " 'CD11c',\n",
       " 'PDL1',\n",
       " 'CD3e',\n",
       " 'ECAD',\n",
       " 'PD1',\n",
       " 'FOXP3',\n",
       " 'CD45',\n",
       " 'SOX10',\n",
       " 'EMPTY',\n",
       " 'pH3',\n",
       " 'H&E R',\n",
       " 'H&E G',\n",
       " 'H&E B']"
      ]
     },
     "execution_count": 78,
     "metadata": {},
     "output_type": "execute_result"
    }
   ],
   "source": [
    "total_names"
   ]
  },
  {
   "cell_type": "code",
   "execution_count": 51,
   "metadata": {},
   "outputs": [
    {
     "data": {
      "text/html": [
       "<table>\n",
       "    <tr>\n",
       "        <td>\n",
       "            <table style=\"border-collapse: collapse;\">\n",
       "                <thead>\n",
       "                    <tr>\n",
       "                        <td> </td>\n",
       "                        <th> Array </th>\n",
       "                        <th> Chunk </th>\n",
       "                    </tr>\n",
       "                </thead>\n",
       "                <tbody>\n",
       "                    \n",
       "                    <tr>\n",
       "                        <th> Bytes </th>\n",
       "                        <td> 234.38 kiB </td>\n",
       "                        <td> 3.12 kiB </td>\n",
       "                    </tr>\n",
       "                    \n",
       "                    <tr>\n",
       "                        <th> Shape </th>\n",
       "                        <td> (3, 200, 200) </td>\n",
       "                        <td> (1, 40, 40) </td>\n",
       "                    </tr>\n",
       "                    <tr>\n",
       "                        <th> Dask graph </th>\n",
       "                        <td colspan=\"2\"> 75 chunks in 2 graph layers </td>\n",
       "                    </tr>\n",
       "                    <tr>\n",
       "                        <th> Data type </th>\n",
       "                        <td colspan=\"2\"> uint16 numpy.ndarray </td>\n",
       "                    </tr>\n",
       "                </tbody>\n",
       "            </table>\n",
       "        </td>\n",
       "        <td>\n",
       "        <svg width=\"196\" height=\"186\" style=\"stroke:rgb(0,0,0);stroke-width:1\" >\n",
       "\n",
       "  <!-- Horizontal lines -->\n",
       "  <line x1=\"10\" y1=\"0\" x2=\"26\" y2=\"16\" style=\"stroke-width:2\" />\n",
       "  <line x1=\"10\" y1=\"24\" x2=\"26\" y2=\"40\" />\n",
       "  <line x1=\"10\" y1=\"48\" x2=\"26\" y2=\"64\" />\n",
       "  <line x1=\"10\" y1=\"72\" x2=\"26\" y2=\"88\" />\n",
       "  <line x1=\"10\" y1=\"96\" x2=\"26\" y2=\"112\" />\n",
       "  <line x1=\"10\" y1=\"120\" x2=\"26\" y2=\"136\" style=\"stroke-width:2\" />\n",
       "\n",
       "  <!-- Vertical lines -->\n",
       "  <line x1=\"10\" y1=\"0\" x2=\"10\" y2=\"120\" style=\"stroke-width:2\" />\n",
       "  <line x1=\"15\" y1=\"5\" x2=\"15\" y2=\"125\" />\n",
       "  <line x1=\"20\" y1=\"10\" x2=\"20\" y2=\"130\" />\n",
       "  <line x1=\"26\" y1=\"16\" x2=\"26\" y2=\"136\" style=\"stroke-width:2\" />\n",
       "\n",
       "  <!-- Colored Rectangle -->\n",
       "  <polygon points=\"10.0,0.0 26.1518372990189,16.1518372990189 26.1518372990189,136.1518372990189 10.0,120.0\" style=\"fill:#ECB172A0;stroke-width:0\"/>\n",
       "\n",
       "  <!-- Horizontal lines -->\n",
       "  <line x1=\"10\" y1=\"0\" x2=\"130\" y2=\"0\" style=\"stroke-width:2\" />\n",
       "  <line x1=\"15\" y1=\"5\" x2=\"135\" y2=\"5\" />\n",
       "  <line x1=\"20\" y1=\"10\" x2=\"140\" y2=\"10\" />\n",
       "  <line x1=\"26\" y1=\"16\" x2=\"146\" y2=\"16\" style=\"stroke-width:2\" />\n",
       "\n",
       "  <!-- Vertical lines -->\n",
       "  <line x1=\"10\" y1=\"0\" x2=\"26\" y2=\"16\" style=\"stroke-width:2\" />\n",
       "  <line x1=\"34\" y1=\"0\" x2=\"50\" y2=\"16\" />\n",
       "  <line x1=\"58\" y1=\"0\" x2=\"74\" y2=\"16\" />\n",
       "  <line x1=\"82\" y1=\"0\" x2=\"98\" y2=\"16\" />\n",
       "  <line x1=\"106\" y1=\"0\" x2=\"122\" y2=\"16\" />\n",
       "  <line x1=\"130\" y1=\"0\" x2=\"146\" y2=\"16\" style=\"stroke-width:2\" />\n",
       "\n",
       "  <!-- Colored Rectangle -->\n",
       "  <polygon points=\"10.0,0.0 130.0,0.0 146.1518372990189,16.1518372990189 26.1518372990189,16.1518372990189\" style=\"fill:#ECB172A0;stroke-width:0\"/>\n",
       "\n",
       "  <!-- Horizontal lines -->\n",
       "  <line x1=\"26\" y1=\"16\" x2=\"146\" y2=\"16\" style=\"stroke-width:2\" />\n",
       "  <line x1=\"26\" y1=\"40\" x2=\"146\" y2=\"40\" />\n",
       "  <line x1=\"26\" y1=\"64\" x2=\"146\" y2=\"64\" />\n",
       "  <line x1=\"26\" y1=\"88\" x2=\"146\" y2=\"88\" />\n",
       "  <line x1=\"26\" y1=\"112\" x2=\"146\" y2=\"112\" />\n",
       "  <line x1=\"26\" y1=\"136\" x2=\"146\" y2=\"136\" style=\"stroke-width:2\" />\n",
       "\n",
       "  <!-- Vertical lines -->\n",
       "  <line x1=\"26\" y1=\"16\" x2=\"26\" y2=\"136\" style=\"stroke-width:2\" />\n",
       "  <line x1=\"50\" y1=\"16\" x2=\"50\" y2=\"136\" />\n",
       "  <line x1=\"74\" y1=\"16\" x2=\"74\" y2=\"136\" />\n",
       "  <line x1=\"98\" y1=\"16\" x2=\"98\" y2=\"136\" />\n",
       "  <line x1=\"122\" y1=\"16\" x2=\"122\" y2=\"136\" />\n",
       "  <line x1=\"146\" y1=\"16\" x2=\"146\" y2=\"136\" style=\"stroke-width:2\" />\n",
       "\n",
       "  <!-- Colored Rectangle -->\n",
       "  <polygon points=\"26.1518372990189,16.1518372990189 146.1518372990189,16.1518372990189 146.1518372990189,136.1518372990189 26.1518372990189,136.1518372990189\" style=\"fill:#ECB172A0;stroke-width:0\"/>\n",
       "\n",
       "  <!-- Text -->\n",
       "  <text x=\"86.151837\" y=\"156.151837\" font-size=\"1.0rem\" font-weight=\"100\" text-anchor=\"middle\" >200</text>\n",
       "  <text x=\"166.151837\" y=\"76.151837\" font-size=\"1.0rem\" font-weight=\"100\" text-anchor=\"middle\" transform=\"rotate(-90,166.151837,76.151837)\">200</text>\n",
       "  <text x=\"8.075919\" y=\"148.075919\" font-size=\"1.0rem\" font-weight=\"100\" text-anchor=\"middle\" transform=\"rotate(45,8.075919,148.075919)\">3</text>\n",
       "</svg>\n",
       "        </td>\n",
       "    </tr>\n",
       "</table>"
      ],
      "text/plain": [
       "dask.array<lambda, shape=(3, 200, 200), dtype=uint16, chunksize=(1, 40, 40), chunktype=numpy.ndarray>"
      ]
     },
     "execution_count": 51,
     "metadata": {},
     "output_type": "execute_result"
    }
   ],
   "source": [
    "import dask.array as da\n",
    "import numpy as np\n",
    "from scipy.ndimage import zoom\n",
    "\n",
    "data = da.random.randint(0,100, (3,100,100), chunks=(1,20,20))\n",
    "data_upsampled = da.map_blocks(lambda x: zoom(x,(1,2,2)), data, dtype=np.uint16, chunks=(1,40,40))\n",
    "data_upsampled\n"
   ]
  },
  {
   "cell_type": "code",
   "execution_count": 28,
   "metadata": {},
   "outputs": [
    {
     "data": {
      "text/html": [
       "<table>\n",
       "    <tr>\n",
       "        <td>\n",
       "            <table style=\"border-collapse: collapse;\">\n",
       "                <thead>\n",
       "                    <tr>\n",
       "                        <td> </td>\n",
       "                        <th> Array </th>\n",
       "                        <th> Chunk </th>\n",
       "                    </tr>\n",
       "                </thead>\n",
       "                <tbody>\n",
       "                    \n",
       "                    <tr>\n",
       "                        <th> Bytes </th>\n",
       "                        <td> 30.76 MiB </td>\n",
       "                        <td> 902.00 kiB </td>\n",
       "                    </tr>\n",
       "                    \n",
       "                    <tr>\n",
       "                        <th> Shape </th>\n",
       "                        <td> (6, 1301, 2066) </td>\n",
       "                        <td> (1, 656, 704) </td>\n",
       "                    </tr>\n",
       "                    <tr>\n",
       "                        <th> Dask graph </th>\n",
       "                        <td colspan=\"2\"> 36 chunks in 2 graph layers </td>\n",
       "                    </tr>\n",
       "                    <tr>\n",
       "                        <th> Data type </th>\n",
       "                        <td colspan=\"2\"> uint16 numpy.ndarray </td>\n",
       "                    </tr>\n",
       "                </tbody>\n",
       "            </table>\n",
       "        </td>\n",
       "        <td>\n",
       "        <svg width=\"194\" height=\"140\" style=\"stroke:rgb(0,0,0);stroke-width:1\" >\n",
       "\n",
       "  <!-- Horizontal lines -->\n",
       "  <line x1=\"10\" y1=\"0\" x2=\"24\" y2=\"14\" style=\"stroke-width:2\" />\n",
       "  <line x1=\"10\" y1=\"38\" x2=\"24\" y2=\"53\" />\n",
       "  <line x1=\"10\" y1=\"75\" x2=\"24\" y2=\"90\" style=\"stroke-width:2\" />\n",
       "\n",
       "  <!-- Vertical lines -->\n",
       "  <line x1=\"10\" y1=\"0\" x2=\"10\" y2=\"75\" style=\"stroke-width:2\" />\n",
       "  <line x1=\"12\" y1=\"2\" x2=\"12\" y2=\"78\" />\n",
       "  <line x1=\"14\" y1=\"4\" x2=\"14\" y2=\"80\" />\n",
       "  <line x1=\"17\" y1=\"7\" x2=\"17\" y2=\"83\" />\n",
       "  <line x1=\"19\" y1=\"9\" x2=\"19\" y2=\"85\" />\n",
       "  <line x1=\"22\" y1=\"12\" x2=\"22\" y2=\"88\" />\n",
       "  <line x1=\"24\" y1=\"14\" x2=\"24\" y2=\"90\" style=\"stroke-width:2\" />\n",
       "\n",
       "  <!-- Colored Rectangle -->\n",
       "  <polygon points=\"10.0,0.0 24.9485979497544,14.948597949754403 24.9485979497544,90.51490966321036 10.0,75.56631171345596\" style=\"fill:#ECB172A0;stroke-width:0\"/>\n",
       "\n",
       "  <!-- Horizontal lines -->\n",
       "  <line x1=\"10\" y1=\"0\" x2=\"130\" y2=\"0\" style=\"stroke-width:2\" />\n",
       "  <line x1=\"12\" y1=\"2\" x2=\"132\" y2=\"2\" />\n",
       "  <line x1=\"14\" y1=\"4\" x2=\"134\" y2=\"4\" />\n",
       "  <line x1=\"17\" y1=\"7\" x2=\"137\" y2=\"7\" />\n",
       "  <line x1=\"19\" y1=\"9\" x2=\"139\" y2=\"9\" />\n",
       "  <line x1=\"22\" y1=\"12\" x2=\"142\" y2=\"12\" />\n",
       "  <line x1=\"24\" y1=\"14\" x2=\"144\" y2=\"14\" style=\"stroke-width:2\" />\n",
       "\n",
       "  <!-- Vertical lines -->\n",
       "  <line x1=\"10\" y1=\"0\" x2=\"24\" y2=\"14\" style=\"stroke-width:2\" />\n",
       "  <line x1=\"50\" y1=\"0\" x2=\"65\" y2=\"14\" />\n",
       "  <line x1=\"91\" y1=\"0\" x2=\"106\" y2=\"14\" />\n",
       "  <line x1=\"130\" y1=\"0\" x2=\"144\" y2=\"14\" style=\"stroke-width:2\" />\n",
       "\n",
       "  <!-- Colored Rectangle -->\n",
       "  <polygon points=\"10.0,0.0 130.0,0.0 144.9485979497544,14.948597949754403 24.9485979497544,14.948597949754403\" style=\"fill:#ECB172A0;stroke-width:0\"/>\n",
       "\n",
       "  <!-- Horizontal lines -->\n",
       "  <line x1=\"24\" y1=\"14\" x2=\"144\" y2=\"14\" style=\"stroke-width:2\" />\n",
       "  <line x1=\"24\" y1=\"53\" x2=\"144\" y2=\"53\" />\n",
       "  <line x1=\"24\" y1=\"90\" x2=\"144\" y2=\"90\" style=\"stroke-width:2\" />\n",
       "\n",
       "  <!-- Vertical lines -->\n",
       "  <line x1=\"24\" y1=\"14\" x2=\"24\" y2=\"90\" style=\"stroke-width:2\" />\n",
       "  <line x1=\"65\" y1=\"14\" x2=\"65\" y2=\"90\" />\n",
       "  <line x1=\"106\" y1=\"14\" x2=\"106\" y2=\"90\" />\n",
       "  <line x1=\"144\" y1=\"14\" x2=\"144\" y2=\"90\" style=\"stroke-width:2\" />\n",
       "\n",
       "  <!-- Colored Rectangle -->\n",
       "  <polygon points=\"24.9485979497544,14.948597949754403 144.9485979497544,14.948597949754403 144.9485979497544,90.51490966321036 24.9485979497544,90.51490966321036\" style=\"fill:#ECB172A0;stroke-width:0\"/>\n",
       "\n",
       "  <!-- Text -->\n",
       "  <text x=\"84.948598\" y=\"110.514910\" font-size=\"1.0rem\" font-weight=\"100\" text-anchor=\"middle\" >2066</text>\n",
       "  <text x=\"164.948598\" y=\"52.731754\" font-size=\"1.0rem\" font-weight=\"100\" text-anchor=\"middle\" transform=\"rotate(-90,164.948598,52.731754)\">1301</text>\n",
       "  <text x=\"7.474299\" y=\"103.040611\" font-size=\"1.0rem\" font-weight=\"100\" text-anchor=\"middle\" transform=\"rotate(45,7.474299,103.040611)\">6</text>\n",
       "</svg>\n",
       "        </td>\n",
       "    </tr>\n",
       "</table>"
      ],
      "text/plain": [
       "dask.array<from-zarr, shape=(6, 1301, 2066), dtype=uint16, chunksize=(1, 656, 704), chunktype=numpy.ndarray>"
      ]
     },
     "execution_count": 28,
     "metadata": {},
     "output_type": "execute_result"
    }
   ],
   "source": [
    "c2r.pyramid[2]"
   ]
  },
  {
   "cell_type": "code",
   "execution_count": 59,
   "metadata": {},
   "outputs": [
    {
     "ename": "NameError",
     "evalue": "name 'cr1' is not defined",
     "output_type": "error",
     "traceback": [
      "\u001b[0;31m---------------------------------------------------------------------------\u001b[0m",
      "\u001b[0;31mNameError\u001b[0m                                 Traceback (most recent call last)",
      "Cell \u001b[0;32mIn[59], line 1\u001b[0m\n\u001b[0;32m----> 1\u001b[0m \u001b[43mcr1\u001b[49m\u001b[38;5;241m.\u001b[39mpixel\n",
      "\u001b[0;31mNameError\u001b[0m: name 'cr1' is not defined"
     ]
    }
   ],
   "source": [
    "cr1.pixel"
   ]
  },
  {
   "cell_type": "code",
   "execution_count": null,
   "metadata": {},
   "outputs": [],
   "source": []
  }
 ],
 "metadata": {
  "kernelspec": {
   "display_name": "jupyter",
   "language": "python",
   "name": "python3"
  },
  "language_info": {
   "codemirror_mode": {
    "name": "ipython",
    "version": 3
   },
   "file_extension": ".py",
   "mimetype": "text/x-python",
   "name": "python",
   "nbconvert_exporter": "python",
   "pygments_lexer": "ipython3",
   "version": "3.11.8"
  }
 },
 "nbformat": 4,
 "nbformat_minor": 2
}
