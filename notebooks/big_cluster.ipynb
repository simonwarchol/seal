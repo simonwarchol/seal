{
 "cells": [
  {
   "cell_type": "code",
   "execution_count": 1,
   "metadata": {},
   "outputs": [
    {
     "name": "stderr",
     "output_type": "stream",
     "text": [
      "/Users/swarchol/mambaforge/envs/mattress/lib/python3.11/site-packages/tqdm/auto.py:21: TqdmWarning: IProgress not found. Please update jupyter and ipywidgets. See https://ipywidgets.readthedocs.io/en/stable/user_install.html\n",
      "  from .autonotebook import tqdm as notebook_tqdm\n"
     ]
    }
   ],
   "source": [
    "\n",
    "import tifffile as tf\n",
    "import zarr\n",
    "import pandas as pd\n",
    "import numpy as np\n",
    "import matplotlib.pyplot as plt\n",
    "from tqdm.auto import tqdm\n",
    "from scipy.spatial import KDTree\n",
    "import numpy as np\n",
    "import pandas as pd\n",
    "import zarr\n",
    "from scipy.spatial import KDTree\n",
    "import tifffile as tf\n",
    "import matplotlib.pyplot as plt\n",
    "from tqdm import tqdm\n",
    "import dask.array as da\n",
    "import pickle\n",
    "from sklearn.ensemble import RandomForestClassifier\n",
    "from sklearn.inspection import permutation_importance\n",
    "from sklearn.cluster import KMeans\n",
    "\n",
    "\n"
   ]
  },
  {
   "cell_type": "code",
   "execution_count": 2,
   "metadata": {},
   "outputs": [],
   "source": [
    "cluster_df = pd.read_parquet('/Volumes/Simon/Greg/for_simon.parquet')"
   ]
  },
  {
   "cell_type": "code",
   "execution_count": 3,
   "metadata": {},
   "outputs": [
    {
     "data": {
      "text/plain": [
       "Index(['CellID', 'Hoechst0', 'Hoechst1', 'Hoechst2', 'anti_CD3', 'anti_CD45RO',\n",
       "       'Hoechst3', 'Keratin_570', 'aSMA_660', 'Hoechst4', 'CD4_488', 'CD45_PE',\n",
       "       'PD1_647', 'Hoechst5', 'CD20_488', 'CD68_555', 'CD8a_660', 'Hoechst6',\n",
       "       'CD163_488', 'FOXP3_570', 'PDL1_647', 'Hoechst7', 'Ecad_488',\n",
       "       'Vimentin_555', 'CDX2_647', 'Hoechst8', 'LaminABC_488', 'Desmin_555',\n",
       "       'CD31_647', 'Hoechst9', 'PCNA_488', 'CollagenIV_647', 'X_centroid',\n",
       "       'Y_centroid', 'Area', 'MajorAxisLength', 'MinorAxisLength',\n",
       "       'Eccentricity', 'Solidity', 'Extent', 'Orientation', 'Sample',\n",
       "       'Condition', 'Replicate', 'emb1', 'emb2', 'cluster_2d'],\n",
       "      dtype='object')"
      ]
     },
     "execution_count": 3,
     "metadata": {},
     "output_type": "execute_result"
    }
   ],
   "source": [
    "cluster_df.columns"
   ]
  },
  {
   "cell_type": "code",
   "execution_count": 6,
   "metadata": {},
   "outputs": [],
   "source": [
    "cluster_columns = ['Hoechst0', 'Hoechst1', 'Hoechst2', 'anti_CD3', 'anti_CD45RO',\n",
    "       'Hoechst3', 'Keratin_570', 'aSMA_660', 'Hoechst4', 'CD4_488', 'CD45_PE',\n",
    "       'PD1_647', 'Hoechst5', 'CD20_488', 'CD68_555', 'CD8a_660', 'Hoechst6',\n",
    "       'CD163_488', 'FOXP3_570', 'PDL1_647', 'Hoechst7', 'Ecad_488',\n",
    "       'Vimentin_555', 'CDX2_647', 'Hoechst8', 'LaminABC_488', 'Desmin_555',\n",
    "       'CD31_647', 'Hoechst9', 'PCNA_488', 'CollagenIV_647',]\n",
    "\n",
    "# K Mean cluster the data into 10 clusters\n",
    "kmeans = KMeans(n_clusters=10, random_state=0).fit(cluster_df[cluster_columns])"
   ]
  },
  {
   "cell_type": "code",
   "execution_count": 7,
   "metadata": {},
   "outputs": [],
   "source": [
    "cluster_df['kmeans'] = kmeans.labels_\n",
    "# save to csv \n",
    "cluster_df.to_csv('/Volumes/Simon/Greg/greg_umap.csv')"
   ]
  },
  {
   "cell_type": "code",
   "execution_count": 3,
   "metadata": {},
   "outputs": [],
   "source": [
    "# full_csv = pd.read_csv('/Volumes/Simon/Greg/unmicst-WD-76845-097_cellRing.csv')"
   ]
  },
  {
   "cell_type": "code",
   "execution_count": 5,
   "metadata": {},
   "outputs": [],
   "source": []
  },
  {
   "cell_type": "code",
   "execution_count": 98,
   "metadata": {},
   "outputs": [
    {
     "data": {
      "text/plain": [
       "(array([10, 11, 11, 12, 12, 12, 13, 13, 13, 13, 13, 13, 13, 14, 14, 14, 14,\n",
       "        14, 14, 14, 14, 15, 15, 15, 15, 15, 15, 15, 15, 15, 15, 16, 16, 16,\n",
       "        16, 16, 16, 16, 16, 16, 16, 17, 17, 17, 17, 17, 17, 17, 17, 17, 17,\n",
       "        17, 18, 18, 18, 18, 18, 18, 18, 18, 18, 18, 18, 19, 19, 19, 19, 19,\n",
       "        19, 19, 19, 20, 20, 20]),\n",
       " array([17930, 17929, 17930, 17928, 17929, 17930, 17925, 17926, 17927,\n",
       "        17928, 17929, 17930, 17931, 17924, 17925, 17926, 17927, 17928,\n",
       "        17929, 17930, 17931, 17922, 17923, 17924, 17925, 17926, 17927,\n",
       "        17928, 17929, 17930, 17931, 17921, 17922, 17923, 17924, 17925,\n",
       "        17926, 17927, 17928, 17929, 17930, 17920, 17921, 17922, 17923,\n",
       "        17924, 17925, 17926, 17927, 17928, 17929, 17930, 17919, 17920,\n",
       "        17921, 17922, 17923, 17924, 17925, 17926, 17927, 17928, 17929,\n",
       "        17920, 17921, 17922, 17923, 17924, 17925, 17926, 17927, 17923,\n",
       "        17924, 17925]))"
      ]
     },
     "execution_count": 98,
     "metadata": {},
     "output_type": "execute_result"
    }
   ],
   "source": [
    "np.where(np.array(image_zarr) == 1)"
   ]
  },
  {
   "cell_type": "markdown",
   "metadata": {},
   "source": []
  },
  {
   "cell_type": "code",
   "execution_count": 103,
   "metadata": {},
   "outputs": [
    {
     "name": "stderr",
     "output_type": "stream",
     "text": [
      " 59%|█████▉    | 16049/27120 [05:47<03:59, 46.22it/s]\n"
     ]
    },
    {
     "ename": "KeyboardInterrupt",
     "evalue": "",
     "output_type": "error",
     "traceback": [
      "\u001b[0;31m---------------------------------------------------------------------------\u001b[0m",
      "\u001b[0;31mKeyboardInterrupt\u001b[0m                         Traceback (most recent call last)",
      "Cell \u001b[0;32mIn[103]\u001b[0m\n\u001b[1;32m      0\u001b[0m <Error retrieving source code with stack_data see ipython/ipython#13598>\n",
      "\u001b[0;31mKeyboardInterrupt\u001b[0m: "
     ]
    }
   ],
   "source": []
  },
  {
   "cell_type": "code",
   "execution_count": 1,
   "metadata": {},
   "outputs": [
    {
     "ename": "NameError",
     "evalue": "name 'np' is not defined",
     "output_type": "error",
     "traceback": [
      "\u001b[0;31m---------------------------------------------------------------------------\u001b[0m",
      "\u001b[0;31mNameError\u001b[0m                                 Traceback (most recent call last)",
      "Cell \u001b[0;32mIn[1], line 1\u001b[0m\n\u001b[0;32m----> 1\u001b[0m \u001b[43mnp\u001b[49m\u001b[38;5;241m.\u001b[39marray(index_map[\u001b[38;5;241m1\u001b[39m])\n",
      "\u001b[0;31mNameError\u001b[0m: name 'np' is not defined"
     ]
    }
   ],
   "source": []
  },
  {
   "cell_type": "code",
   "execution_count": 12,
   "metadata": {},
   "outputs": [
    {
     "name": "stderr",
     "output_type": "stream",
     "text": [
      "<tifffile.TiffFile 'tiled-mask.ome.tif'> OME series contains index out of range, raised IndexError('index 1 out of range(1)')\n",
      "<tifffile.TiffFile 'tiled-mask.ome.tif'> OME series contains index out of range, raised IndexError('index 2 out of range(1)')\n",
      "<tifffile.TiffFile 'tiled-mask.ome.tif'> OME series contains index out of range, raised IndexError('index 3 out of range(1)')\n",
      "<tifffile.TiffFile 'tiled-mask.ome.tif'> OME series contains index out of range, raised IndexError('index 4 out of range(1)')\n",
      "<tifffile.TiffFile 'tiled-mask.ome.tif'> OME series contains index out of range, raised IndexError('index 5 out of range(1)')\n"
     ]
    },
    {
     "data": {
      "text/plain": [
       "<zarr.hierarchy.Group '/'>"
      ]
     },
     "execution_count": 12,
     "metadata": {},
     "output_type": "execute_result"
    }
   ],
   "source": []
  },
  {
   "cell_type": "code",
   "execution_count": 17,
   "metadata": {},
   "outputs": [],
   "source": [
    "np_image_zarr = np.array(tiled_zarr[0])"
   ]
  },
  {
   "cell_type": "code",
   "execution_count": 18,
   "metadata": {},
   "outputs": [
    {
     "name": "stderr",
     "output_type": "stream",
     "text": [
      " 90%|████████▉ | 24366/27120 [03:36<00:19, 138.07it/s] "
     ]
    },
    {
     "ename": "",
     "evalue": "",
     "output_type": "error",
     "traceback": [
      "\u001b[1;31mThe Kernel crashed while executing code in the current cell or a previous cell. \n",
      "\u001b[1;31mPlease review the code in the cell(s) to identify a possible cause of the failure. \n",
      "\u001b[1;31mClick <a href='https://aka.ms/vscodeJupyterKernelCrash'>here</a> for more info. \n",
      "\u001b[1;31mView Jupyter <a href='command:jupyter.viewOutput'>log</a> for further details."
     ]
    }
   ],
   "source": []
  },
  {
   "cell_type": "code",
   "execution_count": null,
   "metadata": {},
   "outputs": [],
   "source": []
  }
 ],
 "metadata": {
  "kernelspec": {
   "display_name": "mattress",
   "language": "python",
   "name": "python3"
  },
  "language_info": {
   "codemirror_mode": {
    "name": "ipython",
    "version": 3
   },
   "file_extension": ".py",
   "mimetype": "text/x-python",
   "name": "python",
   "nbconvert_exporter": "python",
   "pygments_lexer": "ipython3",
   "version": "3.11.9"
  }
 },
 "nbformat": 4,
 "nbformat_minor": 2
}
