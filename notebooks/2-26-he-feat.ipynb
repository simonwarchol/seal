{
 "cells": [
  {
   "cell_type": "code",
   "execution_count": 38,
   "metadata": {},
   "outputs": [],
   "source": [
    "import tifffile as tf \n",
    "import zarr \n",
    "import palom\n",
    "import numpy as np\n",
    "from tqdm import tqdm\n",
    "import pickle \n",
    "\n",
    "\n",
    "seg_path = '/Users/swarchol/Desktop/VAE OUTPUT/cellRing_from_mcmicro.ome.tif'\n",
    "\n",
    "with tf.TiffFile(seg_path, is_ome=False) as imgio:\n",
    "    seg = zarr.open(imgio.series[0].aszarr())\n",
    "\n",
    "np_img = np.array(seg[0])\n",
    "\n",
    "\n",
    "img_path = '/Users/swarchol/Desktop/VAE OUTPUT/LSP26239_OMEROpostHE_registered.ome.tiff'\n",
    "\n",
    "with tf.TiffFile(img_path, is_ome=False) as imgio:\n",
    "    img = zarr.open(imgio.series[0].aszarr())\n",
    "\n",
    "\n",
    "\n",
    "\n",
    "\n"
   ]
  },
  {
   "cell_type": "code",
   "execution_count": 42,
   "metadata": {},
   "outputs": [
    {
     "data": {
      "text/plain": [
       "array([221, 256, 204], dtype=uint16)"
      ]
     },
     "execution_count": 42,
     "metadata": {},
     "output_type": "execute_result"
    }
   ],
   "source": []
  },
  {
   "cell_type": "code",
   "execution_count": 37,
   "metadata": {},
   "outputs": [
    {
     "data": {
      "text/plain": [
       "array([[2029, 8178],\n",
       "       [2030, 8175],\n",
       "       [2030, 8176],\n",
       "       ...,\n",
       "       [2056, 8174],\n",
       "       [2056, 8175],\n",
       "       [2056, 8176]])"
      ]
     },
     "execution_count": 37,
     "metadata": {},
     "output_type": "execute_result"
    }
   ],
   "source": [
    "np.argwhere(np_img == 2)\n"
   ]
  },
  {
   "cell_type": "code",
   "execution_count": null,
   "metadata": {},
   "outputs": [
    {
     "name": "stderr",
     "output_type": "stream",
     "text": [
      "  0%|          | 4/41626 [00:00<38:45, 17.90it/s]"
     ]
    },
    {
     "name": "stdout",
     "output_type": "stream",
     "text": [
      "Writing\n"
     ]
    },
    {
     "name": "stderr",
     "output_type": "stream",
     "text": [
      "  2%|▏         | 1000/41626 [00:55<37:24, 18.10it/s]"
     ]
    },
    {
     "name": "stdout",
     "output_type": "stream",
     "text": [
      "Writing\n"
     ]
    },
    {
     "name": "stderr",
     "output_type": "stream",
     "text": [
      "  5%|▍         | 2000/41626 [01:58<41:42, 15.83it/s]  "
     ]
    },
    {
     "name": "stdout",
     "output_type": "stream",
     "text": [
      "Writing\n"
     ]
    },
    {
     "name": "stderr",
     "output_type": "stream",
     "text": [
      "  7%|▋         | 3000/41626 [03:05<36:00, 17.88it/s]  "
     ]
    },
    {
     "name": "stdout",
     "output_type": "stream",
     "text": [
      "Writing\n"
     ]
    },
    {
     "name": "stderr",
     "output_type": "stream",
     "text": [
      " 10%|▉         | 4000/41626 [04:14<35:37, 17.60it/s]   "
     ]
    },
    {
     "name": "stdout",
     "output_type": "stream",
     "text": [
      "Writing\n"
     ]
    },
    {
     "name": "stderr",
     "output_type": "stream",
     "text": [
      " 12%|█▏        | 5000/41626 [05:35<39:32, 15.44it/s]   "
     ]
    },
    {
     "name": "stdout",
     "output_type": "stream",
     "text": [
      "Writing\n"
     ]
    },
    {
     "name": "stderr",
     "output_type": "stream",
     "text": [
      " 14%|█▍        | 5999/41626 [07:06<38:03, 15.60it/s]   "
     ]
    },
    {
     "name": "stdout",
     "output_type": "stream",
     "text": [
      "Writing\n"
     ]
    },
    {
     "name": "stderr",
     "output_type": "stream",
     "text": [
      " 17%|█▋        | 6999/41626 [08:48<33:49, 17.07it/s]   "
     ]
    },
    {
     "name": "stdout",
     "output_type": "stream",
     "text": [
      "Writing\n"
     ]
    },
    {
     "name": "stderr",
     "output_type": "stream",
     "text": [
      " 19%|█▉        | 7999/41626 [12:38<32:10, 17.42it/s]    "
     ]
    },
    {
     "name": "stdout",
     "output_type": "stream",
     "text": [
      "Writing\n"
     ]
    },
    {
     "name": "stderr",
     "output_type": "stream",
     "text": [
      " 22%|██▏       | 8999/41626 [16:50<32:04, 16.95it/s]    "
     ]
    },
    {
     "name": "stdout",
     "output_type": "stream",
     "text": [
      "Writing\n"
     ]
    },
    {
     "name": "stderr",
     "output_type": "stream",
     "text": [
      " 24%|██▍       | 10000/41626 [26:23<38:47, 13.59it/s]   "
     ]
    },
    {
     "name": "stdout",
     "output_type": "stream",
     "text": [
      "Writing\n"
     ]
    },
    {
     "name": "stderr",
     "output_type": "stream",
     "text": [
      " 26%|██▋       | 11000/41626 [35:11<28:40, 17.80it/s]    "
     ]
    },
    {
     "name": "stdout",
     "output_type": "stream",
     "text": [
      "Writing\n"
     ]
    },
    {
     "name": "stderr",
     "output_type": "stream",
     "text": [
      " 26%|██▋       | 11000/41626 [35:22<28:40, 17.80it/s]Exception ignored in: <generator object tqdm.__iter__ at 0x16b663480>\n",
      "Traceback (most recent call last):\n",
      "  File \"/Users/swarchol/mambaforge/envs/jupyter/lib/python3.11/site-packages/tqdm/std.py\", line 1196, in __iter__\n",
      "    self.close()\n",
      "  File \"/Users/swarchol/mambaforge/envs/jupyter/lib/python3.11/site-packages/tqdm/std.py\", line 1265, in close\n",
      "    def close(self):\n",
      "\n",
      "KeyboardInterrupt: \n",
      " 26%|██▋       | 11000/41626 [38:16<1:46:34,  4.79it/s]\n"
     ]
    },
    {
     "ename": "KeyboardInterrupt",
     "evalue": "",
     "output_type": "error",
     "traceback": [
      "\u001b[0;31m---------------------------------------------------------------------------\u001b[0m",
      "\u001b[0;31mKeyboardInterrupt\u001b[0m                         Traceback (most recent call last)",
      "Cell \u001b[0;32mIn[35], line 14\u001b[0m\n\u001b[1;32m     11\u001b[0m \u001b[38;5;28mprint\u001b[39m(\u001b[38;5;124m'\u001b[39m\u001b[38;5;124mWriting\u001b[39m\u001b[38;5;124m'\u001b[39m)\n\u001b[1;32m     12\u001b[0m \u001b[38;5;28;01mwith\u001b[39;00m \u001b[38;5;28mopen\u001b[39m(\u001b[38;5;124m'\u001b[39m\u001b[38;5;124mid_to_coords.pkl\u001b[39m\u001b[38;5;124m'\u001b[39m, \u001b[38;5;124m'\u001b[39m\u001b[38;5;124mwb\u001b[39m\u001b[38;5;124m'\u001b[39m) \u001b[38;5;28;01mas\u001b[39;00m f:\n\u001b[0;32m---> 14\u001b[0m     pickle\u001b[38;5;241m.\u001b[39mdump(id_to_coords, f)\n",
      "\u001b[0;31mKeyboardInterrupt\u001b[0m: "
     ]
    }
   ],
   "source": [
    "id_vals = {}\n",
    "\n",
    "for i in tqdm(range(np_img.shape[0])):\n",
    "    for j in range(np_img.shape[1]):\n",
    "        val = np_img[i, j]\n",
    "        if val == 0:\n",
    "            continue\n",
    "        else:\n",
    "            pixel_vals = \n",
    "    #     elif val in id_to_coords:\n",
    "    #         id_to_coords[val].append((i, j))\n",
    "    #     else:\n",
    "    #         id_to_coords[val] = [(i, j)]\n",
    "    # if i % 1000 == 0:\n",
    "    #     print('Writing')\n",
    "    #     with open('id_to_coords.pkl', 'wb') as f:\n",
    "\n",
    "    #         pickle.dump(id_to_coords, f)\n",
    "        "
   ]
  },
  {
   "cell_type": "code",
   "execution_count": null,
   "metadata": {},
   "outputs": [],
   "source": []
  }
 ],
 "metadata": {
  "kernelspec": {
   "display_name": "jupyter",
   "language": "python",
   "name": "python3"
  },
  "language_info": {
   "codemirror_mode": {
    "name": "ipython",
    "version": 3
   },
   "file_extension": ".py",
   "mimetype": "text/x-python",
   "name": "python",
   "nbconvert_exporter": "python",
   "pygments_lexer": "ipython3",
   "version": "3.11.8"
  }
 },
 "nbformat": 4,
 "nbformat_minor": 2
}
